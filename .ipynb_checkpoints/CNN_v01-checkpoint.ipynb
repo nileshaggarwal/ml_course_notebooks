{
 "cells": [
  {
   "cell_type": "code",
   "execution_count": 1,
   "id": "bc200c30",
   "metadata": {},
   "outputs": [],
   "source": [
    "import numpy as np\n",
    "import pandas as pd\n",
    "%matplotlib inline\n",
    "import matplotlib as mpl\n",
    "import matplotlib.pyplot as plt\n"
   ]
  },
  {
   "cell_type": "code",
   "execution_count": 2,
   "id": "87c9b14c",
   "metadata": {},
   "outputs": [
    {
     "name": "stderr",
     "output_type": "stream",
     "text": [
      "2022-07-03 18:22:33.848689: W tensorflow/stream_executor/platform/default/dso_loader.cc:64] Could not load dynamic library 'libcudart.so.11.0'; dlerror: libcudart.so.11.0: cannot open shared object file: No such file or directory\n",
      "2022-07-03 18:22:33.848764: I tensorflow/stream_executor/cuda/cudart_stub.cc:29] Ignore above cudart dlerror if you do not have a GPU set up on your machine.\n"
     ]
    }
   ],
   "source": [
    "import tensorflow as tf\n",
    "from tensorflow import keras\n"
   ]
  },
  {
   "cell_type": "code",
   "execution_count": 3,
   "id": "86185f6a",
   "metadata": {},
   "outputs": [],
   "source": [
    "fashion_mnist=keras.datasets.fashion_mnist\n",
    "(X_train_full, y_train_full), (X_test, y_test) = fashion_mnist.load_data()"
   ]
  },
  {
   "cell_type": "code",
   "execution_count": 4,
   "id": "1fadb789",
   "metadata": {},
   "outputs": [],
   "source": [
    "class_name=['T-shirt/top','Trouser','Pullover','Dress','Coat','Sandal','Shirt','Sneaker','Bag','Ankle Boot']"
   ]
  },
  {
   "cell_type": "markdown",
   "id": "0219312d",
   "metadata": {},
   "source": [
    "# Data Reshape"
   ]
  },
  {
   "cell_type": "code",
   "execution_count": 5,
   "id": "71519b9a",
   "metadata": {},
   "outputs": [],
   "source": [
    "X_train_full=X_train_full.reshape((60000,28,28,1))\n",
    "X_test=X_test.reshape((10000,28,28,1))"
   ]
  },
  {
   "cell_type": "code",
   "execution_count": 6,
   "id": "bacc8cb8",
   "metadata": {},
   "outputs": [],
   "source": [
    "X_train_n=X_train_full/255.\n",
    "X_test_n=X_test/255."
   ]
  },
  {
   "cell_type": "code",
   "execution_count": 7,
   "id": "ea1cc969",
   "metadata": {},
   "outputs": [],
   "source": [
    "X_valid,X_train=X_train_n[:5000],X_train_n[5000:]\n",
    "y_valid,y_train=y_train_full[:5000],y_train_full[5000:]\n",
    "X_test=X_test_n"
   ]
  },
  {
   "cell_type": "code",
   "execution_count": 8,
   "id": "7b04ba1f",
   "metadata": {},
   "outputs": [],
   "source": [
    "np.random.seed(42)\n",
    "tf.random.set_seed(42)"
   ]
  },
  {
   "cell_type": "code",
   "execution_count": 10,
   "id": "56344a58",
   "metadata": {},
   "outputs": [
    {
     "name": "stderr",
     "output_type": "stream",
     "text": [
      "2022-07-03 15:34:14.548529: W tensorflow/stream_executor/platform/default/dso_loader.cc:64] Could not load dynamic library 'libcuda.so.1'; dlerror: libcuda.so.1: cannot open shared object file: No such file or directory\n",
      "2022-07-03 15:34:14.548601: W tensorflow/stream_executor/cuda/cuda_driver.cc:269] failed call to cuInit: UNKNOWN ERROR (303)\n",
      "2022-07-03 15:34:14.548658: I tensorflow/stream_executor/cuda/cuda_diagnostics.cc:156] kernel driver does not appear to be running on this host (nilesh-Inspiron-3521): /proc/driver/nvidia/version does not exist\n"
     ]
    }
   ],
   "source": [
    "model=keras.models.Sequential()\n",
    "model.add(keras.layers.Conv2D(filters=32,kernel_size=(3,3),strides=1,padding='valid',activation='relu',input_shape=(28,28,1)))\n",
    "model.add(keras.layers.MaxPooling2D(2,2))\n",
    "model.add(keras.layers.Flatten())\n",
    "model.add(keras.layers.Dense(300,activation='relu'))\n",
    "model.add(keras.layers.Dense(100,activation='relu'))\n",
    "model.add(keras.layers.Dense(10,activation='softmax'))"
   ]
  },
  {
   "cell_type": "code",
   "execution_count": 11,
   "id": "ea1fe98d",
   "metadata": {},
   "outputs": [
    {
     "name": "stdout",
     "output_type": "stream",
     "text": [
      "Model: \"sequential\"\n",
      "_________________________________________________________________\n",
      " Layer (type)                Output Shape              Param #   \n",
      "=================================================================\n",
      " conv2d (Conv2D)             (None, 26, 26, 32)        320       \n",
      "                                                                 \n",
      " max_pooling2d (MaxPooling2D  (None, 13, 13, 32)       0         \n",
      " )                                                               \n",
      "                                                                 \n",
      " flatten (Flatten)           (None, 5408)              0         \n",
      "                                                                 \n",
      " dense (Dense)               (None, 300)               1622700   \n",
      "                                                                 \n",
      " dense_1 (Dense)             (None, 100)               30100     \n",
      "                                                                 \n",
      " dense_2 (Dense)             (None, 10)                1010      \n",
      "                                                                 \n",
      "=================================================================\n",
      "Total params: 1,654,130\n",
      "Trainable params: 1,654,130\n",
      "Non-trainable params: 0\n",
      "_________________________________________________________________\n"
     ]
    }
   ],
   "source": [
    "model.summary()"
   ]
  },
  {
   "cell_type": "code",
   "execution_count": 12,
   "id": "6a124376",
   "metadata": {},
   "outputs": [],
   "source": [
    "import pydot"
   ]
  },
  {
   "cell_type": "code",
   "execution_count": 13,
   "id": "73149da1",
   "metadata": {},
   "outputs": [
    {
     "data": {
      "image/png": "[encoded data removed]",
      "text/plain": [
       "<IPython.core.display.Image object>"
      ]
     },
     "execution_count": 13,
     "metadata": {},
     "output_type": "execute_result"
    }
   ],
   "source": [
    "keras.utils.plot_model(model)"
   ]
  },
  {
   "cell_type": "code",
   "execution_count": 14,
   "id": "6949ca05",
   "metadata": {},
   "outputs": [],
   "source": [
    "model.compile(loss='sparse_categorical_crossentropy',\n",
    "             optimizer='sgd',\n",
    "             metrics=['accuracy'])"
   ]
  },
  {
   "cell_type": "code",
   "execution_count": 16,
   "id": "c40dae31",
   "metadata": {},
   "outputs": [
    {
     "name": "stdout",
     "output_type": "stream",
     "text": [
      "Epoch 1/20\n",
      "860/860 [==============================] - 56s 65ms/step - loss: 0.5689 - accuracy: 0.7935 - val_loss: 0.6300 - val_accuracy: 0.7760\n",
      "Epoch 2/20\n",
      "860/860 [==============================] - 49s 57ms/step - loss: 0.4945 - accuracy: 0.8205 - val_loss: 0.4684 - val_accuracy: 0.8276\n",
      "Epoch 3/20\n",
      "860/860 [==============================] - 50s 58ms/step - loss: 0.4543 - accuracy: 0.8360 - val_loss: 0.8422 - val_accuracy: 0.7204\n",
      "Epoch 4/20\n",
      "860/860 [==============================] - 48s 56ms/step - loss: 0.4250 - accuracy: 0.8486 - val_loss: 0.4039 - val_accuracy: 0.8586\n",
      "Epoch 5/20\n",
      "860/860 [==============================] - 46s 53ms/step - loss: 0.4050 - accuracy: 0.8549 - val_loss: 0.4225 - val_accuracy: 0.8514\n",
      "Epoch 6/20\n",
      "860/860 [==============================] - 49s 57ms/step - loss: 0.3835 - accuracy: 0.8627 - val_loss: 0.3688 - val_accuracy: 0.8724\n",
      "Epoch 7/20\n",
      "860/860 [==============================] - 58s 68ms/step - loss: 0.3678 - accuracy: 0.8694 - val_loss: 0.4005 - val_accuracy: 0.8588\n",
      "Epoch 8/20\n",
      "860/860 [==============================] - 54s 63ms/step - loss: 0.3537 - accuracy: 0.8727 - val_loss: 0.5044 - val_accuracy: 0.8140\n",
      "Epoch 9/20\n",
      "860/860 [==============================] - 57s 66ms/step - loss: 0.3407 - accuracy: 0.8763 - val_loss: 0.3657 - val_accuracy: 0.8682\n",
      "Epoch 10/20\n",
      "860/860 [==============================] - 62s 72ms/step - loss: 0.3295 - accuracy: 0.8814 - val_loss: 0.3810 - val_accuracy: 0.8618\n",
      "Epoch 11/20\n",
      "860/860 [==============================] - 46s 54ms/step - loss: 0.3183 - accuracy: 0.8842 - val_loss: 0.3421 - val_accuracy: 0.8770\n",
      "Epoch 12/20\n",
      "860/860 [==============================] - 43s 51ms/step - loss: 0.3072 - accuracy: 0.8882 - val_loss: 0.3223 - val_accuracy: 0.8892\n",
      "Epoch 13/20\n",
      "860/860 [==============================] - 43s 50ms/step - loss: 0.3008 - accuracy: 0.8902 - val_loss: 0.3290 - val_accuracy: 0.8864\n",
      "Epoch 14/20\n",
      "860/860 [==============================] - 45s 52ms/step - loss: 0.2925 - accuracy: 0.8927 - val_loss: 0.3906 - val_accuracy: 0.8548\n",
      "Epoch 15/20\n",
      "860/860 [==============================] - 49s 57ms/step - loss: 0.2850 - accuracy: 0.8969 - val_loss: 0.3792 - val_accuracy: 0.8674\n",
      "Epoch 16/20\n",
      "860/860 [==============================] - 50s 58ms/step - loss: 0.2790 - accuracy: 0.8988 - val_loss: 0.2925 - val_accuracy: 0.8928\n",
      "Epoch 17/20\n",
      "860/860 [==============================] - 50s 58ms/step - loss: 0.2717 - accuracy: 0.9008 - val_loss: 0.4031 - val_accuracy: 0.8618\n",
      "Epoch 18/20\n",
      "860/860 [==============================] - 58s 67ms/step - loss: 0.2666 - accuracy: 0.9020 - val_loss: 0.3572 - val_accuracy: 0.8728\n",
      "Epoch 19/20\n",
      "860/860 [==============================] - 54s 63ms/step - loss: 0.2606 - accuracy: 0.9046 - val_loss: 0.3053 - val_accuracy: 0.8916\n",
      "Epoch 20/20\n",
      "860/860 [==============================] - 53s 61ms/step - loss: 0.2554 - accuracy: 0.9066 - val_loss: 0.3242 - val_accuracy: 0.8842\n"
     ]
    }
   ],
   "source": [
    "model_history=model.fit(X_train,y_train,epochs=20,batch_size=64,validation_data=(X_valid,y_valid))"
   ]
  },
  {
   "cell_type": "code",
   "execution_count": 17,
   "id": "4e8d60eb",
   "metadata": {},
   "outputs": [
    {
     "data": {
      "image/png": "[encoded data removed]",
      "text/plain": [
       "<Figure size 576x360 with 1 Axes>"
      ]
     },
     "metadata": {
      "needs_background": "light"
     },
     "output_type": "display_data"
    }
   ],
   "source": [
    "pd.DataFrame(model_history.history).plot(figsize=(8,5))\n",
    "plt.grid(True)\n",
    "plt.gca().set_ylim(0,1)\n",
    "plt.show()"
   ]
  },
  {
   "cell_type": "code",
   "execution_count": 18,
   "id": "47e9a618",
   "metadata": {},
   "outputs": [
    {
     "name": "stdout",
     "output_type": "stream",
     "text": [
      "313/313 [==============================] - 4s 14ms/step - loss: 0.3340 - accuracy: 0.8792\n"
     ]
    }
   ],
   "source": [
    "ev=model.evaluate(X_test,y_test)"
   ]
  },
  {
   "cell_type": "code",
   "execution_count": 19,
   "id": "cd374e8d",
   "metadata": {},
   "outputs": [],
   "source": [
    "X_new=X_test[:3]"
   ]
  },
  {
   "cell_type": "code",
   "execution_count": 25,
   "id": "a8205987",
   "metadata": {},
   "outputs": [
    {
     "name": "stdout",
     "output_type": "stream",
     "text": [
      "1/1 [==============================] - 0s 41ms/step\n"
     ]
    },
    {
     "data": {
      "text/plain": [
       "array([9, 2, 1])"
      ]
     },
     "execution_count": 25,
     "metadata": {},
     "output_type": "execute_result"
    }
   ],
   "source": [
    "y_proba=model.predict(X_new).argmax(axis=-1)\n",
    "y_proba"
   ]
  },
  {
   "cell_type": "code",
   "execution_count": 26,
   "id": "e37cceea",
   "metadata": {},
   "outputs": [
    {
     "data": {
      "text/plain": [
       "array([9, 2, 1], dtype=uint8)"
      ]
     },
     "execution_count": 26,
     "metadata": {},
     "output_type": "execute_result"
    }
   ],
   "source": [
    "y_test[:3]"
   ]
  },
  {
   "cell_type": "code",
   "execution_count": 9,
   "id": "3299497f",
   "metadata": {},
   "outputs": [
    {
     "ename": "NameError",
     "evalue": "name 'model' is not defined",
     "output_type": "error",
     "traceback": [
      "\u001b[0;31m---------------------------------------------------------------------------\u001b[0m",
      "\u001b[0;31mNameError\u001b[0m                                 Traceback (most recent call last)",
      "Input \u001b[0;32mIn [9]\u001b[0m, in \u001b[0;36m<cell line: 2>\u001b[0;34m()\u001b[0m\n\u001b[1;32m      1\u001b[0m keras\u001b[38;5;241m.\u001b[39mbackend\u001b[38;5;241m.\u001b[39mclear_session\n\u001b[0;32m----> 2\u001b[0m \u001b[38;5;28;01mdel\u001b[39;00m model\n",
      "\u001b[0;31mNameError\u001b[0m: name 'model' is not defined"
     ]
    }
   ],
   "source": [
    "keras.backend.clear_session\n",
    "del model"
   ]
  },
  {
   "cell_type": "code",
   "execution_count": 12,
   "id": "b369924a",
   "metadata": {},
   "outputs": [],
   "source": [
    "model_a=keras.models.Sequential()\n",
    "model_a.add(keras.layers.Conv2D(filters=32,kernel_size=(3,3),strides=1,padding='valid',activation='relu',input_shape=(28,28,1)))\n",
    "model_a.add(keras.layers.MaxPooling2D(2,2))\n",
    "model_a.add(keras.layers.Flatten())\n",
    "model_a.add(keras.layers.Dense(300,activation='relu'))\n",
    "model_a.add(keras.layers.Dense(100,activation='relu'))\n",
    "model_a.add(keras.layers.Dense(10,activation='softmax'))\n",
    "\n",
    "model_b=keras.models.Sequential()\n",
    "model_b.add(keras.layers.Conv2D(filters=32,kernel_size=(3,3),strides=1,padding='valid',activation='relu',input_shape=(28,28,1)))\n",
    "model_b.add(keras.layers.Flatten())\n",
    "model_b.add(keras.layers.Dense(300,activation='relu'))\n",
    "model_b.add(keras.layers.Dense(100,activation='relu'))\n",
    "model_b.add(keras.layers.Dense(10,activation='softmax'))"
   ]
  },
  {
   "cell_type": "code",
   "execution_count": 13,
   "id": "46344c06",
   "metadata": {},
   "outputs": [
    {
     "name": "stdout",
     "output_type": "stream",
     "text": [
      "Model: \"sequential_2\"\n",
      "_________________________________________________________________\n",
      " Layer (type)                Output Shape              Param #   \n",
      "=================================================================\n",
      " conv2d_2 (Conv2D)           (None, 26, 26, 32)        320       \n",
      "                                                                 \n",
      " max_pooling2d_1 (MaxPooling  (None, 13, 13, 32)       0         \n",
      " 2D)                                                             \n",
      "                                                                 \n",
      " flatten_2 (Flatten)         (None, 5408)              0         \n",
      "                                                                 \n",
      " dense_6 (Dense)             (None, 300)               1622700   \n",
      "                                                                 \n",
      " dense_7 (Dense)             (None, 100)               30100     \n",
      "                                                                 \n",
      " dense_8 (Dense)             (None, 10)                1010      \n",
      "                                                                 \n",
      "=================================================================\n",
      "Total params: 1,654,130\n",
      "Trainable params: 1,654,130\n",
      "Non-trainable params: 0\n",
      "_________________________________________________________________\n"
     ]
    }
   ],
   "source": [
    "model_a.summary()"
   ]
  },
  {
   "cell_type": "code",
   "execution_count": 14,
   "id": "92b98d1a",
   "metadata": {},
   "outputs": [
    {
     "name": "stdout",
     "output_type": "stream",
     "text": [
      "Model: \"sequential_3\"\n",
      "_________________________________________________________________\n",
      " Layer (type)                Output Shape              Param #   \n",
      "=================================================================\n",
      " conv2d_3 (Conv2D)           (None, 26, 26, 32)        320       \n",
      "                                                                 \n",
      " flatten_3 (Flatten)         (None, 21632)             0         \n",
      "                                                                 \n",
      " dense_9 (Dense)             (None, 300)               6489900   \n",
      "                                                                 \n",
      " dense_10 (Dense)            (None, 100)               30100     \n",
      "                                                                 \n",
      " dense_11 (Dense)            (None, 10)                1010      \n",
      "                                                                 \n",
      "=================================================================\n",
      "Total params: 6,521,330\n",
      "Trainable params: 6,521,330\n",
      "Non-trainable params: 0\n",
      "_________________________________________________________________\n"
     ]
    }
   ],
   "source": [
    "model_b.summary()"
   ]
  },
  {
   "cell_type": "code",
   "execution_count": null,
   "id": "e03550fb",
   "metadata": {},
   "outputs": [],
   "source": []
  },
  {
   "cell_type": "code",
   "execution_count": 15,
   "id": "612764ef",
   "metadata": {},
   "outputs": [],
   "source": [
    "model_a.compile(loss='sparse_categorical_crossentropy',\n",
    "             optimizer='sgd',\n",
    "             metrics=['accuracy'])\n",
    "\n",
    "model_b.compile(loss='sparse_categorical_crossentropy',\n",
    "             optimizer='sgd',\n",
    "             metrics=['accuracy'])"
   ]
  },
  {
   "cell_type": "code",
   "execution_count": 17,
   "id": "02300ce5",
   "metadata": {},
   "outputs": [
    {
     "name": "stdout",
     "output_type": "stream",
     "text": [
      "Epoch 1/3\n",
      "860/860 [==============================] - 55s 64ms/step - loss: 0.7562 - accuracy: 0.7365 - val_loss: 0.7263 - val_accuracy: 0.7374\n",
      "Epoch 2/3\n",
      "860/860 [==============================] - 56s 65ms/step - loss: 0.5262 - accuracy: 0.8101 - val_loss: 0.4964 - val_accuracy: 0.8118\n",
      "Epoch 3/3\n",
      "860/860 [==============================] - 51s 60ms/step - loss: 0.4715 - accuracy: 0.8302 - val_loss: 1.0452 - val_accuracy: 0.6908\n"
     ]
    }
   ],
   "source": [
    "model_history_a=model_a.fit(X_train,y_train,epochs=3,batch_size=64,validation_data=(X_valid,y_valid))"
   ]
  },
  {
   "cell_type": "code",
   "execution_count": 18,
   "id": "956200ad",
   "metadata": {},
   "outputs": [
    {
     "name": "stdout",
     "output_type": "stream",
     "text": [
      "Epoch 1/3\n",
      "860/860 [==============================] - 126s 145ms/step - loss: 0.7702 - accuracy: 0.7383 - val_loss: 0.7858 - val_accuracy: 0.7182\n",
      "Epoch 2/3\n",
      "860/860 [==============================] - 127s 148ms/step - loss: 0.4960 - accuracy: 0.8217 - val_loss: 0.4525 - val_accuracy: 0.8330\n",
      "Epoch 3/3\n",
      "860/860 [==============================] - 126s 146ms/step - loss: 0.4395 - accuracy: 0.8405 - val_loss: 0.8158 - val_accuracy: 0.7252\n"
     ]
    }
   ],
   "source": [
    "model_history_b=model_b.fit(X_train,y_train,epochs=3,batch_size=64,validation_data=(X_valid,y_valid))"
   ]
  },
  {
   "cell_type": "code",
   "execution_count": null,
   "id": "ca1dcfe4",
   "metadata": {},
   "outputs": [],
   "source": []
  },
  {
   "cell_type": "code",
   "execution_count": null,
   "id": "8b33e82f",
   "metadata": {},
   "outputs": [],
   "source": []
  },
  {
   "cell_type": "code",
   "execution_count": null,
   "id": "25f5a11d",
   "metadata": {},
   "outputs": [],
   "source": []
  },
  {
   "cell_type": "code",
   "execution_count": null,
   "id": "6f5262c2",
   "metadata": {},
   "outputs": [],
   "source": []
  },
  {
   "cell_type": "code",
   "execution_count": null,
   "id": "cb3b77e2",
   "metadata": {},
   "outputs": [],
   "source": []
  },
  {
   "cell_type": "code",
   "execution_count": null,
   "id": "6065c62a",
   "metadata": {},
   "outputs": [],
   "source": []
  }
 ],
 "metadata": {
  "kernelspec": {
   "display_name": "Python 3 (ipykernel)",
   "language": "python",
   "name": "python3"
  },
  "language_info": {
   "codemirror_mode": {
    "name": "ipython",
    "version": 3
   },
   "file_extension": ".py",
   "mimetype": "text/x-python",
   "name": "python",
   "nbconvert_exporter": "python",
   "pygments_lexer": "ipython3",
   "version": "3.9.12"
  }
 },
 "nbformat": 4,
 "nbformat_minor": 5
}
