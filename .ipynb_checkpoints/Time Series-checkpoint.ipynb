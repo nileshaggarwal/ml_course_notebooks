{
 "cells": [
  {
   "cell_type": "code",
   "execution_count": 1,
   "id": "94885fef",
   "metadata": {},
   "outputs": [],
   "source": [
    "import pandas as pd\n",
    "import numpy as np\n"
   ]
  },
  {
   "cell_type": "code",
   "execution_count": 2,
   "id": "daede283",
   "metadata": {},
   "outputs": [
    {
     "data": {
      "text/plain": [
       "'/home/nilesh/Desktop/ml_course_notebooks'"
      ]
     },
     "execution_count": 2,
     "metadata": {},
     "output_type": "execute_result"
    }
   ],
   "source": [
    "pwd"
   ]
  },
  {
   "cell_type": "code",
   "execution_count": 3,
   "id": "fbb17f2d",
   "metadata": {},
   "outputs": [],
   "source": [
    "dataframe = pd.read_csv('../TimeSeries/daily-total-female-births-CA.csv', header=0)"
   ]
  },
  {
   "cell_type": "code",
   "execution_count": 4,
   "id": "0a8002f6",
   "metadata": {},
   "outputs": [],
   "source": [
    "df2 = pd.read_csv('../TimeSeries/daily-total-female-births-CA.csv', header=0 , parse_dates=[0])"
   ]
  },
  {
   "cell_type": "code",
   "execution_count": 5,
   "id": "1d96ffd6",
   "metadata": {},
   "outputs": [
    {
     "name": "stderr",
     "output_type": "stream",
     "text": [
      "/tmp/ipykernel_4182/1214167102.py:1: FutureWarning: The squeeze argument has been deprecated and will be removed in a future version. Append .squeeze(\"columns\") to the call to squeeze.\n",
      "\n",
      "\n",
      "  series = pd.read_csv('../TimeSeries/daily-total-female-births-CA.csv', header=0, parse_dates=[0], index_col=0, squeeze=True)\n"
     ]
    }
   ],
   "source": [
    "series = pd.read_csv('../TimeSeries/daily-total-female-births-CA.csv', header=0, parse_dates=[0], index_col=0, squeeze=True)"
   ]
  },
  {
   "cell_type": "code",
   "execution_count": 6,
   "id": "e34e4a18",
   "metadata": {},
   "outputs": [
    {
     "data": {
      "text/html": [
       "<div>\n",
       "<style scoped>\n",
       "    .dataframe tbody tr th:only-of-type {\n",
       "        vertical-align: middle;\n",
       "    }\n",
       "\n",
       "    .dataframe tbody tr th {\n",
       "        vertical-align: top;\n",
       "    }\n",
       "\n",
       "    .dataframe thead th {\n",
       "        text-align: right;\n",
       "    }\n",
       "</style>\n",
       "<table border=\"1\" class=\"dataframe\">\n",
       "  <thead>\n",
       "    <tr style=\"text-align: right;\">\n",
       "      <th></th>\n",
       "      <th>date</th>\n",
       "      <th>births</th>\n",
       "    </tr>\n",
       "  </thead>\n",
       "  <tbody>\n",
       "    <tr>\n",
       "      <th>1</th>\n",
       "      <td>1959-01-02</td>\n",
       "      <td>32</td>\n",
       "    </tr>\n",
       "    <tr>\n",
       "      <th>2</th>\n",
       "      <td>1959-01-03</td>\n",
       "      <td>30</td>\n",
       "    </tr>\n",
       "    <tr>\n",
       "      <th>3</th>\n",
       "      <td>1959-01-04</td>\n",
       "      <td>31</td>\n",
       "    </tr>\n",
       "    <tr>\n",
       "      <th>4</th>\n",
       "      <td>1959-01-05</td>\n",
       "      <td>44</td>\n",
       "    </tr>\n",
       "    <tr>\n",
       "      <th>5</th>\n",
       "      <td>1959-01-06</td>\n",
       "      <td>29</td>\n",
       "    </tr>\n",
       "    <tr>\n",
       "      <th>6</th>\n",
       "      <td>1959-01-07</td>\n",
       "      <td>45</td>\n",
       "    </tr>\n",
       "    <tr>\n",
       "      <th>7</th>\n",
       "      <td>1959-01-08</td>\n",
       "      <td>43</td>\n",
       "    </tr>\n",
       "    <tr>\n",
       "      <th>8</th>\n",
       "      <td>1959-01-09</td>\n",
       "      <td>38</td>\n",
       "    </tr>\n",
       "    <tr>\n",
       "      <th>9</th>\n",
       "      <td>1959-01-10</td>\n",
       "      <td>27</td>\n",
       "    </tr>\n",
       "    <tr>\n",
       "      <th>10</th>\n",
       "      <td>1959-01-11</td>\n",
       "      <td>38</td>\n",
       "    </tr>\n",
       "    <tr>\n",
       "      <th>11</th>\n",
       "      <td>1959-01-12</td>\n",
       "      <td>33</td>\n",
       "    </tr>\n",
       "    <tr>\n",
       "      <th>12</th>\n",
       "      <td>1959-01-13</td>\n",
       "      <td>55</td>\n",
       "    </tr>\n",
       "    <tr>\n",
       "      <th>13</th>\n",
       "      <td>1959-01-14</td>\n",
       "      <td>47</td>\n",
       "    </tr>\n",
       "    <tr>\n",
       "      <th>14</th>\n",
       "      <td>1959-01-15</td>\n",
       "      <td>45</td>\n",
       "    </tr>\n",
       "    <tr>\n",
       "      <th>15</th>\n",
       "      <td>1959-01-16</td>\n",
       "      <td>37</td>\n",
       "    </tr>\n",
       "    <tr>\n",
       "      <th>16</th>\n",
       "      <td>1959-01-17</td>\n",
       "      <td>50</td>\n",
       "    </tr>\n",
       "    <tr>\n",
       "      <th>17</th>\n",
       "      <td>1959-01-18</td>\n",
       "      <td>43</td>\n",
       "    </tr>\n",
       "    <tr>\n",
       "      <th>18</th>\n",
       "      <td>1959-01-19</td>\n",
       "      <td>41</td>\n",
       "    </tr>\n",
       "    <tr>\n",
       "      <th>19</th>\n",
       "      <td>1959-01-20</td>\n",
       "      <td>52</td>\n",
       "    </tr>\n",
       "    <tr>\n",
       "      <th>20</th>\n",
       "      <td>1959-01-21</td>\n",
       "      <td>34</td>\n",
       "    </tr>\n",
       "  </tbody>\n",
       "</table>\n",
       "</div>"
      ],
      "text/plain": [
       "         date  births\n",
       "1  1959-01-02      32\n",
       "2  1959-01-03      30\n",
       "3  1959-01-04      31\n",
       "4  1959-01-05      44\n",
       "5  1959-01-06      29\n",
       "6  1959-01-07      45\n",
       "7  1959-01-08      43\n",
       "8  1959-01-09      38\n",
       "9  1959-01-10      27\n",
       "10 1959-01-11      38\n",
       "11 1959-01-12      33\n",
       "12 1959-01-13      55\n",
       "13 1959-01-14      47\n",
       "14 1959-01-15      45\n",
       "15 1959-01-16      37\n",
       "16 1959-01-17      50\n",
       "17 1959-01-18      43\n",
       "18 1959-01-19      41\n",
       "19 1959-01-20      52\n",
       "20 1959-01-21      34"
      ]
     },
     "execution_count": 6,
     "metadata": {},
     "output_type": "execute_result"
    }
   ],
   "source": [
    "df2[(df2['date'] > '1959-01-01') & (df2['date'] <= '1959-01-21')]"
   ]
  },
  {
   "cell_type": "code",
   "execution_count": 7,
   "id": "99ee7d9a",
   "metadata": {},
   "outputs": [],
   "source": [
    "features = df2.copy()\n",
    "features['year'] = df2['date'].dt.year\n",
    "features['month'] = df2['date'].dt.month\n",
    "features['day'] = df2['date'].dt.day"
   ]
  },
  {
   "cell_type": "code",
   "execution_count": 8,
   "id": "f4a0f15c",
   "metadata": {},
   "outputs": [],
   "source": [
    "##Feature Engineering\n",
    "features=df2.copy()\n",
    "features['year']=df2['date'].dt.year\n",
    "features['month']=df2['date'].dt.month\n",
    "features['day']=df2['date'].dt.day"
   ]
  },
  {
   "cell_type": "code",
   "execution_count": 9,
   "id": "18232fac",
   "metadata": {},
   "outputs": [
    {
     "data": {
      "text/html": [
       "<div>\n",
       "<style scoped>\n",
       "    .dataframe tbody tr th:only-of-type {\n",
       "        vertical-align: middle;\n",
       "    }\n",
       "\n",
       "    .dataframe tbody tr th {\n",
       "        vertical-align: top;\n",
       "    }\n",
       "\n",
       "    .dataframe thead th {\n",
       "        text-align: right;\n",
       "    }\n",
       "</style>\n",
       "<table border=\"1\" class=\"dataframe\">\n",
       "  <thead>\n",
       "    <tr style=\"text-align: right;\">\n",
       "      <th></th>\n",
       "      <th>date</th>\n",
       "      <th>births</th>\n",
       "      <th>year</th>\n",
       "      <th>month</th>\n",
       "      <th>day</th>\n",
       "    </tr>\n",
       "  </thead>\n",
       "  <tbody>\n",
       "    <tr>\n",
       "      <th>0</th>\n",
       "      <td>1959-01-01</td>\n",
       "      <td>35</td>\n",
       "      <td>1959</td>\n",
       "      <td>1</td>\n",
       "      <td>1</td>\n",
       "    </tr>\n",
       "    <tr>\n",
       "      <th>1</th>\n",
       "      <td>1959-01-02</td>\n",
       "      <td>32</td>\n",
       "      <td>1959</td>\n",
       "      <td>1</td>\n",
       "      <td>2</td>\n",
       "    </tr>\n",
       "    <tr>\n",
       "      <th>2</th>\n",
       "      <td>1959-01-03</td>\n",
       "      <td>30</td>\n",
       "      <td>1959</td>\n",
       "      <td>1</td>\n",
       "      <td>3</td>\n",
       "    </tr>\n",
       "    <tr>\n",
       "      <th>3</th>\n",
       "      <td>1959-01-04</td>\n",
       "      <td>31</td>\n",
       "      <td>1959</td>\n",
       "      <td>1</td>\n",
       "      <td>4</td>\n",
       "    </tr>\n",
       "    <tr>\n",
       "      <th>4</th>\n",
       "      <td>1959-01-05</td>\n",
       "      <td>44</td>\n",
       "      <td>1959</td>\n",
       "      <td>1</td>\n",
       "      <td>5</td>\n",
       "    </tr>\n",
       "  </tbody>\n",
       "</table>\n",
       "</div>"
      ],
      "text/plain": [
       "        date  births  year  month  day\n",
       "0 1959-01-01      35  1959      1    1\n",
       "1 1959-01-02      32  1959      1    2\n",
       "2 1959-01-03      30  1959      1    3\n",
       "3 1959-01-04      31  1959      1    4\n",
       "4 1959-01-05      44  1959      1    5"
      ]
     },
     "execution_count": 9,
     "metadata": {},
     "output_type": "execute_result"
    }
   ],
   "source": [
    "features.head()"
   ]
  },
  {
   "cell_type": "markdown",
   "id": "b33e3a70",
   "metadata": {},
   "source": [
    "\n",
    "# Lag features\n"
   ]
  },
  {
   "cell_type": "code",
   "execution_count": 10,
   "id": "d5be6272",
   "metadata": {},
   "outputs": [],
   "source": [
    "features['lag1']=df2['births'].shift(1)"
   ]
  },
  {
   "cell_type": "code",
   "execution_count": 11,
   "id": "fd1093b2",
   "metadata": {},
   "outputs": [],
   "source": [
    "features['lag2']=df2['births'].shift(365)"
   ]
  },
  {
   "cell_type": "code",
   "execution_count": 12,
   "id": "d7f8ce48",
   "metadata": {},
   "outputs": [
    {
     "data": {
      "text/html": [
       "<div>\n",
       "<style scoped>\n",
       "    .dataframe tbody tr th:only-of-type {\n",
       "        vertical-align: middle;\n",
       "    }\n",
       "\n",
       "    .dataframe tbody tr th {\n",
       "        vertical-align: top;\n",
       "    }\n",
       "\n",
       "    .dataframe thead th {\n",
       "        text-align: right;\n",
       "    }\n",
       "</style>\n",
       "<table border=\"1\" class=\"dataframe\">\n",
       "  <thead>\n",
       "    <tr style=\"text-align: right;\">\n",
       "      <th></th>\n",
       "      <th>date</th>\n",
       "      <th>births</th>\n",
       "      <th>year</th>\n",
       "      <th>month</th>\n",
       "      <th>day</th>\n",
       "      <th>lag1</th>\n",
       "      <th>lag2</th>\n",
       "    </tr>\n",
       "  </thead>\n",
       "  <tbody>\n",
       "    <tr>\n",
       "      <th>0</th>\n",
       "      <td>1959-01-01</td>\n",
       "      <td>35</td>\n",
       "      <td>1959</td>\n",
       "      <td>1</td>\n",
       "      <td>1</td>\n",
       "      <td>NaN</td>\n",
       "      <td>NaN</td>\n",
       "    </tr>\n",
       "    <tr>\n",
       "      <th>1</th>\n",
       "      <td>1959-01-02</td>\n",
       "      <td>32</td>\n",
       "      <td>1959</td>\n",
       "      <td>1</td>\n",
       "      <td>2</td>\n",
       "      <td>35.0</td>\n",
       "      <td>NaN</td>\n",
       "    </tr>\n",
       "    <tr>\n",
       "      <th>2</th>\n",
       "      <td>1959-01-03</td>\n",
       "      <td>30</td>\n",
       "      <td>1959</td>\n",
       "      <td>1</td>\n",
       "      <td>3</td>\n",
       "      <td>32.0</td>\n",
       "      <td>NaN</td>\n",
       "    </tr>\n",
       "    <tr>\n",
       "      <th>3</th>\n",
       "      <td>1959-01-04</td>\n",
       "      <td>31</td>\n",
       "      <td>1959</td>\n",
       "      <td>1</td>\n",
       "      <td>4</td>\n",
       "      <td>30.0</td>\n",
       "      <td>NaN</td>\n",
       "    </tr>\n",
       "    <tr>\n",
       "      <th>4</th>\n",
       "      <td>1959-01-05</td>\n",
       "      <td>44</td>\n",
       "      <td>1959</td>\n",
       "      <td>1</td>\n",
       "      <td>5</td>\n",
       "      <td>31.0</td>\n",
       "      <td>NaN</td>\n",
       "    </tr>\n",
       "  </tbody>\n",
       "</table>\n",
       "</div>"
      ],
      "text/plain": [
       "        date  births  year  month  day  lag1  lag2\n",
       "0 1959-01-01      35  1959      1    1   NaN   NaN\n",
       "1 1959-01-02      32  1959      1    2  35.0   NaN\n",
       "2 1959-01-03      30  1959      1    3  32.0   NaN\n",
       "3 1959-01-04      31  1959      1    4  30.0   NaN\n",
       "4 1959-01-05      44  1959      1    5  31.0   NaN"
      ]
     },
     "execution_count": 12,
     "metadata": {},
     "output_type": "execute_result"
    }
   ],
   "source": [
    "features.head()"
   ]
  },
  {
   "cell_type": "markdown",
   "id": "8ec060b7",
   "metadata": {},
   "source": [
    "# Window features"
   ]
  },
  {
   "cell_type": "code",
   "execution_count": 13,
   "id": "9f4fde1a",
   "metadata": {},
   "outputs": [],
   "source": [
    "features['Roll_mean']=df2['births'].rolling(window=2).mean()"
   ]
  },
  {
   "cell_type": "code",
   "execution_count": 14,
   "id": "f63ed297",
   "metadata": {},
   "outputs": [
    {
     "data": {
      "text/html": [
       "<div>\n",
       "<style scoped>\n",
       "    .dataframe tbody tr th:only-of-type {\n",
       "        vertical-align: middle;\n",
       "    }\n",
       "\n",
       "    .dataframe tbody tr th {\n",
       "        vertical-align: top;\n",
       "    }\n",
       "\n",
       "    .dataframe thead th {\n",
       "        text-align: right;\n",
       "    }\n",
       "</style>\n",
       "<table border=\"1\" class=\"dataframe\">\n",
       "  <thead>\n",
       "    <tr style=\"text-align: right;\">\n",
       "      <th></th>\n",
       "      <th>date</th>\n",
       "      <th>births</th>\n",
       "      <th>year</th>\n",
       "      <th>month</th>\n",
       "      <th>day</th>\n",
       "      <th>lag1</th>\n",
       "      <th>lag2</th>\n",
       "      <th>Roll_mean</th>\n",
       "    </tr>\n",
       "  </thead>\n",
       "  <tbody>\n",
       "    <tr>\n",
       "      <th>0</th>\n",
       "      <td>1959-01-01</td>\n",
       "      <td>35</td>\n",
       "      <td>1959</td>\n",
       "      <td>1</td>\n",
       "      <td>1</td>\n",
       "      <td>NaN</td>\n",
       "      <td>NaN</td>\n",
       "      <td>NaN</td>\n",
       "    </tr>\n",
       "    <tr>\n",
       "      <th>1</th>\n",
       "      <td>1959-01-02</td>\n",
       "      <td>32</td>\n",
       "      <td>1959</td>\n",
       "      <td>1</td>\n",
       "      <td>2</td>\n",
       "      <td>35.0</td>\n",
       "      <td>NaN</td>\n",
       "      <td>33.5</td>\n",
       "    </tr>\n",
       "    <tr>\n",
       "      <th>2</th>\n",
       "      <td>1959-01-03</td>\n",
       "      <td>30</td>\n",
       "      <td>1959</td>\n",
       "      <td>1</td>\n",
       "      <td>3</td>\n",
       "      <td>32.0</td>\n",
       "      <td>NaN</td>\n",
       "      <td>31.0</td>\n",
       "    </tr>\n",
       "    <tr>\n",
       "      <th>3</th>\n",
       "      <td>1959-01-04</td>\n",
       "      <td>31</td>\n",
       "      <td>1959</td>\n",
       "      <td>1</td>\n",
       "      <td>4</td>\n",
       "      <td>30.0</td>\n",
       "      <td>NaN</td>\n",
       "      <td>30.5</td>\n",
       "    </tr>\n",
       "    <tr>\n",
       "      <th>4</th>\n",
       "      <td>1959-01-05</td>\n",
       "      <td>44</td>\n",
       "      <td>1959</td>\n",
       "      <td>1</td>\n",
       "      <td>5</td>\n",
       "      <td>31.0</td>\n",
       "      <td>NaN</td>\n",
       "      <td>37.5</td>\n",
       "    </tr>\n",
       "  </tbody>\n",
       "</table>\n",
       "</div>"
      ],
      "text/plain": [
       "        date  births  year  month  day  lag1  lag2  Roll_mean\n",
       "0 1959-01-01      35  1959      1    1   NaN   NaN        NaN\n",
       "1 1959-01-02      32  1959      1    2  35.0   NaN       33.5\n",
       "2 1959-01-03      30  1959      1    3  32.0   NaN       31.0\n",
       "3 1959-01-04      31  1959      1    4  30.0   NaN       30.5\n",
       "4 1959-01-05      44  1959      1    5  31.0   NaN       37.5"
      ]
     },
     "execution_count": 14,
     "metadata": {},
     "output_type": "execute_result"
    }
   ],
   "source": [
    "features.head()"
   ]
  },
  {
   "cell_type": "code",
   "execution_count": 15,
   "id": "1d6c6a04",
   "metadata": {},
   "outputs": [],
   "source": [
    "features['Roll_max']=df2['births'].rolling(window=3).max()"
   ]
  },
  {
   "cell_type": "code",
   "execution_count": 16,
   "id": "1bfb7bcb",
   "metadata": {},
   "outputs": [
    {
     "data": {
      "text/html": [
       "<div>\n",
       "<style scoped>\n",
       "    .dataframe tbody tr th:only-of-type {\n",
       "        vertical-align: middle;\n",
       "    }\n",
       "\n",
       "    .dataframe tbody tr th {\n",
       "        vertical-align: top;\n",
       "    }\n",
       "\n",
       "    .dataframe thead th {\n",
       "        text-align: right;\n",
       "    }\n",
       "</style>\n",
       "<table border=\"1\" class=\"dataframe\">\n",
       "  <thead>\n",
       "    <tr style=\"text-align: right;\">\n",
       "      <th></th>\n",
       "      <th>date</th>\n",
       "      <th>births</th>\n",
       "      <th>year</th>\n",
       "      <th>month</th>\n",
       "      <th>day</th>\n",
       "      <th>lag1</th>\n",
       "      <th>lag2</th>\n",
       "      <th>Roll_mean</th>\n",
       "      <th>Roll_max</th>\n",
       "    </tr>\n",
       "  </thead>\n",
       "  <tbody>\n",
       "    <tr>\n",
       "      <th>0</th>\n",
       "      <td>1959-01-01</td>\n",
       "      <td>35</td>\n",
       "      <td>1959</td>\n",
       "      <td>1</td>\n",
       "      <td>1</td>\n",
       "      <td>NaN</td>\n",
       "      <td>NaN</td>\n",
       "      <td>NaN</td>\n",
       "      <td>NaN</td>\n",
       "    </tr>\n",
       "    <tr>\n",
       "      <th>1</th>\n",
       "      <td>1959-01-02</td>\n",
       "      <td>32</td>\n",
       "      <td>1959</td>\n",
       "      <td>1</td>\n",
       "      <td>2</td>\n",
       "      <td>35.0</td>\n",
       "      <td>NaN</td>\n",
       "      <td>33.5</td>\n",
       "      <td>NaN</td>\n",
       "    </tr>\n",
       "    <tr>\n",
       "      <th>2</th>\n",
       "      <td>1959-01-03</td>\n",
       "      <td>30</td>\n",
       "      <td>1959</td>\n",
       "      <td>1</td>\n",
       "      <td>3</td>\n",
       "      <td>32.0</td>\n",
       "      <td>NaN</td>\n",
       "      <td>31.0</td>\n",
       "      <td>35.0</td>\n",
       "    </tr>\n",
       "    <tr>\n",
       "      <th>3</th>\n",
       "      <td>1959-01-04</td>\n",
       "      <td>31</td>\n",
       "      <td>1959</td>\n",
       "      <td>1</td>\n",
       "      <td>4</td>\n",
       "      <td>30.0</td>\n",
       "      <td>NaN</td>\n",
       "      <td>30.5</td>\n",
       "      <td>32.0</td>\n",
       "    </tr>\n",
       "    <tr>\n",
       "      <th>4</th>\n",
       "      <td>1959-01-05</td>\n",
       "      <td>44</td>\n",
       "      <td>1959</td>\n",
       "      <td>1</td>\n",
       "      <td>5</td>\n",
       "      <td>31.0</td>\n",
       "      <td>NaN</td>\n",
       "      <td>37.5</td>\n",
       "      <td>44.0</td>\n",
       "    </tr>\n",
       "  </tbody>\n",
       "</table>\n",
       "</div>"
      ],
      "text/plain": [
       "        date  births  year  month  day  lag1  lag2  Roll_mean  Roll_max\n",
       "0 1959-01-01      35  1959      1    1   NaN   NaN        NaN       NaN\n",
       "1 1959-01-02      32  1959      1    2  35.0   NaN       33.5       NaN\n",
       "2 1959-01-03      30  1959      1    3  32.0   NaN       31.0      35.0\n",
       "3 1959-01-04      31  1959      1    4  30.0   NaN       30.5      32.0\n",
       "4 1959-01-05      44  1959      1    5  31.0   NaN       37.5      44.0"
      ]
     },
     "execution_count": 16,
     "metadata": {},
     "output_type": "execute_result"
    }
   ],
   "source": [
    "features.head()"
   ]
  },
  {
   "cell_type": "markdown",
   "id": "7760c05b",
   "metadata": {},
   "source": [
    "# Expanding features"
   ]
  },
  {
   "cell_type": "code",
   "execution_count": 17,
   "id": "f18c71d0",
   "metadata": {},
   "outputs": [],
   "source": [
    "features['Expand_max']=df2['births'].expanding().max()"
   ]
  },
  {
   "cell_type": "code",
   "execution_count": 18,
   "id": "c9a7e7ff",
   "metadata": {},
   "outputs": [
    {
     "data": {
      "text/html": [
       "<div>\n",
       "<style scoped>\n",
       "    .dataframe tbody tr th:only-of-type {\n",
       "        vertical-align: middle;\n",
       "    }\n",
       "\n",
       "    .dataframe tbody tr th {\n",
       "        vertical-align: top;\n",
       "    }\n",
       "\n",
       "    .dataframe thead th {\n",
       "        text-align: right;\n",
       "    }\n",
       "</style>\n",
       "<table border=\"1\" class=\"dataframe\">\n",
       "  <thead>\n",
       "    <tr style=\"text-align: right;\">\n",
       "      <th></th>\n",
       "      <th>date</th>\n",
       "      <th>births</th>\n",
       "      <th>year</th>\n",
       "      <th>month</th>\n",
       "      <th>day</th>\n",
       "      <th>lag1</th>\n",
       "      <th>lag2</th>\n",
       "      <th>Roll_mean</th>\n",
       "      <th>Roll_max</th>\n",
       "      <th>Expand_max</th>\n",
       "    </tr>\n",
       "  </thead>\n",
       "  <tbody>\n",
       "    <tr>\n",
       "      <th>0</th>\n",
       "      <td>1959-01-01</td>\n",
       "      <td>35</td>\n",
       "      <td>1959</td>\n",
       "      <td>1</td>\n",
       "      <td>1</td>\n",
       "      <td>NaN</td>\n",
       "      <td>NaN</td>\n",
       "      <td>NaN</td>\n",
       "      <td>NaN</td>\n",
       "      <td>35.0</td>\n",
       "    </tr>\n",
       "    <tr>\n",
       "      <th>1</th>\n",
       "      <td>1959-01-02</td>\n",
       "      <td>32</td>\n",
       "      <td>1959</td>\n",
       "      <td>1</td>\n",
       "      <td>2</td>\n",
       "      <td>35.0</td>\n",
       "      <td>NaN</td>\n",
       "      <td>33.5</td>\n",
       "      <td>NaN</td>\n",
       "      <td>35.0</td>\n",
       "    </tr>\n",
       "    <tr>\n",
       "      <th>2</th>\n",
       "      <td>1959-01-03</td>\n",
       "      <td>30</td>\n",
       "      <td>1959</td>\n",
       "      <td>1</td>\n",
       "      <td>3</td>\n",
       "      <td>32.0</td>\n",
       "      <td>NaN</td>\n",
       "      <td>31.0</td>\n",
       "      <td>35.0</td>\n",
       "      <td>35.0</td>\n",
       "    </tr>\n",
       "    <tr>\n",
       "      <th>3</th>\n",
       "      <td>1959-01-04</td>\n",
       "      <td>31</td>\n",
       "      <td>1959</td>\n",
       "      <td>1</td>\n",
       "      <td>4</td>\n",
       "      <td>30.0</td>\n",
       "      <td>NaN</td>\n",
       "      <td>30.5</td>\n",
       "      <td>32.0</td>\n",
       "      <td>35.0</td>\n",
       "    </tr>\n",
       "    <tr>\n",
       "      <th>4</th>\n",
       "      <td>1959-01-05</td>\n",
       "      <td>44</td>\n",
       "      <td>1959</td>\n",
       "      <td>1</td>\n",
       "      <td>5</td>\n",
       "      <td>31.0</td>\n",
       "      <td>NaN</td>\n",
       "      <td>37.5</td>\n",
       "      <td>44.0</td>\n",
       "      <td>44.0</td>\n",
       "    </tr>\n",
       "  </tbody>\n",
       "</table>\n",
       "</div>"
      ],
      "text/plain": [
       "        date  births  year  month  day  lag1  lag2  Roll_mean  Roll_max  \\\n",
       "0 1959-01-01      35  1959      1    1   NaN   NaN        NaN       NaN   \n",
       "1 1959-01-02      32  1959      1    2  35.0   NaN       33.5       NaN   \n",
       "2 1959-01-03      30  1959      1    3  32.0   NaN       31.0      35.0   \n",
       "3 1959-01-04      31  1959      1    4  30.0   NaN       30.5      32.0   \n",
       "4 1959-01-05      44  1959      1    5  31.0   NaN       37.5      44.0   \n",
       "\n",
       "   Expand_max  \n",
       "0        35.0  \n",
       "1        35.0  \n",
       "2        35.0  \n",
       "3        35.0  \n",
       "4        44.0  "
      ]
     },
     "execution_count": 18,
     "metadata": {},
     "output_type": "execute_result"
    }
   ],
   "source": [
    "features.head()"
   ]
  },
  {
   "cell_type": "markdown",
   "id": "cb6e82a3",
   "metadata": {},
   "source": [
    "# Downsampling and Upsampling"
   ]
  },
  {
   "cell_type": "code",
   "execution_count": 19,
   "id": "24ac5a1f",
   "metadata": {},
   "outputs": [
    {
     "data": {
      "text/plain": [
       "'/home/nilesh/Desktop/ml_course_notebooks'"
      ]
     },
     "execution_count": 19,
     "metadata": {},
     "output_type": "execute_result"
    }
   ],
   "source": [
    "pwd"
   ]
  },
  {
   "cell_type": "code",
   "execution_count": 20,
   "id": "967fdcd9",
   "metadata": {},
   "outputs": [],
   "source": [
    "miles_df=pd.read_csv('../TimeSeries/us-airlines-monthly-aircraft-miles-flown.csv',header=0,parse_dates=[0])"
   ]
  },
  {
   "cell_type": "code",
   "execution_count": 21,
   "id": "f30dc01e",
   "metadata": {},
   "outputs": [
    {
     "data": {
      "text/html": [
       "<div>\n",
       "<style scoped>\n",
       "    .dataframe tbody tr th:only-of-type {\n",
       "        vertical-align: middle;\n",
       "    }\n",
       "\n",
       "    .dataframe tbody tr th {\n",
       "        vertical-align: top;\n",
       "    }\n",
       "\n",
       "    .dataframe thead th {\n",
       "        text-align: right;\n",
       "    }\n",
       "</style>\n",
       "<table border=\"1\" class=\"dataframe\">\n",
       "  <thead>\n",
       "    <tr style=\"text-align: right;\">\n",
       "      <th></th>\n",
       "      <th>Month</th>\n",
       "      <th>MilesMM</th>\n",
       "    </tr>\n",
       "  </thead>\n",
       "  <tbody>\n",
       "    <tr>\n",
       "      <th>0</th>\n",
       "      <td>1963-01-01</td>\n",
       "      <td>6827</td>\n",
       "    </tr>\n",
       "    <tr>\n",
       "      <th>1</th>\n",
       "      <td>1963-02-01</td>\n",
       "      <td>6178</td>\n",
       "    </tr>\n",
       "    <tr>\n",
       "      <th>2</th>\n",
       "      <td>1963-03-01</td>\n",
       "      <td>7084</td>\n",
       "    </tr>\n",
       "    <tr>\n",
       "      <th>3</th>\n",
       "      <td>1963-04-01</td>\n",
       "      <td>8162</td>\n",
       "    </tr>\n",
       "    <tr>\n",
       "      <th>4</th>\n",
       "      <td>1963-05-01</td>\n",
       "      <td>8462</td>\n",
       "    </tr>\n",
       "  </tbody>\n",
       "</table>\n",
       "</div>"
      ],
      "text/plain": [
       "       Month  MilesMM\n",
       "0 1963-01-01     6827\n",
       "1 1963-02-01     6178\n",
       "2 1963-03-01     7084\n",
       "3 1963-04-01     8162\n",
       "4 1963-05-01     8462"
      ]
     },
     "execution_count": 21,
     "metadata": {},
     "output_type": "execute_result"
    }
   ],
   "source": [
    "miles_df.head()"
   ]
  },
  {
   "cell_type": "markdown",
   "id": "545345bc",
   "metadata": {},
   "source": [
    "# Downsampling"
   ]
  },
  {
   "cell_type": "code",
   "execution_count": 22,
   "id": "6a53e1e2",
   "metadata": {},
   "outputs": [],
   "source": [
    "quarterly_miles_df=miles_df.resample('Q',on='Month').mean()"
   ]
  },
  {
   "cell_type": "code",
   "execution_count": 23,
   "id": "1183810b",
   "metadata": {},
   "outputs": [
    {
     "data": {
      "text/html": [
       "<div>\n",
       "<style scoped>\n",
       "    .dataframe tbody tr th:only-of-type {\n",
       "        vertical-align: middle;\n",
       "    }\n",
       "\n",
       "    .dataframe tbody tr th {\n",
       "        vertical-align: top;\n",
       "    }\n",
       "\n",
       "    .dataframe thead th {\n",
       "        text-align: right;\n",
       "    }\n",
       "</style>\n",
       "<table border=\"1\" class=\"dataframe\">\n",
       "  <thead>\n",
       "    <tr style=\"text-align: right;\">\n",
       "      <th></th>\n",
       "      <th>MilesMM</th>\n",
       "    </tr>\n",
       "    <tr>\n",
       "      <th>Month</th>\n",
       "      <th></th>\n",
       "    </tr>\n",
       "  </thead>\n",
       "  <tbody>\n",
       "    <tr>\n",
       "      <th>1963-03-31</th>\n",
       "      <td>6696.333333</td>\n",
       "    </tr>\n",
       "    <tr>\n",
       "      <th>1963-06-30</th>\n",
       "      <td>8756.000000</td>\n",
       "    </tr>\n",
       "    <tr>\n",
       "      <th>1963-09-30</th>\n",
       "      <td>10392.333333</td>\n",
       "    </tr>\n",
       "    <tr>\n",
       "      <th>1963-12-31</th>\n",
       "      <td>7356.333333</td>\n",
       "    </tr>\n",
       "    <tr>\n",
       "      <th>1964-03-31</th>\n",
       "      <td>7287.666667</td>\n",
       "    </tr>\n",
       "  </tbody>\n",
       "</table>\n",
       "</div>"
      ],
      "text/plain": [
       "                 MilesMM\n",
       "Month                   \n",
       "1963-03-31   6696.333333\n",
       "1963-06-30   8756.000000\n",
       "1963-09-30  10392.333333\n",
       "1963-12-31   7356.333333\n",
       "1964-03-31   7287.666667"
      ]
     },
     "execution_count": 23,
     "metadata": {},
     "output_type": "execute_result"
    }
   ],
   "source": [
    "quarterly_miles_df.head()"
   ]
  },
  {
   "cell_type": "code",
   "execution_count": 24,
   "id": "92aecb8a",
   "metadata": {},
   "outputs": [],
   "source": [
    "yearly_miles_df=miles_df.resample('A',on='Month').sum()"
   ]
  },
  {
   "cell_type": "code",
   "execution_count": 25,
   "id": "d1e2ba8e",
   "metadata": {},
   "outputs": [
    {
     "data": {
      "text/html": [
       "<div>\n",
       "<style scoped>\n",
       "    .dataframe tbody tr th:only-of-type {\n",
       "        vertical-align: middle;\n",
       "    }\n",
       "\n",
       "    .dataframe tbody tr th {\n",
       "        vertical-align: top;\n",
       "    }\n",
       "\n",
       "    .dataframe thead th {\n",
       "        text-align: right;\n",
       "    }\n",
       "</style>\n",
       "<table border=\"1\" class=\"dataframe\">\n",
       "  <thead>\n",
       "    <tr style=\"text-align: right;\">\n",
       "      <th></th>\n",
       "      <th>MilesMM</th>\n",
       "    </tr>\n",
       "    <tr>\n",
       "      <th>Month</th>\n",
       "      <th></th>\n",
       "    </tr>\n",
       "  </thead>\n",
       "  <tbody>\n",
       "    <tr>\n",
       "      <th>1963-12-31</th>\n",
       "      <td>99603</td>\n",
       "    </tr>\n",
       "    <tr>\n",
       "      <th>1964-12-31</th>\n",
       "      <td>106192</td>\n",
       "    </tr>\n",
       "    <tr>\n",
       "      <th>1965-12-31</th>\n",
       "      <td>115431</td>\n",
       "    </tr>\n",
       "    <tr>\n",
       "      <th>1966-12-31</th>\n",
       "      <td>119154</td>\n",
       "    </tr>\n",
       "    <tr>\n",
       "      <th>1967-12-31</th>\n",
       "      <td>126515</td>\n",
       "    </tr>\n",
       "  </tbody>\n",
       "</table>\n",
       "</div>"
      ],
      "text/plain": [
       "            MilesMM\n",
       "Month              \n",
       "1963-12-31    99603\n",
       "1964-12-31   106192\n",
       "1965-12-31   115431\n",
       "1966-12-31   119154\n",
       "1967-12-31   126515"
      ]
     },
     "execution_count": 25,
     "metadata": {},
     "output_type": "execute_result"
    }
   ],
   "source": [
    "yearly_miles_df.head()"
   ]
  },
  {
   "cell_type": "code",
   "execution_count": null,
   "id": "ccd05e19",
   "metadata": {},
   "outputs": [],
   "source": []
  },
  {
   "cell_type": "code",
   "execution_count": null,
   "id": "b0471084",
   "metadata": {},
   "outputs": [],
   "source": []
  },
  {
   "cell_type": "markdown",
   "id": "34739814",
   "metadata": {},
   "source": [
    "# Upsampling"
   ]
  },
  {
   "cell_type": "code",
   "execution_count": 26,
   "id": "60741460",
   "metadata": {},
   "outputs": [],
   "source": [
    "upsampled_miles_df=miles_df.resample('D',on='Month').mean()"
   ]
  },
  {
   "cell_type": "code",
   "execution_count": 27,
   "id": "f0d0db97",
   "metadata": {},
   "outputs": [
    {
     "data": {
      "text/html": [
       "<div>\n",
       "<style scoped>\n",
       "    .dataframe tbody tr th:only-of-type {\n",
       "        vertical-align: middle;\n",
       "    }\n",
       "\n",
       "    .dataframe tbody tr th {\n",
       "        vertical-align: top;\n",
       "    }\n",
       "\n",
       "    .dataframe thead th {\n",
       "        text-align: right;\n",
       "    }\n",
       "</style>\n",
       "<table border=\"1\" class=\"dataframe\">\n",
       "  <thead>\n",
       "    <tr style=\"text-align: right;\">\n",
       "      <th></th>\n",
       "      <th>MilesMM</th>\n",
       "    </tr>\n",
       "    <tr>\n",
       "      <th>Month</th>\n",
       "      <th></th>\n",
       "    </tr>\n",
       "  </thead>\n",
       "  <tbody>\n",
       "    <tr>\n",
       "      <th>1963-01-01</th>\n",
       "      <td>6827.0</td>\n",
       "    </tr>\n",
       "    <tr>\n",
       "      <th>1963-01-02</th>\n",
       "      <td>NaN</td>\n",
       "    </tr>\n",
       "    <tr>\n",
       "      <th>1963-01-03</th>\n",
       "      <td>NaN</td>\n",
       "    </tr>\n",
       "    <tr>\n",
       "      <th>1963-01-04</th>\n",
       "      <td>NaN</td>\n",
       "    </tr>\n",
       "    <tr>\n",
       "      <th>1963-01-05</th>\n",
       "      <td>NaN</td>\n",
       "    </tr>\n",
       "    <tr>\n",
       "      <th>1963-01-06</th>\n",
       "      <td>NaN</td>\n",
       "    </tr>\n",
       "    <tr>\n",
       "      <th>1963-01-07</th>\n",
       "      <td>NaN</td>\n",
       "    </tr>\n",
       "    <tr>\n",
       "      <th>1963-01-08</th>\n",
       "      <td>NaN</td>\n",
       "    </tr>\n",
       "    <tr>\n",
       "      <th>1963-01-09</th>\n",
       "      <td>NaN</td>\n",
       "    </tr>\n",
       "    <tr>\n",
       "      <th>1963-01-10</th>\n",
       "      <td>NaN</td>\n",
       "    </tr>\n",
       "    <tr>\n",
       "      <th>1963-01-11</th>\n",
       "      <td>NaN</td>\n",
       "    </tr>\n",
       "    <tr>\n",
       "      <th>1963-01-12</th>\n",
       "      <td>NaN</td>\n",
       "    </tr>\n",
       "    <tr>\n",
       "      <th>1963-01-13</th>\n",
       "      <td>NaN</td>\n",
       "    </tr>\n",
       "    <tr>\n",
       "      <th>1963-01-14</th>\n",
       "      <td>NaN</td>\n",
       "    </tr>\n",
       "    <tr>\n",
       "      <th>1963-01-15</th>\n",
       "      <td>NaN</td>\n",
       "    </tr>\n",
       "    <tr>\n",
       "      <th>1963-01-16</th>\n",
       "      <td>NaN</td>\n",
       "    </tr>\n",
       "    <tr>\n",
       "      <th>1963-01-17</th>\n",
       "      <td>NaN</td>\n",
       "    </tr>\n",
       "    <tr>\n",
       "      <th>1963-01-18</th>\n",
       "      <td>NaN</td>\n",
       "    </tr>\n",
       "    <tr>\n",
       "      <th>1963-01-19</th>\n",
       "      <td>NaN</td>\n",
       "    </tr>\n",
       "    <tr>\n",
       "      <th>1963-01-20</th>\n",
       "      <td>NaN</td>\n",
       "    </tr>\n",
       "    <tr>\n",
       "      <th>1963-01-21</th>\n",
       "      <td>NaN</td>\n",
       "    </tr>\n",
       "    <tr>\n",
       "      <th>1963-01-22</th>\n",
       "      <td>NaN</td>\n",
       "    </tr>\n",
       "    <tr>\n",
       "      <th>1963-01-23</th>\n",
       "      <td>NaN</td>\n",
       "    </tr>\n",
       "    <tr>\n",
       "      <th>1963-01-24</th>\n",
       "      <td>NaN</td>\n",
       "    </tr>\n",
       "    <tr>\n",
       "      <th>1963-01-25</th>\n",
       "      <td>NaN</td>\n",
       "    </tr>\n",
       "    <tr>\n",
       "      <th>1963-01-26</th>\n",
       "      <td>NaN</td>\n",
       "    </tr>\n",
       "    <tr>\n",
       "      <th>1963-01-27</th>\n",
       "      <td>NaN</td>\n",
       "    </tr>\n",
       "    <tr>\n",
       "      <th>1963-01-28</th>\n",
       "      <td>NaN</td>\n",
       "    </tr>\n",
       "    <tr>\n",
       "      <th>1963-01-29</th>\n",
       "      <td>NaN</td>\n",
       "    </tr>\n",
       "    <tr>\n",
       "      <th>1963-01-30</th>\n",
       "      <td>NaN</td>\n",
       "    </tr>\n",
       "  </tbody>\n",
       "</table>\n",
       "</div>"
      ],
      "text/plain": [
       "            MilesMM\n",
       "Month              \n",
       "1963-01-01   6827.0\n",
       "1963-01-02      NaN\n",
       "1963-01-03      NaN\n",
       "1963-01-04      NaN\n",
       "1963-01-05      NaN\n",
       "1963-01-06      NaN\n",
       "1963-01-07      NaN\n",
       "1963-01-08      NaN\n",
       "1963-01-09      NaN\n",
       "1963-01-10      NaN\n",
       "1963-01-11      NaN\n",
       "1963-01-12      NaN\n",
       "1963-01-13      NaN\n",
       "1963-01-14      NaN\n",
       "1963-01-15      NaN\n",
       "1963-01-16      NaN\n",
       "1963-01-17      NaN\n",
       "1963-01-18      NaN\n",
       "1963-01-19      NaN\n",
       "1963-01-20      NaN\n",
       "1963-01-21      NaN\n",
       "1963-01-22      NaN\n",
       "1963-01-23      NaN\n",
       "1963-01-24      NaN\n",
       "1963-01-25      NaN\n",
       "1963-01-26      NaN\n",
       "1963-01-27      NaN\n",
       "1963-01-28      NaN\n",
       "1963-01-29      NaN\n",
       "1963-01-30      NaN"
      ]
     },
     "execution_count": 27,
     "metadata": {},
     "output_type": "execute_result"
    }
   ],
   "source": [
    "upsampled_miles_df.head(30)"
   ]
  },
  {
   "cell_type": "code",
   "execution_count": 28,
   "id": "398bee5a",
   "metadata": {},
   "outputs": [],
   "source": [
    "interpolated_miles_df=upsampled_miles_df.interpolate(method='linear')"
   ]
  },
  {
   "cell_type": "code",
   "execution_count": 29,
   "id": "98c06f8e",
   "metadata": {},
   "outputs": [
    {
     "data": {
      "text/html": [
       "<div>\n",
       "<style scoped>\n",
       "    .dataframe tbody tr th:only-of-type {\n",
       "        vertical-align: middle;\n",
       "    }\n",
       "\n",
       "    .dataframe tbody tr th {\n",
       "        vertical-align: top;\n",
       "    }\n",
       "\n",
       "    .dataframe thead th {\n",
       "        text-align: right;\n",
       "    }\n",
       "</style>\n",
       "<table border=\"1\" class=\"dataframe\">\n",
       "  <thead>\n",
       "    <tr style=\"text-align: right;\">\n",
       "      <th></th>\n",
       "      <th>MilesMM</th>\n",
       "    </tr>\n",
       "    <tr>\n",
       "      <th>Month</th>\n",
       "      <th></th>\n",
       "    </tr>\n",
       "  </thead>\n",
       "  <tbody>\n",
       "    <tr>\n",
       "      <th>1963-01-01</th>\n",
       "      <td>6827.000000</td>\n",
       "    </tr>\n",
       "    <tr>\n",
       "      <th>1963-01-02</th>\n",
       "      <td>6806.064516</td>\n",
       "    </tr>\n",
       "    <tr>\n",
       "      <th>1963-01-03</th>\n",
       "      <td>6785.129032</td>\n",
       "    </tr>\n",
       "    <tr>\n",
       "      <th>1963-01-04</th>\n",
       "      <td>6764.193548</td>\n",
       "    </tr>\n",
       "    <tr>\n",
       "      <th>1963-01-05</th>\n",
       "      <td>6743.258065</td>\n",
       "    </tr>\n",
       "    <tr>\n",
       "      <th>1963-01-06</th>\n",
       "      <td>6722.322581</td>\n",
       "    </tr>\n",
       "    <tr>\n",
       "      <th>1963-01-07</th>\n",
       "      <td>6701.387097</td>\n",
       "    </tr>\n",
       "    <tr>\n",
       "      <th>1963-01-08</th>\n",
       "      <td>6680.451613</td>\n",
       "    </tr>\n",
       "    <tr>\n",
       "      <th>1963-01-09</th>\n",
       "      <td>6659.516129</td>\n",
       "    </tr>\n",
       "    <tr>\n",
       "      <th>1963-01-10</th>\n",
       "      <td>6638.580645</td>\n",
       "    </tr>\n",
       "    <tr>\n",
       "      <th>1963-01-11</th>\n",
       "      <td>6617.645161</td>\n",
       "    </tr>\n",
       "    <tr>\n",
       "      <th>1963-01-12</th>\n",
       "      <td>6596.709677</td>\n",
       "    </tr>\n",
       "    <tr>\n",
       "      <th>1963-01-13</th>\n",
       "      <td>6575.774194</td>\n",
       "    </tr>\n",
       "    <tr>\n",
       "      <th>1963-01-14</th>\n",
       "      <td>6554.838710</td>\n",
       "    </tr>\n",
       "    <tr>\n",
       "      <th>1963-01-15</th>\n",
       "      <td>6533.903226</td>\n",
       "    </tr>\n",
       "    <tr>\n",
       "      <th>1963-01-16</th>\n",
       "      <td>6512.967742</td>\n",
       "    </tr>\n",
       "    <tr>\n",
       "      <th>1963-01-17</th>\n",
       "      <td>6492.032258</td>\n",
       "    </tr>\n",
       "    <tr>\n",
       "      <th>1963-01-18</th>\n",
       "      <td>6471.096774</td>\n",
       "    </tr>\n",
       "    <tr>\n",
       "      <th>1963-01-19</th>\n",
       "      <td>6450.161290</td>\n",
       "    </tr>\n",
       "    <tr>\n",
       "      <th>1963-01-20</th>\n",
       "      <td>6429.225806</td>\n",
       "    </tr>\n",
       "    <tr>\n",
       "      <th>1963-01-21</th>\n",
       "      <td>6408.290323</td>\n",
       "    </tr>\n",
       "    <tr>\n",
       "      <th>1963-01-22</th>\n",
       "      <td>6387.354839</td>\n",
       "    </tr>\n",
       "    <tr>\n",
       "      <th>1963-01-23</th>\n",
       "      <td>6366.419355</td>\n",
       "    </tr>\n",
       "    <tr>\n",
       "      <th>1963-01-24</th>\n",
       "      <td>6345.483871</td>\n",
       "    </tr>\n",
       "    <tr>\n",
       "      <th>1963-01-25</th>\n",
       "      <td>6324.548387</td>\n",
       "    </tr>\n",
       "    <tr>\n",
       "      <th>1963-01-26</th>\n",
       "      <td>6303.612903</td>\n",
       "    </tr>\n",
       "    <tr>\n",
       "      <th>1963-01-27</th>\n",
       "      <td>6282.677419</td>\n",
       "    </tr>\n",
       "    <tr>\n",
       "      <th>1963-01-28</th>\n",
       "      <td>6261.741935</td>\n",
       "    </tr>\n",
       "    <tr>\n",
       "      <th>1963-01-29</th>\n",
       "      <td>6240.806452</td>\n",
       "    </tr>\n",
       "    <tr>\n",
       "      <th>1963-01-30</th>\n",
       "      <td>6219.870968</td>\n",
       "    </tr>\n",
       "  </tbody>\n",
       "</table>\n",
       "</div>"
      ],
      "text/plain": [
       "                MilesMM\n",
       "Month                  \n",
       "1963-01-01  6827.000000\n",
       "1963-01-02  6806.064516\n",
       "1963-01-03  6785.129032\n",
       "1963-01-04  6764.193548\n",
       "1963-01-05  6743.258065\n",
       "1963-01-06  6722.322581\n",
       "1963-01-07  6701.387097\n",
       "1963-01-08  6680.451613\n",
       "1963-01-09  6659.516129\n",
       "1963-01-10  6638.580645\n",
       "1963-01-11  6617.645161\n",
       "1963-01-12  6596.709677\n",
       "1963-01-13  6575.774194\n",
       "1963-01-14  6554.838710\n",
       "1963-01-15  6533.903226\n",
       "1963-01-16  6512.967742\n",
       "1963-01-17  6492.032258\n",
       "1963-01-18  6471.096774\n",
       "1963-01-19  6450.161290\n",
       "1963-01-20  6429.225806\n",
       "1963-01-21  6408.290323\n",
       "1963-01-22  6387.354839\n",
       "1963-01-23  6366.419355\n",
       "1963-01-24  6345.483871\n",
       "1963-01-25  6324.548387\n",
       "1963-01-26  6303.612903\n",
       "1963-01-27  6282.677419\n",
       "1963-01-28  6261.741935\n",
       "1963-01-29  6240.806452\n",
       "1963-01-30  6219.870968"
      ]
     },
     "execution_count": 29,
     "metadata": {},
     "output_type": "execute_result"
    }
   ],
   "source": [
    "interpolated_miles_df.head(30)"
   ]
  },
  {
   "cell_type": "code",
   "execution_count": 30,
   "id": "9a9879b7",
   "metadata": {},
   "outputs": [
    {
     "data": {
      "text/plain": [
       "<AxesSubplot:xlabel='Month'>"
      ]
     },
     "execution_count": 30,
     "metadata": {},
     "output_type": "execute_result"
    },
    {
     "data": {
      "image/png": "[encoded data removed]",
      "text/plain": [
       "<Figure size 432x288 with 1 Axes>"
      ]
     },
     "metadata": {
      "needs_background": "light"
     },
     "output_type": "display_data"
    }
   ],
   "source": [
    "interpolated_miles_df.plot()"
   ]
  },
  {
   "cell_type": "code",
   "execution_count": 31,
   "id": "9a86469f",
   "metadata": {},
   "outputs": [],
   "source": [
    "poly_interpolated_miles_df=upsampled_miles_df.interpolate(method='spline',order=2)"
   ]
  },
  {
   "cell_type": "code",
   "execution_count": 32,
   "id": "8cb75198",
   "metadata": {},
   "outputs": [
    {
     "data": {
      "text/html": [
       "<div>\n",
       "<style scoped>\n",
       "    .dataframe tbody tr th:only-of-type {\n",
       "        vertical-align: middle;\n",
       "    }\n",
       "\n",
       "    .dataframe tbody tr th {\n",
       "        vertical-align: top;\n",
       "    }\n",
       "\n",
       "    .dataframe thead th {\n",
       "        text-align: right;\n",
       "    }\n",
       "</style>\n",
       "<table border=\"1\" class=\"dataframe\">\n",
       "  <thead>\n",
       "    <tr style=\"text-align: right;\">\n",
       "      <th></th>\n",
       "      <th>MilesMM</th>\n",
       "    </tr>\n",
       "    <tr>\n",
       "      <th>Month</th>\n",
       "      <th></th>\n",
       "    </tr>\n",
       "  </thead>\n",
       "  <tbody>\n",
       "    <tr>\n",
       "      <th>1963-01-01</th>\n",
       "      <td>6827.000000</td>\n",
       "    </tr>\n",
       "    <tr>\n",
       "      <th>1963-01-02</th>\n",
       "      <td>6775.328886</td>\n",
       "    </tr>\n",
       "    <tr>\n",
       "      <th>1963-01-03</th>\n",
       "      <td>6725.739829</td>\n",
       "    </tr>\n",
       "    <tr>\n",
       "      <th>1963-01-04</th>\n",
       "      <td>6678.197709</td>\n",
       "    </tr>\n",
       "    <tr>\n",
       "      <th>1963-01-05</th>\n",
       "      <td>6632.702526</td>\n",
       "    </tr>\n",
       "    <tr>\n",
       "      <th>1963-01-06</th>\n",
       "      <td>6589.254280</td>\n",
       "    </tr>\n",
       "    <tr>\n",
       "      <th>1963-01-07</th>\n",
       "      <td>6547.852971</td>\n",
       "    </tr>\n",
       "    <tr>\n",
       "      <th>1963-01-08</th>\n",
       "      <td>6508.498600</td>\n",
       "    </tr>\n",
       "    <tr>\n",
       "      <th>1963-01-09</th>\n",
       "      <td>6471.191166</td>\n",
       "    </tr>\n",
       "    <tr>\n",
       "      <th>1963-01-10</th>\n",
       "      <td>6435.930669</td>\n",
       "    </tr>\n",
       "    <tr>\n",
       "      <th>1963-01-11</th>\n",
       "      <td>6402.717110</td>\n",
       "    </tr>\n",
       "    <tr>\n",
       "      <th>1963-01-12</th>\n",
       "      <td>6371.550488</td>\n",
       "    </tr>\n",
       "    <tr>\n",
       "      <th>1963-01-13</th>\n",
       "      <td>6342.430803</td>\n",
       "    </tr>\n",
       "    <tr>\n",
       "      <th>1963-01-14</th>\n",
       "      <td>6315.358055</td>\n",
       "    </tr>\n",
       "    <tr>\n",
       "      <th>1963-01-15</th>\n",
       "      <td>6290.332244</td>\n",
       "    </tr>\n",
       "    <tr>\n",
       "      <th>1963-01-16</th>\n",
       "      <td>6267.353371</td>\n",
       "    </tr>\n",
       "    <tr>\n",
       "      <th>1963-01-17</th>\n",
       "      <td>6246.421435</td>\n",
       "    </tr>\n",
       "    <tr>\n",
       "      <th>1963-01-18</th>\n",
       "      <td>6227.536436</td>\n",
       "    </tr>\n",
       "    <tr>\n",
       "      <th>1963-01-19</th>\n",
       "      <td>6210.698374</td>\n",
       "    </tr>\n",
       "    <tr>\n",
       "      <th>1963-01-20</th>\n",
       "      <td>6195.907250</td>\n",
       "    </tr>\n",
       "    <tr>\n",
       "      <th>1963-01-21</th>\n",
       "      <td>6183.163063</td>\n",
       "    </tr>\n",
       "    <tr>\n",
       "      <th>1963-01-22</th>\n",
       "      <td>6172.465813</td>\n",
       "    </tr>\n",
       "    <tr>\n",
       "      <th>1963-01-23</th>\n",
       "      <td>6163.815500</td>\n",
       "    </tr>\n",
       "    <tr>\n",
       "      <th>1963-01-24</th>\n",
       "      <td>6157.212125</td>\n",
       "    </tr>\n",
       "    <tr>\n",
       "      <th>1963-01-25</th>\n",
       "      <td>6152.655687</td>\n",
       "    </tr>\n",
       "    <tr>\n",
       "      <th>1963-01-26</th>\n",
       "      <td>6150.146186</td>\n",
       "    </tr>\n",
       "    <tr>\n",
       "      <th>1963-01-27</th>\n",
       "      <td>6149.683622</td>\n",
       "    </tr>\n",
       "    <tr>\n",
       "      <th>1963-01-28</th>\n",
       "      <td>6151.267995</td>\n",
       "    </tr>\n",
       "    <tr>\n",
       "      <th>1963-01-29</th>\n",
       "      <td>6154.899306</td>\n",
       "    </tr>\n",
       "    <tr>\n",
       "      <th>1963-01-30</th>\n",
       "      <td>6160.577554</td>\n",
       "    </tr>\n",
       "  </tbody>\n",
       "</table>\n",
       "</div>"
      ],
      "text/plain": [
       "                MilesMM\n",
       "Month                  \n",
       "1963-01-01  6827.000000\n",
       "1963-01-02  6775.328886\n",
       "1963-01-03  6725.739829\n",
       "1963-01-04  6678.197709\n",
       "1963-01-05  6632.702526\n",
       "1963-01-06  6589.254280\n",
       "1963-01-07  6547.852971\n",
       "1963-01-08  6508.498600\n",
       "1963-01-09  6471.191166\n",
       "1963-01-10  6435.930669\n",
       "1963-01-11  6402.717110\n",
       "1963-01-12  6371.550488\n",
       "1963-01-13  6342.430803\n",
       "1963-01-14  6315.358055\n",
       "1963-01-15  6290.332244\n",
       "1963-01-16  6267.353371\n",
       "1963-01-17  6246.421435\n",
       "1963-01-18  6227.536436\n",
       "1963-01-19  6210.698374\n",
       "1963-01-20  6195.907250\n",
       "1963-01-21  6183.163063\n",
       "1963-01-22  6172.465813\n",
       "1963-01-23  6163.815500\n",
       "1963-01-24  6157.212125\n",
       "1963-01-25  6152.655687\n",
       "1963-01-26  6150.146186\n",
       "1963-01-27  6149.683622\n",
       "1963-01-28  6151.267995\n",
       "1963-01-29  6154.899306\n",
       "1963-01-30  6160.577554"
      ]
     },
     "execution_count": 32,
     "metadata": {},
     "output_type": "execute_result"
    }
   ],
   "source": [
    "poly_interpolated_miles_df.head(30)"
   ]
  },
  {
   "cell_type": "code",
   "execution_count": 33,
   "id": "8a2da53e",
   "metadata": {},
   "outputs": [
    {
     "data": {
      "text/plain": [
       "<AxesSubplot:xlabel='Month'>"
      ]
     },
     "execution_count": 33,
     "metadata": {},
     "output_type": "execute_result"
    },
    {
     "data": {
      "image/png": "[encoded data removed]",
      "text/plain": [
       "<Figure size 432x288 with 1 Axes>"
      ]
     },
     "metadata": {
      "needs_background": "light"
     },
     "output_type": "display_data"
    }
   ],
   "source": [
    "poly_interpolated_miles_df.plot()"
   ]
  },
  {
   "cell_type": "markdown",
   "id": "bf3a0451",
   "metadata": {},
   "source": [
    "# Decomposing Time series"
   ]
  },
  {
   "cell_type": "markdown",
   "id": "a6e9a9e8",
   "metadata": {},
   "source": [
    "Aditive model\n",
    "y(t)=Level+Trend+Seasonality+Noise\n",
    "\n",
    "\n",
    "Multiplicative Model\n",
    "y(t)=Level*Trend*Seasonality*Noise"
   ]
  },
  {
   "cell_type": "code",
   "execution_count": 34,
   "id": "12442faf",
   "metadata": {},
   "outputs": [],
   "source": [
    "from statsmodels.tsa.seasonal import seasonal_decompose"
   ]
  },
  {
   "cell_type": "code",
   "execution_count": 35,
   "id": "5b235d30",
   "metadata": {},
   "outputs": [],
   "source": [
    "miles_decomp_df=pd.read_csv('../TimeSeries/us-airlines-monthly-aircraft-miles-flown.csv',header=0,parse_dates=[0])"
   ]
  },
  {
   "cell_type": "code",
   "execution_count": 36,
   "id": "ee4c0c81",
   "metadata": {},
   "outputs": [
    {
     "data": {
      "text/html": [
       "<div>\n",
       "<style scoped>\n",
       "    .dataframe tbody tr th:only-of-type {\n",
       "        vertical-align: middle;\n",
       "    }\n",
       "\n",
       "    .dataframe tbody tr th {\n",
       "        vertical-align: top;\n",
       "    }\n",
       "\n",
       "    .dataframe thead th {\n",
       "        text-align: right;\n",
       "    }\n",
       "</style>\n",
       "<table border=\"1\" class=\"dataframe\">\n",
       "  <thead>\n",
       "    <tr style=\"text-align: right;\">\n",
       "      <th></th>\n",
       "      <th>Month</th>\n",
       "      <th>MilesMM</th>\n",
       "    </tr>\n",
       "  </thead>\n",
       "  <tbody>\n",
       "    <tr>\n",
       "      <th>0</th>\n",
       "      <td>1963-01-01</td>\n",
       "      <td>6827</td>\n",
       "    </tr>\n",
       "    <tr>\n",
       "      <th>1</th>\n",
       "      <td>1963-02-01</td>\n",
       "      <td>6178</td>\n",
       "    </tr>\n",
       "    <tr>\n",
       "      <th>2</th>\n",
       "      <td>1963-03-01</td>\n",
       "      <td>7084</td>\n",
       "    </tr>\n",
       "    <tr>\n",
       "      <th>3</th>\n",
       "      <td>1963-04-01</td>\n",
       "      <td>8162</td>\n",
       "    </tr>\n",
       "    <tr>\n",
       "      <th>4</th>\n",
       "      <td>1963-05-01</td>\n",
       "      <td>8462</td>\n",
       "    </tr>\n",
       "  </tbody>\n",
       "</table>\n",
       "</div>"
      ],
      "text/plain": [
       "       Month  MilesMM\n",
       "0 1963-01-01     6827\n",
       "1 1963-02-01     6178\n",
       "2 1963-03-01     7084\n",
       "3 1963-04-01     8162\n",
       "4 1963-05-01     8462"
      ]
     },
     "execution_count": 36,
     "metadata": {},
     "output_type": "execute_result"
    }
   ],
   "source": [
    "miles_decomp_df.head()"
   ]
  },
  {
   "cell_type": "code",
   "execution_count": 37,
   "id": "13a1bc61",
   "metadata": {},
   "outputs": [],
   "source": [
    "miles_decomp_df.index=miles_decomp_df['Month']"
   ]
  },
  {
   "cell_type": "code",
   "execution_count": 38,
   "id": "db570eaa",
   "metadata": {},
   "outputs": [
    {
     "data": {
      "text/html": [
       "<div>\n",
       "<style scoped>\n",
       "    .dataframe tbody tr th:only-of-type {\n",
       "        vertical-align: middle;\n",
       "    }\n",
       "\n",
       "    .dataframe tbody tr th {\n",
       "        vertical-align: top;\n",
       "    }\n",
       "\n",
       "    .dataframe thead th {\n",
       "        text-align: right;\n",
       "    }\n",
       "</style>\n",
       "<table border=\"1\" class=\"dataframe\">\n",
       "  <thead>\n",
       "    <tr style=\"text-align: right;\">\n",
       "      <th></th>\n",
       "      <th>Month</th>\n",
       "      <th>MilesMM</th>\n",
       "    </tr>\n",
       "    <tr>\n",
       "      <th>Month</th>\n",
       "      <th></th>\n",
       "      <th></th>\n",
       "    </tr>\n",
       "  </thead>\n",
       "  <tbody>\n",
       "    <tr>\n",
       "      <th>1963-01-01</th>\n",
       "      <td>1963-01-01</td>\n",
       "      <td>6827</td>\n",
       "    </tr>\n",
       "    <tr>\n",
       "      <th>1963-02-01</th>\n",
       "      <td>1963-02-01</td>\n",
       "      <td>6178</td>\n",
       "    </tr>\n",
       "    <tr>\n",
       "      <th>1963-03-01</th>\n",
       "      <td>1963-03-01</td>\n",
       "      <td>7084</td>\n",
       "    </tr>\n",
       "    <tr>\n",
       "      <th>1963-04-01</th>\n",
       "      <td>1963-04-01</td>\n",
       "      <td>8162</td>\n",
       "    </tr>\n",
       "    <tr>\n",
       "      <th>1963-05-01</th>\n",
       "      <td>1963-05-01</td>\n",
       "      <td>8462</td>\n",
       "    </tr>\n",
       "  </tbody>\n",
       "</table>\n",
       "</div>"
      ],
      "text/plain": [
       "                Month  MilesMM\n",
       "Month                         \n",
       "1963-01-01 1963-01-01     6827\n",
       "1963-02-01 1963-02-01     6178\n",
       "1963-03-01 1963-03-01     7084\n",
       "1963-04-01 1963-04-01     8162\n",
       "1963-05-01 1963-05-01     8462"
      ]
     },
     "execution_count": 38,
     "metadata": {},
     "output_type": "execute_result"
    }
   ],
   "source": [
    "miles_decomp_df.head()"
   ]
  },
  {
   "cell_type": "code",
   "execution_count": 39,
   "id": "32f0240d",
   "metadata": {},
   "outputs": [],
   "source": [
    "result=seasonal_decompose(miles_decomp_df['MilesMM'],model='additive')"
   ]
  },
  {
   "cell_type": "code",
   "execution_count": 40,
   "id": "a3855e63",
   "metadata": {},
   "outputs": [
    {
     "data": {
      "image/png": "[encoded data removed]",
      "text/plain": [
       "<Figure size 432x288 with 4 Axes>"
      ]
     },
     "execution_count": 40,
     "metadata": {},
     "output_type": "execute_result"
    },
    {
     "data": {
      "image/png": "[encoded data removed]",
      "text/plain": [
       "<Figure size 432x288 with 4 Axes>"
      ]
     },
     "metadata": {
      "needs_background": "light"
     },
     "output_type": "display_data"
    }
   ],
   "source": [
    "result.plot()"
   ]
  },
  {
   "cell_type": "code",
   "execution_count": 41,
   "id": "416edb14",
   "metadata": {},
   "outputs": [],
   "source": [
    "result=seasonal_decompose(miles_decomp_df['MilesMM'],model='multiplicative')"
   ]
  },
  {
   "cell_type": "code",
   "execution_count": 42,
   "id": "f6102dfa",
   "metadata": {},
   "outputs": [
    {
     "data": {
      "image/png": "[encoded data removed]",
      "text/plain": [
       "<Figure size 432x288 with 4 Axes>"
      ]
     },
     "execution_count": 42,
     "metadata": {},
     "output_type": "execute_result"
    },
    {
     "data": {
      "image/png": "[encoded data removed]",
      "text/plain": [
       "<Figure size 432x288 with 4 Axes>"
      ]
     },
     "metadata": {
      "needs_background": "light"
     },
     "output_type": "display_data"
    }
   ],
   "source": [
    "result.plot()"
   ]
  },
  {
   "cell_type": "markdown",
   "id": "27a50752",
   "metadata": {},
   "source": [
    "# Differencing"
   ]
  },
  {
   "cell_type": "code",
   "execution_count": 43,
   "id": "24513a80",
   "metadata": {},
   "outputs": [],
   "source": [
    "miles_df=pd.read_csv('../TimeSeries/us-airlines-monthly-aircraft-miles-flown.csv',header=0,parse_dates=[0])"
   ]
  },
  {
   "cell_type": "code",
   "execution_count": null,
   "id": "39eb53cd",
   "metadata": {},
   "outputs": [],
   "source": []
  },
  {
   "cell_type": "code",
   "execution_count": 44,
   "id": "130598ef",
   "metadata": {},
   "outputs": [],
   "source": [
    "miles_df['lag1']=miles_df['MilesMM'].shift(1)"
   ]
  },
  {
   "cell_type": "code",
   "execution_count": null,
   "id": "5839f8da",
   "metadata": {},
   "outputs": [],
   "source": []
  },
  {
   "cell_type": "code",
   "execution_count": 45,
   "id": "b80a0fbd",
   "metadata": {},
   "outputs": [
    {
     "data": {
      "text/html": [
       "<div>\n",
       "<style scoped>\n",
       "    .dataframe tbody tr th:only-of-type {\n",
       "        vertical-align: middle;\n",
       "    }\n",
       "\n",
       "    .dataframe tbody tr th {\n",
       "        vertical-align: top;\n",
       "    }\n",
       "\n",
       "    .dataframe thead th {\n",
       "        text-align: right;\n",
       "    }\n",
       "</style>\n",
       "<table border=\"1\" class=\"dataframe\">\n",
       "  <thead>\n",
       "    <tr style=\"text-align: right;\">\n",
       "      <th></th>\n",
       "      <th>Month</th>\n",
       "      <th>MilesMM</th>\n",
       "      <th>lag1</th>\n",
       "    </tr>\n",
       "  </thead>\n",
       "  <tbody>\n",
       "    <tr>\n",
       "      <th>0</th>\n",
       "      <td>1963-01-01</td>\n",
       "      <td>6827</td>\n",
       "      <td>NaN</td>\n",
       "    </tr>\n",
       "    <tr>\n",
       "      <th>1</th>\n",
       "      <td>1963-02-01</td>\n",
       "      <td>6178</td>\n",
       "      <td>6827.0</td>\n",
       "    </tr>\n",
       "    <tr>\n",
       "      <th>2</th>\n",
       "      <td>1963-03-01</td>\n",
       "      <td>7084</td>\n",
       "      <td>6178.0</td>\n",
       "    </tr>\n",
       "    <tr>\n",
       "      <th>3</th>\n",
       "      <td>1963-04-01</td>\n",
       "      <td>8162</td>\n",
       "      <td>7084.0</td>\n",
       "    </tr>\n",
       "    <tr>\n",
       "      <th>4</th>\n",
       "      <td>1963-05-01</td>\n",
       "      <td>8462</td>\n",
       "      <td>8162.0</td>\n",
       "    </tr>\n",
       "  </tbody>\n",
       "</table>\n",
       "</div>"
      ],
      "text/plain": [
       "       Month  MilesMM    lag1\n",
       "0 1963-01-01     6827     NaN\n",
       "1 1963-02-01     6178  6827.0\n",
       "2 1963-03-01     7084  6178.0\n",
       "3 1963-04-01     8162  7084.0\n",
       "4 1963-05-01     8462  8162.0"
      ]
     },
     "execution_count": 45,
     "metadata": {},
     "output_type": "execute_result"
    }
   ],
   "source": [
    "miles_df.head()"
   ]
  },
  {
   "cell_type": "code",
   "execution_count": 46,
   "id": "8e75e440",
   "metadata": {},
   "outputs": [],
   "source": [
    "miles_df.index=miles_df['Month']"
   ]
  },
  {
   "cell_type": "code",
   "execution_count": 47,
   "id": "bd673d49",
   "metadata": {},
   "outputs": [],
   "source": [
    "miles_df['MilesMM_diff1']=miles_df['MilesMM'].diff(periods=1)"
   ]
  },
  {
   "cell_type": "code",
   "execution_count": 48,
   "id": "5caf237d",
   "metadata": {},
   "outputs": [
    {
     "data": {
      "text/html": [
       "<div>\n",
       "<style scoped>\n",
       "    .dataframe tbody tr th:only-of-type {\n",
       "        vertical-align: middle;\n",
       "    }\n",
       "\n",
       "    .dataframe tbody tr th {\n",
       "        vertical-align: top;\n",
       "    }\n",
       "\n",
       "    .dataframe thead th {\n",
       "        text-align: right;\n",
       "    }\n",
       "</style>\n",
       "<table border=\"1\" class=\"dataframe\">\n",
       "  <thead>\n",
       "    <tr style=\"text-align: right;\">\n",
       "      <th></th>\n",
       "      <th>Month</th>\n",
       "      <th>MilesMM</th>\n",
       "      <th>lag1</th>\n",
       "      <th>MilesMM_diff1</th>\n",
       "    </tr>\n",
       "    <tr>\n",
       "      <th>Month</th>\n",
       "      <th></th>\n",
       "      <th></th>\n",
       "      <th></th>\n",
       "      <th></th>\n",
       "    </tr>\n",
       "  </thead>\n",
       "  <tbody>\n",
       "    <tr>\n",
       "      <th>1963-01-01</th>\n",
       "      <td>1963-01-01</td>\n",
       "      <td>6827</td>\n",
       "      <td>NaN</td>\n",
       "      <td>NaN</td>\n",
       "    </tr>\n",
       "    <tr>\n",
       "      <th>1963-02-01</th>\n",
       "      <td>1963-02-01</td>\n",
       "      <td>6178</td>\n",
       "      <td>6827.0</td>\n",
       "      <td>-649.0</td>\n",
       "    </tr>\n",
       "    <tr>\n",
       "      <th>1963-03-01</th>\n",
       "      <td>1963-03-01</td>\n",
       "      <td>7084</td>\n",
       "      <td>6178.0</td>\n",
       "      <td>906.0</td>\n",
       "    </tr>\n",
       "    <tr>\n",
       "      <th>1963-04-01</th>\n",
       "      <td>1963-04-01</td>\n",
       "      <td>8162</td>\n",
       "      <td>7084.0</td>\n",
       "      <td>1078.0</td>\n",
       "    </tr>\n",
       "    <tr>\n",
       "      <th>1963-05-01</th>\n",
       "      <td>1963-05-01</td>\n",
       "      <td>8462</td>\n",
       "      <td>8162.0</td>\n",
       "      <td>300.0</td>\n",
       "    </tr>\n",
       "  </tbody>\n",
       "</table>\n",
       "</div>"
      ],
      "text/plain": [
       "                Month  MilesMM    lag1  MilesMM_diff1\n",
       "Month                                                \n",
       "1963-01-01 1963-01-01     6827     NaN            NaN\n",
       "1963-02-01 1963-02-01     6178  6827.0         -649.0\n",
       "1963-03-01 1963-03-01     7084  6178.0          906.0\n",
       "1963-04-01 1963-04-01     8162  7084.0         1078.0\n",
       "1963-05-01 1963-05-01     8462  8162.0          300.0"
      ]
     },
     "execution_count": 48,
     "metadata": {},
     "output_type": "execute_result"
    }
   ],
   "source": [
    "miles_df.head()"
   ]
  },
  {
   "cell_type": "code",
   "execution_count": 49,
   "id": "063e8d09",
   "metadata": {},
   "outputs": [
    {
     "data": {
      "image/png": "[encoded data removed]",
      "text/plain": [
       "<Figure size 432x288 with 4 Axes>"
      ]
     },
     "execution_count": 49,
     "metadata": {},
     "output_type": "execute_result"
    },
    {
     "data": {
      "image/png": "[encoded data removed]",
      "text/plain": [
       "<Figure size 432x288 with 4 Axes>"
      ]
     },
     "metadata": {
      "needs_background": "light"
     },
     "output_type": "display_data"
    }
   ],
   "source": [
    "result_a=seasonal_decompose(miles_df['MilesMM'],model='additive')\n",
    "result_a.plot()"
   ]
  },
  {
   "cell_type": "code",
   "execution_count": 50,
   "id": "36180c49",
   "metadata": {},
   "outputs": [],
   "source": [
    "result_b=seasonal_decompose(miles_df.iloc[1:,3],model='additive')"
   ]
  },
  {
   "cell_type": "code",
   "execution_count": 51,
   "id": "ee4d04c1",
   "metadata": {},
   "outputs": [
    {
     "data": {
      "image/png": "[encoded data removed]",
      "text/plain": [
       "<Figure size 432x288 with 4 Axes>"
      ]
     },
     "execution_count": 51,
     "metadata": {},
     "output_type": "execute_result"
    },
    {
     "data": {
      "image/png": "[encoded data removed]",
      "text/plain": [
       "<Figure size 432x288 with 4 Axes>"
      ]
     },
     "metadata": {
      "needs_background": "light"
     },
     "output_type": "display_data"
    }
   ],
   "source": [
    "result_b.plot()"
   ]
  },
  {
   "cell_type": "code",
   "execution_count": 52,
   "id": "243a8199",
   "metadata": {},
   "outputs": [],
   "source": [
    "miles_df['MilesMM_diff_12']=miles_df['MilesMM_diff1'].diff(periods=12)"
   ]
  },
  {
   "cell_type": "code",
   "execution_count": 53,
   "id": "b9ed6a5c",
   "metadata": {},
   "outputs": [
    {
     "data": {
      "text/plain": [
       "<AxesSubplot:xlabel='Month'>"
      ]
     },
     "execution_count": 53,
     "metadata": {},
     "output_type": "execute_result"
    },
    {
     "data": {
      "image/png": "[encoded data removed]",
      "text/plain": [
       "<Figure size 432x288 with 1 Axes>"
      ]
     },
     "metadata": {
      "needs_background": "light"
     },
     "output_type": "display_data"
    }
   ],
   "source": [
    "miles_df['MilesMM_diff_12'].plot()"
   ]
  },
  {
   "cell_type": "code",
   "execution_count": 54,
   "id": "496b4943",
   "metadata": {},
   "outputs": [],
   "source": [
    "result_c=seasonal_decompose(miles_df.iloc[13:,4],model='additive')"
   ]
  },
  {
   "cell_type": "code",
   "execution_count": 55,
   "id": "ddd88834",
   "metadata": {},
   "outputs": [
    {
     "data": {
      "text/html": [
       "<div>\n",
       "<style scoped>\n",
       "    .dataframe tbody tr th:only-of-type {\n",
       "        vertical-align: middle;\n",
       "    }\n",
       "\n",
       "    .dataframe tbody tr th {\n",
       "        vertical-align: top;\n",
       "    }\n",
       "\n",
       "    .dataframe thead th {\n",
       "        text-align: right;\n",
       "    }\n",
       "</style>\n",
       "<table border=\"1\" class=\"dataframe\">\n",
       "  <thead>\n",
       "    <tr style=\"text-align: right;\">\n",
       "      <th></th>\n",
       "      <th>Month</th>\n",
       "      <th>MilesMM</th>\n",
       "      <th>lag1</th>\n",
       "      <th>MilesMM_diff1</th>\n",
       "      <th>MilesMM_diff_12</th>\n",
       "    </tr>\n",
       "    <tr>\n",
       "      <th>Month</th>\n",
       "      <th></th>\n",
       "      <th></th>\n",
       "      <th></th>\n",
       "      <th></th>\n",
       "      <th></th>\n",
       "    </tr>\n",
       "  </thead>\n",
       "  <tbody>\n",
       "    <tr>\n",
       "      <th>1963-01-01</th>\n",
       "      <td>1963-01-01</td>\n",
       "      <td>6827</td>\n",
       "      <td>NaN</td>\n",
       "      <td>NaN</td>\n",
       "      <td>NaN</td>\n",
       "    </tr>\n",
       "    <tr>\n",
       "      <th>1963-02-01</th>\n",
       "      <td>1963-02-01</td>\n",
       "      <td>6178</td>\n",
       "      <td>6827.0</td>\n",
       "      <td>-649.0</td>\n",
       "      <td>NaN</td>\n",
       "    </tr>\n",
       "    <tr>\n",
       "      <th>1963-03-01</th>\n",
       "      <td>1963-03-01</td>\n",
       "      <td>7084</td>\n",
       "      <td>6178.0</td>\n",
       "      <td>906.0</td>\n",
       "      <td>NaN</td>\n",
       "    </tr>\n",
       "    <tr>\n",
       "      <th>1963-04-01</th>\n",
       "      <td>1963-04-01</td>\n",
       "      <td>8162</td>\n",
       "      <td>7084.0</td>\n",
       "      <td>1078.0</td>\n",
       "      <td>NaN</td>\n",
       "    </tr>\n",
       "    <tr>\n",
       "      <th>1963-05-01</th>\n",
       "      <td>1963-05-01</td>\n",
       "      <td>8462</td>\n",
       "      <td>8162.0</td>\n",
       "      <td>300.0</td>\n",
       "      <td>NaN</td>\n",
       "    </tr>\n",
       "  </tbody>\n",
       "</table>\n",
       "</div>"
      ],
      "text/plain": [
       "                Month  MilesMM    lag1  MilesMM_diff1  MilesMM_diff_12\n",
       "Month                                                                 \n",
       "1963-01-01 1963-01-01     6827     NaN            NaN              NaN\n",
       "1963-02-01 1963-02-01     6178  6827.0         -649.0              NaN\n",
       "1963-03-01 1963-03-01     7084  6178.0          906.0              NaN\n",
       "1963-04-01 1963-04-01     8162  7084.0         1078.0              NaN\n",
       "1963-05-01 1963-05-01     8462  8162.0          300.0              NaN"
      ]
     },
     "execution_count": 55,
     "metadata": {},
     "output_type": "execute_result"
    }
   ],
   "source": [
    "miles_df.head()"
   ]
  },
  {
   "cell_type": "markdown",
   "id": "56dbd49d",
   "metadata": {},
   "source": [
    "# Test-Train Split"
   ]
  },
  {
   "cell_type": "code",
   "execution_count": 56,
   "id": "595bbbcb",
   "metadata": {},
   "outputs": [],
   "source": [
    "temp_df=pd.read_csv(\"../TimeSeries/daily-min-temperatures.csv\",header=0,parse_dates=[0])"
   ]
  },
  {
   "cell_type": "code",
   "execution_count": 57,
   "id": "4dacfe0d",
   "metadata": {},
   "outputs": [
    {
     "data": {
      "text/html": [
       "<div>\n",
       "<style scoped>\n",
       "    .dataframe tbody tr th:only-of-type {\n",
       "        vertical-align: middle;\n",
       "    }\n",
       "\n",
       "    .dataframe tbody tr th {\n",
       "        vertical-align: top;\n",
       "    }\n",
       "\n",
       "    .dataframe thead th {\n",
       "        text-align: right;\n",
       "    }\n",
       "</style>\n",
       "<table border=\"1\" class=\"dataframe\">\n",
       "  <thead>\n",
       "    <tr style=\"text-align: right;\">\n",
       "      <th></th>\n",
       "      <th>Date</th>\n",
       "      <th>Temp</th>\n",
       "    </tr>\n",
       "  </thead>\n",
       "  <tbody>\n",
       "    <tr>\n",
       "      <th>0</th>\n",
       "      <td>1981-01-01</td>\n",
       "      <td>20.7</td>\n",
       "    </tr>\n",
       "    <tr>\n",
       "      <th>1</th>\n",
       "      <td>1981-01-02</td>\n",
       "      <td>17.9</td>\n",
       "    </tr>\n",
       "    <tr>\n",
       "      <th>2</th>\n",
       "      <td>1981-01-03</td>\n",
       "      <td>18.8</td>\n",
       "    </tr>\n",
       "    <tr>\n",
       "      <th>3</th>\n",
       "      <td>1981-01-04</td>\n",
       "      <td>14.6</td>\n",
       "    </tr>\n",
       "    <tr>\n",
       "      <th>4</th>\n",
       "      <td>1981-01-05</td>\n",
       "      <td>15.8</td>\n",
       "    </tr>\n",
       "  </tbody>\n",
       "</table>\n",
       "</div>"
      ],
      "text/plain": [
       "        Date  Temp\n",
       "0 1981-01-01  20.7\n",
       "1 1981-01-02  17.9\n",
       "2 1981-01-03  18.8\n",
       "3 1981-01-04  14.6\n",
       "4 1981-01-05  15.8"
      ]
     },
     "execution_count": 57,
     "metadata": {},
     "output_type": "execute_result"
    }
   ],
   "source": [
    "temp_df.head()"
   ]
  },
  {
   "cell_type": "code",
   "execution_count": 58,
   "id": "8ce04b37",
   "metadata": {},
   "outputs": [
    {
     "data": {
      "text/plain": [
       "(3650, 2)"
      ]
     },
     "execution_count": 58,
     "metadata": {},
     "output_type": "execute_result"
    }
   ],
   "source": [
    "temp_df.shape"
   ]
  },
  {
   "cell_type": "code",
   "execution_count": 59,
   "id": "cfce51e8",
   "metadata": {},
   "outputs": [
    {
     "data": {
      "text/plain": [
       "2920"
      ]
     },
     "execution_count": 59,
     "metadata": {},
     "output_type": "execute_result"
    }
   ],
   "source": [
    "train_size=int(temp_df.shape[0]*0.8)\n",
    "train_size"
   ]
  },
  {
   "cell_type": "code",
   "execution_count": 60,
   "id": "ede9e312",
   "metadata": {},
   "outputs": [],
   "source": [
    "train=temp_df[0:train_size]"
   ]
  },
  {
   "cell_type": "code",
   "execution_count": 61,
   "id": "2c5e4a07",
   "metadata": {},
   "outputs": [],
   "source": [
    "test=temp_df[train_size:]"
   ]
  },
  {
   "cell_type": "code",
   "execution_count": 62,
   "id": "83c51651",
   "metadata": {},
   "outputs": [
    {
     "data": {
      "text/plain": [
       "(2920, 2)"
      ]
     },
     "execution_count": 62,
     "metadata": {},
     "output_type": "execute_result"
    }
   ],
   "source": [
    "train.shape"
   ]
  },
  {
   "cell_type": "code",
   "execution_count": 63,
   "id": "9dd2209b",
   "metadata": {},
   "outputs": [
    {
     "data": {
      "text/plain": [
       "(730, 2)"
      ]
     },
     "execution_count": 63,
     "metadata": {},
     "output_type": "execute_result"
    }
   ],
   "source": [
    "test.shape"
   ]
  },
  {
   "cell_type": "markdown",
   "id": "1ffd5500",
   "metadata": {},
   "source": [
    "# Persistence model"
   ]
  },
  {
   "cell_type": "code",
   "execution_count": 64,
   "id": "63a7528c",
   "metadata": {},
   "outputs": [],
   "source": [
    "df=pd.read_csv(\"../TimeSeries/daily-min-temperatures.csv\",header=0,parse_dates=[0])"
   ]
  },
  {
   "cell_type": "code",
   "execution_count": 65,
   "id": "5628fb6e",
   "metadata": {},
   "outputs": [],
   "source": [
    "df['t']=df['Temp'].shift(1)"
   ]
  },
  {
   "cell_type": "code",
   "execution_count": 66,
   "id": "09eb4e38",
   "metadata": {},
   "outputs": [
    {
     "data": {
      "text/html": [
       "<div>\n",
       "<style scoped>\n",
       "    .dataframe tbody tr th:only-of-type {\n",
       "        vertical-align: middle;\n",
       "    }\n",
       "\n",
       "    .dataframe tbody tr th {\n",
       "        vertical-align: top;\n",
       "    }\n",
       "\n",
       "    .dataframe thead th {\n",
       "        text-align: right;\n",
       "    }\n",
       "</style>\n",
       "<table border=\"1\" class=\"dataframe\">\n",
       "  <thead>\n",
       "    <tr style=\"text-align: right;\">\n",
       "      <th></th>\n",
       "      <th>Date</th>\n",
       "      <th>Temp</th>\n",
       "      <th>t</th>\n",
       "    </tr>\n",
       "  </thead>\n",
       "  <tbody>\n",
       "    <tr>\n",
       "      <th>0</th>\n",
       "      <td>1981-01-01</td>\n",
       "      <td>20.7</td>\n",
       "      <td>NaN</td>\n",
       "    </tr>\n",
       "    <tr>\n",
       "      <th>1</th>\n",
       "      <td>1981-01-02</td>\n",
       "      <td>17.9</td>\n",
       "      <td>20.7</td>\n",
       "    </tr>\n",
       "    <tr>\n",
       "      <th>2</th>\n",
       "      <td>1981-01-03</td>\n",
       "      <td>18.8</td>\n",
       "      <td>17.9</td>\n",
       "    </tr>\n",
       "    <tr>\n",
       "      <th>3</th>\n",
       "      <td>1981-01-04</td>\n",
       "      <td>14.6</td>\n",
       "      <td>18.8</td>\n",
       "    </tr>\n",
       "    <tr>\n",
       "      <th>4</th>\n",
       "      <td>1981-01-05</td>\n",
       "      <td>15.8</td>\n",
       "      <td>14.6</td>\n",
       "    </tr>\n",
       "  </tbody>\n",
       "</table>\n",
       "</div>"
      ],
      "text/plain": [
       "        Date  Temp     t\n",
       "0 1981-01-01  20.7   NaN\n",
       "1 1981-01-02  17.9  20.7\n",
       "2 1981-01-03  18.8  17.9\n",
       "3 1981-01-04  14.6  18.8\n",
       "4 1981-01-05  15.8  14.6"
      ]
     },
     "execution_count": 66,
     "metadata": {},
     "output_type": "execute_result"
    }
   ],
   "source": [
    "df.head()"
   ]
  },
  {
   "cell_type": "code",
   "execution_count": 67,
   "id": "ebede038",
   "metadata": {},
   "outputs": [],
   "source": [
    "train,test=df[1:df.shape[0]-7],df[df.shape[0]-7:]"
   ]
  },
  {
   "cell_type": "code",
   "execution_count": 68,
   "id": "cb36e1a8",
   "metadata": {},
   "outputs": [
    {
     "data": {
      "text/html": [
       "<div>\n",
       "<style scoped>\n",
       "    .dataframe tbody tr th:only-of-type {\n",
       "        vertical-align: middle;\n",
       "    }\n",
       "\n",
       "    .dataframe tbody tr th {\n",
       "        vertical-align: top;\n",
       "    }\n",
       "\n",
       "    .dataframe thead th {\n",
       "        text-align: right;\n",
       "    }\n",
       "</style>\n",
       "<table border=\"1\" class=\"dataframe\">\n",
       "  <thead>\n",
       "    <tr style=\"text-align: right;\">\n",
       "      <th></th>\n",
       "      <th>Date</th>\n",
       "      <th>Temp</th>\n",
       "      <th>t</th>\n",
       "    </tr>\n",
       "  </thead>\n",
       "  <tbody>\n",
       "    <tr>\n",
       "      <th>1</th>\n",
       "      <td>1981-01-02</td>\n",
       "      <td>17.9</td>\n",
       "      <td>20.7</td>\n",
       "    </tr>\n",
       "    <tr>\n",
       "      <th>2</th>\n",
       "      <td>1981-01-03</td>\n",
       "      <td>18.8</td>\n",
       "      <td>17.9</td>\n",
       "    </tr>\n",
       "    <tr>\n",
       "      <th>3</th>\n",
       "      <td>1981-01-04</td>\n",
       "      <td>14.6</td>\n",
       "      <td>18.8</td>\n",
       "    </tr>\n",
       "    <tr>\n",
       "      <th>4</th>\n",
       "      <td>1981-01-05</td>\n",
       "      <td>15.8</td>\n",
       "      <td>14.6</td>\n",
       "    </tr>\n",
       "    <tr>\n",
       "      <th>5</th>\n",
       "      <td>1981-01-06</td>\n",
       "      <td>15.8</td>\n",
       "      <td>15.8</td>\n",
       "    </tr>\n",
       "  </tbody>\n",
       "</table>\n",
       "</div>"
      ],
      "text/plain": [
       "        Date  Temp     t\n",
       "1 1981-01-02  17.9  20.7\n",
       "2 1981-01-03  18.8  17.9\n",
       "3 1981-01-04  14.6  18.8\n",
       "4 1981-01-05  15.8  14.6\n",
       "5 1981-01-06  15.8  15.8"
      ]
     },
     "execution_count": 68,
     "metadata": {},
     "output_type": "execute_result"
    }
   ],
   "source": [
    "train.head()"
   ]
  },
  {
   "cell_type": "code",
   "execution_count": 69,
   "id": "657e18b1",
   "metadata": {},
   "outputs": [
    {
     "data": {
      "text/html": [
       "<div>\n",
       "<style scoped>\n",
       "    .dataframe tbody tr th:only-of-type {\n",
       "        vertical-align: middle;\n",
       "    }\n",
       "\n",
       "    .dataframe tbody tr th {\n",
       "        vertical-align: top;\n",
       "    }\n",
       "\n",
       "    .dataframe thead th {\n",
       "        text-align: right;\n",
       "    }\n",
       "</style>\n",
       "<table border=\"1\" class=\"dataframe\">\n",
       "  <thead>\n",
       "    <tr style=\"text-align: right;\">\n",
       "      <th></th>\n",
       "      <th>Date</th>\n",
       "      <th>Temp</th>\n",
       "      <th>t</th>\n",
       "    </tr>\n",
       "  </thead>\n",
       "  <tbody>\n",
       "    <tr>\n",
       "      <th>3643</th>\n",
       "      <td>1990-12-25</td>\n",
       "      <td>12.9</td>\n",
       "      <td>10.0</td>\n",
       "    </tr>\n",
       "    <tr>\n",
       "      <th>3644</th>\n",
       "      <td>1990-12-26</td>\n",
       "      <td>14.6</td>\n",
       "      <td>12.9</td>\n",
       "    </tr>\n",
       "    <tr>\n",
       "      <th>3645</th>\n",
       "      <td>1990-12-27</td>\n",
       "      <td>14.0</td>\n",
       "      <td>14.6</td>\n",
       "    </tr>\n",
       "    <tr>\n",
       "      <th>3646</th>\n",
       "      <td>1990-12-28</td>\n",
       "      <td>13.6</td>\n",
       "      <td>14.0</td>\n",
       "    </tr>\n",
       "    <tr>\n",
       "      <th>3647</th>\n",
       "      <td>1990-12-29</td>\n",
       "      <td>13.5</td>\n",
       "      <td>13.6</td>\n",
       "    </tr>\n",
       "  </tbody>\n",
       "</table>\n",
       "</div>"
      ],
      "text/plain": [
       "           Date  Temp     t\n",
       "3643 1990-12-25  12.9  10.0\n",
       "3644 1990-12-26  14.6  12.9\n",
       "3645 1990-12-27  14.0  14.6\n",
       "3646 1990-12-28  13.6  14.0\n",
       "3647 1990-12-29  13.5  13.6"
      ]
     },
     "execution_count": 69,
     "metadata": {},
     "output_type": "execute_result"
    }
   ],
   "source": [
    "test.head()"
   ]
  },
  {
   "cell_type": "code",
   "execution_count": 70,
   "id": "e64f6912",
   "metadata": {},
   "outputs": [],
   "source": [
    "train_X,train_y=train['t'],train['Temp']"
   ]
  },
  {
   "cell_type": "code",
   "execution_count": 71,
   "id": "11e67ff8",
   "metadata": {},
   "outputs": [],
   "source": [
    "test_X,test_y=test['t'],test['Temp']"
   ]
  },
  {
   "cell_type": "code",
   "execution_count": 72,
   "id": "cf27e0df",
   "metadata": {},
   "outputs": [],
   "source": [
    "#Walk forward validation"
   ]
  },
  {
   "cell_type": "code",
   "execution_count": 73,
   "id": "2317cf36",
   "metadata": {},
   "outputs": [],
   "source": [
    "predictions=test_X.copy()"
   ]
  },
  {
   "cell_type": "code",
   "execution_count": 74,
   "id": "05d19a77",
   "metadata": {},
   "outputs": [
    {
     "name": "stdout",
     "output_type": "stream",
     "text": [
      "3643    10.0\n",
      "3644    12.9\n",
      "3645    14.6\n",
      "3646    14.0\n",
      "3647    13.6\n",
      "3648    13.5\n",
      "3649    15.7\n",
      "Name: t, dtype: float64\n",
      "3643    12.9\n",
      "3644    14.6\n",
      "3645    14.0\n",
      "3646    13.6\n",
      "3647    13.5\n",
      "3648    15.7\n",
      "3649    13.0\n",
      "Name: Temp, dtype: float64\n"
     ]
    }
   ],
   "source": [
    "print(predictions)\n",
    "print(test_y)"
   ]
  },
  {
   "cell_type": "code",
   "execution_count": 75,
   "id": "6b150707",
   "metadata": {},
   "outputs": [],
   "source": [
    "from sklearn.metrics import mean_squared_error"
   ]
  },
  {
   "cell_type": "code",
   "execution_count": 76,
   "id": "f73053bd",
   "metadata": {},
   "outputs": [
    {
     "data": {
      "text/plain": [
       "3.4228571428571413"
      ]
     },
     "execution_count": 76,
     "metadata": {},
     "output_type": "execute_result"
    }
   ],
   "source": [
    "mse=mean_squared_error(test_y,predictions)\n",
    "mse"
   ]
  },
  {
   "cell_type": "code",
   "execution_count": 77,
   "id": "01a328cf",
   "metadata": {},
   "outputs": [],
   "source": [
    "from matplotlib import pyplot"
   ]
  },
  {
   "cell_type": "code",
   "execution_count": 78,
   "id": "971ebc09",
   "metadata": {},
   "outputs": [
    {
     "data": {
      "text/plain": [
       "[<matplotlib.lines.Line2D at 0x7ff606581f40>]"
      ]
     },
     "execution_count": 78,
     "metadata": {},
     "output_type": "execute_result"
    },
    {
     "data": {
      "image/png": "[encoded data removed]",
      "text/plain": [
       "<Figure size 432x288 with 1 Axes>"
      ]
     },
     "metadata": {
      "needs_background": "light"
     },
     "output_type": "display_data"
    }
   ],
   "source": [
    "pyplot.plot(test_y)\n",
    "pyplot.plot(predictions,color='red')"
   ]
  },
  {
   "cell_type": "markdown",
   "id": "0c232466",
   "metadata": {},
   "source": [
    "# Autoregression model "
   ]
  },
  {
   "cell_type": "code",
   "execution_count": 79,
   "id": "e530d2c3",
   "metadata": {},
   "outputs": [],
   "source": [
    "df=pd.read_csv(\"../TimeSeries/daily-min-temperatures.csv\",header=0,parse_dates=[0])"
   ]
  },
  {
   "cell_type": "code",
   "execution_count": 93,
   "id": "28f867ac",
   "metadata": {},
   "outputs": [],
   "source": [
    "train,test=df.Temp[1:df.shape[0]-7],df.Temp[df.shape[0]-7:]"
   ]
  },
  {
   "cell_type": "code",
   "execution_count": null,
   "id": "0881247c",
   "metadata": {},
   "outputs": [],
   "source": []
  },
  {
   "cell_type": "code",
   "execution_count": 94,
   "id": "392dff58",
   "metadata": {},
   "outputs": [
    {
     "data": {
      "text/plain": [
       "1    17.9\n",
       "2    18.8\n",
       "3    14.6\n",
       "4    15.8\n",
       "5    15.8\n",
       "Name: Temp, dtype: float64"
      ]
     },
     "execution_count": 94,
     "metadata": {},
     "output_type": "execute_result"
    }
   ],
   "source": [
    "train.head()"
   ]
  },
  {
   "cell_type": "code",
   "execution_count": 95,
   "id": "ba4393d6",
   "metadata": {},
   "outputs": [],
   "source": [
    "from statsmodels.tsa.ar_model import AutoReg"
   ]
  },
  {
   "cell_type": "code",
   "execution_count": 102,
   "id": "d75a10ad",
   "metadata": {},
   "outputs": [],
   "source": [
    "model=AutoReg(train,lags=29)"
   ]
  },
  {
   "cell_type": "code",
   "execution_count": 103,
   "id": "77f1944a",
   "metadata": {},
   "outputs": [],
   "source": [
    "model_fit=model.fit()"
   ]
  },
  {
   "cell_type": "markdown",
   "id": "d4d52a21",
   "metadata": {},
   "source": [
    "No.of lag variables"
   ]
  },
  {
   "cell_type": "code",
   "execution_count": 104,
   "id": "e204efdf",
   "metadata": {},
   "outputs": [
    {
     "data": {
      "text/plain": [
       "const       0.557544\n",
       "Temp.L1     0.588595\n",
       "Temp.L2    -0.090826\n",
       "Temp.L3     0.048262\n",
       "Temp.L4     0.040065\n",
       "Temp.L5     0.039302\n",
       "Temp.L6     0.025946\n",
       "Temp.L7     0.044668\n",
       "Temp.L8     0.012768\n",
       "Temp.L9     0.037436\n",
       "Temp.L10   -0.000812\n",
       "Temp.L11    0.004791\n",
       "Temp.L12    0.018473\n",
       "Temp.L13    0.026891\n",
       "Temp.L14    0.000576\n",
       "Temp.L15    0.024810\n",
       "Temp.L16    0.007403\n",
       "Temp.L17    0.009916\n",
       "Temp.L18    0.034160\n",
       "Temp.L19   -0.009120\n",
       "Temp.L20    0.024213\n",
       "Temp.L21    0.018787\n",
       "Temp.L22    0.012184\n",
       "Temp.L23   -0.018553\n",
       "Temp.L24   -0.001772\n",
       "Temp.L25    0.016732\n",
       "Temp.L26    0.019762\n",
       "Temp.L27    0.009832\n",
       "Temp.L28    0.006227\n",
       "Temp.L29   -0.001377\n",
       "dtype: float64"
      ]
     },
     "execution_count": 104,
     "metadata": {},
     "output_type": "execute_result"
    }
   ],
   "source": [
    "model_fit.params"
   ]
  },
  {
   "cell_type": "code",
   "execution_count": null,
   "id": "443ad917",
   "metadata": {},
   "outputs": [],
   "source": [
    "predictions=model_fit.predict(start=len(train),end=len(train)+)"
   ]
  },
  {
   "cell_type": "code",
   "execution_count": null,
   "id": "8096de49",
   "metadata": {},
   "outputs": [],
   "source": []
  },
  {
   "cell_type": "code",
   "execution_count": null,
   "id": "bc102944",
   "metadata": {},
   "outputs": [],
   "source": []
  },
  {
   "cell_type": "code",
   "execution_count": null,
   "id": "52ea2cca",
   "metadata": {},
   "outputs": [],
   "source": []
  },
  {
   "cell_type": "code",
   "execution_count": null,
   "id": "a2aadcb8",
   "metadata": {},
   "outputs": [],
   "source": []
  }
 ],
 "metadata": {
  "kernelspec": {
   "display_name": "Python 3 (ipykernel)",
   "language": "python",
   "name": "python3"
  },
  "language_info": {
   "codemirror_mode": {
    "name": "ipython",
    "version": 3
   },
   "file_extension": ".py",
   "mimetype": "text/x-python",
   "name": "python",
   "nbconvert_exporter": "python",
   "pygments_lexer": "ipython3",
   "version": "3.9.12"
  }
 },
 "nbformat": 4,
 "nbformat_minor": 5
}
