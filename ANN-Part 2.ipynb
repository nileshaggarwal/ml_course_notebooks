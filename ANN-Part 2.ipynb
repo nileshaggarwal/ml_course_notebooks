{
 "cells": [
  {
   "cell_type": "code",
   "execution_count": 1,
   "id": "f39c3f47",
   "metadata": {},
   "outputs": [],
   "source": [
    "import numpy as np\n",
    "import pandas as pd\n",
    "%matplotlib inline\n",
    "import matplotlib as mpl\n",
    "import matplotlib.pyplot as plt"
   ]
  },
  {
   "cell_type": "code",
   "execution_count": 2,
   "id": "846c325a",
   "metadata": {
    "scrolled": true
   },
   "outputs": [
    {
     "name": "stderr",
     "output_type": "stream",
     "text": [
      "2022-07-07 23:58:51.555045: W tensorflow/stream_executor/platform/default/dso_loader.cc:64] Could not load dynamic library 'libcudart.so.11.0'; dlerror: libcudart.so.11.0: cannot open shared object file: No such file or directory\n",
      "2022-07-07 23:58:51.555267: I tensorflow/stream_executor/cuda/cudart_stub.cc:29] Ignore above cudart dlerror if you do not have a GPU set up on your machine.\n"
     ]
    }
   ],
   "source": [
    "import tensorflow as tf \n",
    "from tensorflow import keras"
   ]
  },
  {
   "cell_type": "code",
   "execution_count": 3,
   "id": "4198238f",
   "metadata": {},
   "outputs": [],
   "source": [
    "from sklearn.datasets import fetch_california_housing\n",
    "housing=fetch_california_housing()"
   ]
  },
  {
   "cell_type": "code",
   "execution_count": 4,
   "id": "c3b9ef60",
   "metadata": {},
   "outputs": [
    {
     "name": "stdout",
     "output_type": "stream",
     "text": [
      "['MedInc', 'HouseAge', 'AveRooms', 'AveBedrms', 'Population', 'AveOccup', 'Latitude', 'Longitude']\n"
     ]
    }
   ],
   "source": [
    "print(housing.feature_names)"
   ]
  },
  {
   "cell_type": "code",
   "execution_count": 6,
   "id": "d400f7f0",
   "metadata": {},
   "outputs": [],
   "source": [
    "from sklearn.model_selection import train_test_split\n",
    "X_train_full,X_test,y_train_full,y_test=train_test_split(housing.data,housing.target,random_state=42)\n",
    "X_train,X_valid,y_train,y_valid=train_test_split(X_train_full,y_train_full,random_state=42)"
   ]
  },
  {
   "cell_type": "code",
   "execution_count": 7,
   "id": "6163b512",
   "metadata": {},
   "outputs": [
    {
     "data": {
      "text/plain": [
       "numpy.ndarray"
      ]
     },
     "execution_count": 7,
     "metadata": {},
     "output_type": "execute_result"
    }
   ],
   "source": [
    "type(X_train)"
   ]
  },
  {
   "cell_type": "code",
   "execution_count": 8,
   "id": "ca4316d2",
   "metadata": {},
   "outputs": [],
   "source": [
    "from sklearn.preprocessing import StandardScaler\n",
    "scaler=StandardScaler()\n",
    "X_train=scaler.fit_transform(X_train)\n",
    "X_valid=scaler.transform(X_valid)\n",
    "X_test=scaler.transform(X_test)"
   ]
  },
  {
   "cell_type": "code",
   "execution_count": 9,
   "id": "a48c321f",
   "metadata": {},
   "outputs": [
    {
     "data": {
      "text/plain": [
       "numpy.ndarray"
      ]
     },
     "execution_count": 9,
     "metadata": {},
     "output_type": "execute_result"
    }
   ],
   "source": [
    "type(X_train)"
   ]
  },
  {
   "cell_type": "code",
   "execution_count": 7,
   "id": "b59352f1",
   "metadata": {},
   "outputs": [],
   "source": [
    "np.random.seed(42)\n",
    "tf.random.set_seed(42)"
   ]
  },
  {
   "cell_type": "code",
   "execution_count": 8,
   "id": "032d423a",
   "metadata": {},
   "outputs": [
    {
     "name": "stderr",
     "output_type": "stream",
     "text": [
      "2022-07-02 14:44:49.388198: W tensorflow/stream_executor/platform/default/dso_loader.cc:64] Could not load dynamic library 'libcuda.so.1'; dlerror: libcuda.so.1: cannot open shared object file: No such file or directory\n",
      "2022-07-02 14:44:49.388297: W tensorflow/stream_executor/cuda/cuda_driver.cc:269] failed call to cuInit: UNKNOWN ERROR (303)\n",
      "2022-07-02 14:44:49.388390: I tensorflow/stream_executor/cuda/cuda_diagnostics.cc:156] kernel driver does not appear to be running on this host (nilesh-Inspiron-3521): /proc/driver/nvidia/version does not exist\n"
     ]
    }
   ],
   "source": [
    "model=keras.models.Sequential([\n",
    "    keras.layers.Dense(30,activation='relu',input_shape=[8]),\n",
    "    keras.layers.Dense(30,activation='relu'),\n",
    "    keras.layers.Dense(1)\n",
    "])"
   ]
  },
  {
   "cell_type": "code",
   "execution_count": 9,
   "id": "7dfa722a",
   "metadata": {},
   "outputs": [
    {
     "name": "stdout",
     "output_type": "stream",
     "text": [
      "Model: \"sequential\"\n",
      "_________________________________________________________________\n",
      " Layer (type)                Output Shape              Param #   \n",
      "=================================================================\n",
      " dense (Dense)               (None, 30)                270       \n",
      "                                                                 \n",
      " dense_1 (Dense)             (None, 30)                930       \n",
      "                                                                 \n",
      " dense_2 (Dense)             (None, 1)                 31        \n",
      "                                                                 \n",
      "=================================================================\n",
      "Total params: 1,231\n",
      "Trainable params: 1,231\n",
      "Non-trainable params: 0\n",
      "_________________________________________________________________\n"
     ]
    }
   ],
   "source": [
    "model.summary()"
   ]
  },
  {
   "cell_type": "code",
   "execution_count": 10,
   "id": "62499400",
   "metadata": {},
   "outputs": [],
   "source": [
    "model.compile(loss='mean_squared_error',\n",
    "             optimizer=keras.optimizers.SGD(learning_rate=1e-3),\n",
    "             metrics=['mae'])"
   ]
  },
  {
   "cell_type": "code",
   "execution_count": 11,
   "id": "b2691e75",
   "metadata": {},
   "outputs": [
    {
     "name": "stdout",
     "output_type": "stream",
     "text": [
      "Epoch 1/20\n",
      "363/363 [==============================] - 3s 5ms/step - loss: 1.8866 - mae: 0.9900 - val_loss: 0.7126 - val_mae: 0.6368\n",
      "Epoch 2/20\n",
      "363/363 [==============================] - 1s 4ms/step - loss: 0.6577 - mae: 0.6042 - val_loss: 0.6880 - val_mae: 0.5704\n",
      "Epoch 3/20\n",
      "363/363 [==============================] - 1s 4ms/step - loss: 0.5934 - mae: 0.5618 - val_loss: 0.5803 - val_mae: 0.5352\n",
      "Epoch 4/20\n",
      "363/363 [==============================] - 2s 4ms/step - loss: 0.5557 - mae: 0.5398 - val_loss: 0.5166 - val_mae: 0.5207\n",
      "Epoch 5/20\n",
      "363/363 [==============================] - 2s 5ms/step - loss: 0.5272 - mae: 0.5237 - val_loss: 0.4895 - val_mae: 0.5022\n",
      "Epoch 6/20\n",
      "363/363 [==============================] - 2s 5ms/step - loss: 0.5033 - mae: 0.5113 - val_loss: 0.4951 - val_mae: 0.4934\n",
      "Epoch 7/20\n",
      "363/363 [==============================] - 2s 5ms/step - loss: 0.4854 - mae: 0.5010 - val_loss: 0.4861 - val_mae: 0.4838\n",
      "Epoch 8/20\n",
      "363/363 [==============================] - 2s 5ms/step - loss: 0.4709 - mae: 0.4924 - val_loss: 0.4554 - val_mae: 0.4753\n",
      "Epoch 9/20\n",
      "363/363 [==============================] - 2s 5ms/step - loss: 0.4578 - mae: 0.4857 - val_loss: 0.4413 - val_mae: 0.4671\n",
      "Epoch 10/20\n",
      "363/363 [==============================] - 2s 5ms/step - loss: 0.4474 - mae: 0.4797 - val_loss: 0.4379 - val_mae: 0.4623\n",
      "Epoch 11/20\n",
      "363/363 [==============================] - 2s 4ms/step - loss: 0.4393 - mae: 0.4744 - val_loss: 0.4396 - val_mae: 0.4638\n",
      "Epoch 12/20\n",
      "363/363 [==============================] - 2s 5ms/step - loss: 0.4318 - mae: 0.4703 - val_loss: 0.4507 - val_mae: 0.4573\n",
      "Epoch 13/20\n",
      "363/363 [==============================] - 2s 5ms/step - loss: 0.4261 - mae: 0.4674 - val_loss: 0.3997 - val_mae: 0.4517\n",
      "Epoch 14/20\n",
      "363/363 [==============================] - 1s 4ms/step - loss: 0.4202 - mae: 0.4636 - val_loss: 0.3956 - val_mae: 0.4497\n",
      "Epoch 15/20\n",
      "363/363 [==============================] - 2s 4ms/step - loss: 0.4155 - mae: 0.4613 - val_loss: 0.3916 - val_mae: 0.4464\n",
      "Epoch 16/20\n",
      "363/363 [==============================] - 2s 4ms/step - loss: 0.4112 - mae: 0.4591 - val_loss: 0.3937 - val_mae: 0.4445\n",
      "Epoch 17/20\n",
      "363/363 [==============================] - 1s 4ms/step - loss: 0.4077 - mae: 0.4569 - val_loss: 0.3809 - val_mae: 0.4390\n",
      "Epoch 18/20\n",
      "363/363 [==============================] - 1s 4ms/step - loss: 0.4040 - mae: 0.4545 - val_loss: 0.3793 - val_mae: 0.4368\n",
      "Epoch 19/20\n",
      "363/363 [==============================] - 1s 4ms/step - loss: 0.4004 - mae: 0.4521 - val_loss: 0.3850 - val_mae: 0.4369\n",
      "Epoch 20/20\n",
      "363/363 [==============================] - 1s 4ms/step - loss: 0.3980 - mae: 0.4508 - val_loss: 0.3809 - val_mae: 0.4368\n"
     ]
    }
   ],
   "source": [
    "model_history=model.fit(X_train,y_train,epochs=20,validation_data=(X_valid,y_valid))"
   ]
  },
  {
   "cell_type": "code",
   "execution_count": null,
   "id": "736bb3a3",
   "metadata": {},
   "outputs": [],
   "source": []
  },
  {
   "cell_type": "code",
   "execution_count": 12,
   "id": "36e0d939",
   "metadata": {},
   "outputs": [
    {
     "name": "stdout",
     "output_type": "stream",
     "text": [
      "162/162 [==============================] - 0s 3ms/step - loss: 0.3942 - mae: 0.4502\n"
     ]
    }
   ],
   "source": [
    "mae_test=model.evaluate(X_test,y_test)"
   ]
  },
  {
   "cell_type": "code",
   "execution_count": 13,
   "id": "3317cee3",
   "metadata": {},
   "outputs": [
    {
     "data": {
      "image/png": "[encoded data removed]",
      "text/plain": [
       "<Figure size 576x360 with 1 Axes>"
      ]
     },
     "metadata": {
      "needs_background": "light"
     },
     "output_type": "display_data"
    }
   ],
   "source": [
    "pd.DataFrame(model_history.history).plot(figsize=(8,5))\n",
    "plt.grid(True)\n",
    "plt.gca().set_ylim(0,1)\n",
    "plt.show()"
   ]
  },
  {
   "cell_type": "code",
   "execution_count": 14,
   "id": "67aa9469",
   "metadata": {},
   "outputs": [],
   "source": [
    "X_new=X_test[:3]"
   ]
  },
  {
   "cell_type": "code",
   "execution_count": 15,
   "id": "76ab6f98",
   "metadata": {},
   "outputs": [
    {
     "name": "stdout",
     "output_type": "stream",
     "text": [
      "1/1 [==============================] - 0s 142ms/step\n"
     ]
    }
   ],
   "source": [
    "y_pred=model.predict(X_new)"
   ]
  },
  {
   "cell_type": "code",
   "execution_count": 16,
   "id": "2c27965d",
   "metadata": {},
   "outputs": [
    {
     "name": "stdout",
     "output_type": "stream",
     "text": [
      "[[0.53287673]\n",
      " [1.8915398 ]\n",
      " [3.404087  ]]\n",
      "[0.477   0.458   5.00001]\n"
     ]
    }
   ],
   "source": [
    "print(y_pred)\n",
    "print(y_test[:3])"
   ]
  },
  {
   "cell_type": "code",
   "execution_count": 17,
   "id": "a58130ca",
   "metadata": {},
   "outputs": [],
   "source": [
    "del model"
   ]
  },
  {
   "cell_type": "code",
   "execution_count": 18,
   "id": "69519699",
   "metadata": {},
   "outputs": [],
   "source": [
    "keras.backend.clear_session()"
   ]
  },
  {
   "cell_type": "code",
   "execution_count": null,
   "id": "9f35f85c",
   "metadata": {},
   "outputs": [],
   "source": []
  },
  {
   "cell_type": "markdown",
   "id": "433b6866",
   "metadata": {},
   "source": [
    "# Functional API"
   ]
  },
  {
   "cell_type": "code",
   "execution_count": 19,
   "id": "b67d3f2a",
   "metadata": {},
   "outputs": [],
   "source": [
    "input_=keras.layers.Input(shape=X_train.shape[1:])\n",
    "hidden1=keras.layers.Dense(30,activation='relu')(input_)\n",
    "hidden2=keras.layers.Dense(30,activation='relu')(hidden1)\n",
    "concat=keras.layers.concatenate([input_,hidden2])\n",
    "output=keras.layers.Dense(1)(concat)\n",
    "model=keras.models.Model(inputs=[input_],outputs=[output])\n"
   ]
  },
  {
   "cell_type": "code",
   "execution_count": 20,
   "id": "0d467a16",
   "metadata": {},
   "outputs": [
    {
     "name": "stdout",
     "output_type": "stream",
     "text": [
      "Model: \"model\"\n",
      "__________________________________________________________________________________________________\n",
      " Layer (type)                   Output Shape         Param #     Connected to                     \n",
      "==================================================================================================\n",
      " input_1 (InputLayer)           [(None, 8)]          0           []                               \n",
      "                                                                                                  \n",
      " dense (Dense)                  (None, 30)           270         ['input_1[0][0]']                \n",
      "                                                                                                  \n",
      " dense_1 (Dense)                (None, 30)           930         ['dense[0][0]']                  \n",
      "                                                                                                  \n",
      " concatenate (Concatenate)      (None, 38)           0           ['input_1[0][0]',                \n",
      "                                                                  'dense_1[0][0]']                \n",
      "                                                                                                  \n",
      " dense_2 (Dense)                (None, 1)            39          ['concatenate[0][0]']            \n",
      "                                                                                                  \n",
      "==================================================================================================\n",
      "Total params: 1,239\n",
      "Trainable params: 1,239\n",
      "Non-trainable params: 0\n",
      "__________________________________________________________________________________________________\n"
     ]
    }
   ],
   "source": [
    "model.summary()"
   ]
  },
  {
   "cell_type": "code",
   "execution_count": 21,
   "id": "62f39a68",
   "metadata": {},
   "outputs": [],
   "source": [
    "model.compile(loss='mean_squared_error',\n",
    "             optimizer=keras.optimizers.SGD(learning_rate=1e-3),\n",
    "             metrics=['mae'])"
   ]
  },
  {
   "cell_type": "code",
   "execution_count": 22,
   "id": "0e70aae8",
   "metadata": {},
   "outputs": [
    {
     "name": "stdout",
     "output_type": "stream",
     "text": [
      "Epoch 1/40\n",
      "363/363 [==============================] - 2s 4ms/step - loss: 1.6920 - mae: 0.8893 - val_loss: 0.8798 - val_mae: 0.6026\n",
      "Epoch 2/40\n",
      "363/363 [==============================] - 1s 4ms/step - loss: 0.6836 - mae: 0.5994 - val_loss: 0.6420 - val_mae: 0.5764\n",
      "Epoch 3/40\n",
      "363/363 [==============================] - 1s 4ms/step - loss: 0.6265 - mae: 0.5775 - val_loss: 0.5891 - val_mae: 0.5503\n",
      "Epoch 4/40\n",
      "363/363 [==============================] - 1s 4ms/step - loss: 0.5877 - mae: 0.5581 - val_loss: 0.5455 - val_mae: 0.5343\n",
      "Epoch 5/40\n",
      "363/363 [==============================] - 1s 4ms/step - loss: 0.5566 - mae: 0.5421 - val_loss: 0.5409 - val_mae: 0.5202\n",
      "Epoch 6/40\n",
      "363/363 [==============================] - 1s 4ms/step - loss: 0.5312 - mae: 0.5298 - val_loss: 0.4903 - val_mae: 0.5046\n",
      "Epoch 7/40\n",
      "363/363 [==============================] - 1s 4ms/step - loss: 0.5108 - mae: 0.5186 - val_loss: 0.4728 - val_mae: 0.4962\n",
      "Epoch 8/40\n",
      "363/363 [==============================] - 1s 4ms/step - loss: 0.4952 - mae: 0.5096 - val_loss: 0.5017 - val_mae: 0.4921\n",
      "Epoch 9/40\n",
      "363/363 [==============================] - 1s 4ms/step - loss: 0.4802 - mae: 0.5025 - val_loss: 0.4511 - val_mae: 0.4811\n",
      "Epoch 10/40\n",
      "363/363 [==============================] - 1s 4ms/step - loss: 0.4685 - mae: 0.4959 - val_loss: 0.4330 - val_mae: 0.4735\n",
      "Epoch 11/40\n",
      "363/363 [==============================] - 1s 4ms/step - loss: 0.4590 - mae: 0.4897 - val_loss: 0.4991 - val_mae: 0.4778\n",
      "Epoch 12/40\n",
      "363/363 [==============================] - 1s 4ms/step - loss: 0.4502 - mae: 0.4851 - val_loss: 0.4179 - val_mae: 0.4658\n",
      "Epoch 13/40\n",
      "363/363 [==============================] - 1s 4ms/step - loss: 0.4433 - mae: 0.4811 - val_loss: 0.4409 - val_mae: 0.4658\n",
      "Epoch 14/40\n",
      "363/363 [==============================] - 1s 4ms/step - loss: 0.4363 - mae: 0.4766 - val_loss: 0.4239 - val_mae: 0.4621\n",
      "Epoch 15/40\n",
      "363/363 [==============================] - 1s 4ms/step - loss: 0.4306 - mae: 0.4736 - val_loss: 0.4480 - val_mae: 0.4601\n",
      "Epoch 16/40\n",
      "363/363 [==============================] - 1s 4ms/step - loss: 0.4253 - mae: 0.4703 - val_loss: 0.4113 - val_mae: 0.4550\n",
      "Epoch 17/40\n",
      "363/363 [==============================] - 1s 4ms/step - loss: 0.4213 - mae: 0.4676 - val_loss: 0.4454 - val_mae: 0.4538\n",
      "Epoch 18/40\n",
      "363/363 [==============================] - 1s 4ms/step - loss: 0.4168 - mae: 0.4650 - val_loss: 0.4538 - val_mae: 0.4518\n",
      "Epoch 19/40\n",
      "363/363 [==============================] - 1s 4ms/step - loss: 0.4126 - mae: 0.4616 - val_loss: 0.4084 - val_mae: 0.4477\n",
      "Epoch 20/40\n",
      "363/363 [==============================] - 1s 4ms/step - loss: 0.4096 - mae: 0.4600 - val_loss: 0.4581 - val_mae: 0.4505\n",
      "Epoch 21/40\n",
      "363/363 [==============================] - 1s 4ms/step - loss: 0.4060 - mae: 0.4573 - val_loss: 0.4267 - val_mae: 0.4487\n",
      "Epoch 22/40\n",
      "363/363 [==============================] - 1s 4ms/step - loss: 0.4029 - mae: 0.4559 - val_loss: 0.4677 - val_mae: 0.4485\n",
      "Epoch 23/40\n",
      "363/363 [==============================] - 1s 4ms/step - loss: 0.4000 - mae: 0.4542 - val_loss: 0.3940 - val_mae: 0.4390\n",
      "Epoch 24/40\n",
      "363/363 [==============================] - 1s 4ms/step - loss: 0.3972 - mae: 0.4515 - val_loss: 0.4277 - val_mae: 0.4410\n",
      "Epoch 25/40\n",
      "363/363 [==============================] - 1s 4ms/step - loss: 0.3946 - mae: 0.4502 - val_loss: 0.4414 - val_mae: 0.4412\n",
      "Epoch 26/40\n",
      "363/363 [==============================] - 1s 4ms/step - loss: 0.3925 - mae: 0.4488 - val_loss: 0.4365 - val_mae: 0.4393\n",
      "Epoch 27/40\n",
      "363/363 [==============================] - 1s 4ms/step - loss: 0.3905 - mae: 0.4472 - val_loss: 0.3854 - val_mae: 0.4354\n",
      "Epoch 28/40\n",
      "363/363 [==============================] - 1s 4ms/step - loss: 0.3885 - mae: 0.4455 - val_loss: 0.4330 - val_mae: 0.4401\n",
      "Epoch 29/40\n",
      "363/363 [==============================] - 1s 4ms/step - loss: 0.3867 - mae: 0.4448 - val_loss: 0.4135 - val_mae: 0.4373\n",
      "Epoch 30/40\n",
      "363/363 [==============================] - 1s 4ms/step - loss: 0.3848 - mae: 0.4435 - val_loss: 0.4344 - val_mae: 0.4358\n",
      "Epoch 31/40\n",
      "363/363 [==============================] - 1s 4ms/step - loss: 0.3830 - mae: 0.4420 - val_loss: 0.4016 - val_mae: 0.4332\n",
      "Epoch 32/40\n",
      "363/363 [==============================] - 1s 4ms/step - loss: 0.3816 - mae: 0.4410 - val_loss: 0.4458 - val_mae: 0.4380\n",
      "Epoch 33/40\n",
      "363/363 [==============================] - 1s 4ms/step - loss: 0.3805 - mae: 0.4408 - val_loss: 0.3867 - val_mae: 0.4319\n",
      "Epoch 34/40\n",
      "363/363 [==============================] - 1s 4ms/step - loss: 0.3787 - mae: 0.4393 - val_loss: 0.3923 - val_mae: 0.4323\n",
      "Epoch 35/40\n",
      "363/363 [==============================] - 1s 4ms/step - loss: 0.3776 - mae: 0.4383 - val_loss: 0.4512 - val_mae: 0.4358\n",
      "Epoch 36/40\n",
      "363/363 [==============================] - 1s 4ms/step - loss: 0.3763 - mae: 0.4379 - val_loss: 0.3639 - val_mae: 0.4268\n",
      "Epoch 37/40\n",
      "363/363 [==============================] - 1s 4ms/step - loss: 0.3751 - mae: 0.4365 - val_loss: 0.4068 - val_mae: 0.4309\n",
      "Epoch 38/40\n",
      "363/363 [==============================] - 1s 4ms/step - loss: 0.3741 - mae: 0.4362 - val_loss: 0.3776 - val_mae: 0.4276\n",
      "Epoch 39/40\n",
      "363/363 [==============================] - 1s 4ms/step - loss: 0.3728 - mae: 0.4352 - val_loss: 0.3774 - val_mae: 0.4266\n",
      "Epoch 40/40\n",
      "363/363 [==============================] - 1s 4ms/step - loss: 0.3716 - mae: 0.4345 - val_loss: 0.3917 - val_mae: 0.4260\n"
     ]
    }
   ],
   "source": [
    "model_history=model.fit(X_train,y_train,epochs=40,validation_data=(X_valid,y_valid))"
   ]
  },
  {
   "cell_type": "code",
   "execution_count": null,
   "id": "0b10c097",
   "metadata": {},
   "outputs": [],
   "source": []
  },
  {
   "cell_type": "code",
   "execution_count": 23,
   "id": "f669e53b",
   "metadata": {},
   "outputs": [
    {
     "name": "stdout",
     "output_type": "stream",
     "text": [
      "162/162 [==============================] - 0s 3ms/step - loss: 0.3685 - mae: 0.4314\n"
     ]
    }
   ],
   "source": [
    "mae_test=model.evaluate(X_test,y_test)"
   ]
  },
  {
   "cell_type": "code",
   "execution_count": 24,
   "id": "be650ad5",
   "metadata": {},
   "outputs": [
    {
     "data": {
      "image/png": "[encoded data removed]",
      "text/plain": [
       "<Figure size 576x360 with 1 Axes>"
      ]
     },
     "metadata": {
      "needs_background": "light"
     },
     "output_type": "display_data"
    }
   ],
   "source": [
    "pd.DataFrame(model_history.history).plot(figsize=(8,5))\n",
    "plt.grid(True)\n",
    "plt.gca().set_ylim(0,1)\n",
    "plt.show()"
   ]
  },
  {
   "cell_type": "code",
   "execution_count": 25,
   "id": "32095a92",
   "metadata": {},
   "outputs": [],
   "source": [
    "model.save('my_func_model.h5')"
   ]
  },
  {
   "cell_type": "code",
   "execution_count": 26,
   "id": "787a22b3",
   "metadata": {},
   "outputs": [
    {
     "data": {
      "text/plain": [
       "'/home/nilesh/ml_course_notebooks'"
      ]
     },
     "execution_count": 26,
     "metadata": {},
     "output_type": "execute_result"
    }
   ],
   "source": [
    "pwd"
   ]
  },
  {
   "cell_type": "code",
   "execution_count": 27,
   "id": "f224796b",
   "metadata": {},
   "outputs": [],
   "source": [
    "del model\n"
   ]
  },
  {
   "cell_type": "code",
   "execution_count": 28,
   "id": "1a84366f",
   "metadata": {},
   "outputs": [],
   "source": [
    "keras.backend.clear_session()"
   ]
  },
  {
   "cell_type": "code",
   "execution_count": 29,
   "id": "b3cd64fc",
   "metadata": {},
   "outputs": [
    {
     "name": "stdout",
     "output_type": "stream",
     "text": [
      "/home/nilesh/ml_course_notebooks\n"
     ]
    }
   ],
   "source": [
    "%cd '/home/nilesh/ml_course_notebooks'"
   ]
  },
  {
   "cell_type": "code",
   "execution_count": 35,
   "id": "2fa37891",
   "metadata": {},
   "outputs": [],
   "source": [
    "model=keras.models.load_model('my_func_model.h5')"
   ]
  },
  {
   "cell_type": "code",
   "execution_count": 36,
   "id": "a006a4c1",
   "metadata": {},
   "outputs": [
    {
     "name": "stdout",
     "output_type": "stream",
     "text": [
      "Model: \"model\"\n",
      "__________________________________________________________________________________________________\n",
      " Layer (type)                   Output Shape         Param #     Connected to                     \n",
      "==================================================================================================\n",
      " input_1 (InputLayer)           [(None, 8)]          0           []                               \n",
      "                                                                                                  \n",
      " dense (Dense)                  (None, 30)           270         ['input_1[0][0]']                \n",
      "                                                                                                  \n",
      " dense_1 (Dense)                (None, 30)           930         ['dense[0][0]']                  \n",
      "                                                                                                  \n",
      " concatenate (Concatenate)      (None, 38)           0           ['input_1[0][0]',                \n",
      "                                                                  'dense_1[0][0]']                \n",
      "                                                                                                  \n",
      " dense_2 (Dense)                (None, 1)            39          ['concatenate[0][0]']            \n",
      "                                                                                                  \n",
      "==================================================================================================\n",
      "Total params: 1,239\n",
      "Trainable params: 1,239\n",
      "Non-trainable params: 0\n",
      "__________________________________________________________________________________________________\n"
     ]
    }
   ],
   "source": [
    "model.summary()"
   ]
  },
  {
   "cell_type": "code",
   "execution_count": 37,
   "id": "d18afa17",
   "metadata": {},
   "outputs": [
    {
     "name": "stdout",
     "output_type": "stream",
     "text": [
      "1/1 [==============================] - 0s 92ms/step\n"
     ]
    },
    {
     "data": {
      "text/plain": [
       "array([[0.7777381],\n",
       "       [1.7328521],\n",
       "       [3.7574396]], dtype=float32)"
      ]
     },
     "execution_count": 37,
     "metadata": {},
     "output_type": "execute_result"
    }
   ],
   "source": [
    "model.predict(X_new)"
   ]
  },
  {
   "cell_type": "markdown",
   "id": "25cf15db",
   "metadata": {},
   "source": [
    "# Using Callbacks during Training"
   ]
  },
  {
   "cell_type": "code",
   "execution_count": null,
   "id": "70a69e70",
   "metadata": {},
   "outputs": [],
   "source": [
    "\n"
   ]
  },
  {
   "cell_type": "code",
   "execution_count": 38,
   "id": "d7dd72af",
   "metadata": {},
   "outputs": [],
   "source": [
    "keras.backend.clear_session()"
   ]
  },
  {
   "cell_type": "code",
   "execution_count": 39,
   "id": "9e858b26",
   "metadata": {},
   "outputs": [],
   "source": [
    "np.random.seed(42)\n",
    "tf.random.set_seed(42)"
   ]
  },
  {
   "cell_type": "code",
   "execution_count": 40,
   "id": "7ddd70a1",
   "metadata": {},
   "outputs": [],
   "source": [
    "model=keras.models.Sequential([\n",
    "    keras.layers.Dense(30,activation='relu',input_shape=[8]),\n",
    "    keras.layers.Dense(30,activation='relu'),\n",
    "    keras.layers.Dense(1)\n",
    "])"
   ]
  },
  {
   "cell_type": "code",
   "execution_count": 42,
   "id": "4385f6d5",
   "metadata": {},
   "outputs": [],
   "source": [
    "model.compile(loss='mse',\n",
    "             optimizer=keras.optimizers.SGD(learning_rate=1e-3))"
   ]
  },
  {
   "cell_type": "code",
   "execution_count": 43,
   "id": "e7c5e108",
   "metadata": {},
   "outputs": [],
   "source": [
    "checkpoint_cb=keras.callbacks.ModelCheckpoint('Model-{epoch:02d}.h5')"
   ]
  },
  {
   "cell_type": "code",
   "execution_count": 44,
   "id": "2259943b",
   "metadata": {},
   "outputs": [
    {
     "name": "stdout",
     "output_type": "stream",
     "text": [
      "Epoch 1/10\n",
      "363/363 [==============================] - 3s 5ms/step - loss: 1.8866 - val_loss: 0.7126\n",
      "Epoch 2/10\n",
      "363/363 [==============================] - 2s 5ms/step - loss: 0.6577 - val_loss: 0.6880\n",
      "Epoch 3/10\n",
      "363/363 [==============================] - 2s 5ms/step - loss: 0.5934 - val_loss: 0.5803\n",
      "Epoch 4/10\n",
      "363/363 [==============================] - 2s 5ms/step - loss: 0.5557 - val_loss: 0.5166\n",
      "Epoch 5/10\n",
      "363/363 [==============================] - 2s 5ms/step - loss: 0.5272 - val_loss: 0.4895\n",
      "Epoch 6/10\n",
      "363/363 [==============================] - 2s 5ms/step - loss: 0.5033 - val_loss: 0.4951\n",
      "Epoch 7/10\n",
      "363/363 [==============================] - 2s 4ms/step - loss: 0.4854 - val_loss: 0.4861\n",
      "Epoch 8/10\n",
      "363/363 [==============================] - 2s 5ms/step - loss: 0.4709 - val_loss: 0.4554\n",
      "Epoch 9/10\n",
      "363/363 [==============================] - 2s 4ms/step - loss: 0.4578 - val_loss: 0.4413\n",
      "Epoch 10/10\n",
      "363/363 [==============================] - 2s 4ms/step - loss: 0.4474 - val_loss: 0.4379\n"
     ]
    }
   ],
   "source": [
    "history=model.fit(X_train,y_train,epochs=10,validation_data=(X_valid,y_valid),callbacks=[checkpoint_cb])"
   ]
  },
  {
   "cell_type": "code",
   "execution_count": 45,
   "id": "281d5484",
   "metadata": {},
   "outputs": [],
   "source": [
    "del model\n",
    "keras.backend.clear_session()"
   ]
  },
  {
   "cell_type": "code",
   "execution_count": 50,
   "id": "c8b09a5c",
   "metadata": {},
   "outputs": [],
   "source": [
    "model=keras.models.load_model('Model-05.h5')"
   ]
  },
  {
   "cell_type": "code",
   "execution_count": null,
   "id": "25640621",
   "metadata": {},
   "outputs": [],
   "source": []
  },
  {
   "cell_type": "code",
   "execution_count": 51,
   "id": "86086f8c",
   "metadata": {},
   "outputs": [
    {
     "name": "stdout",
     "output_type": "stream",
     "text": [
      "162/162 [==============================] - 1s 3ms/step - loss: 0.5059\n"
     ]
    }
   ],
   "source": [
    "mse_test=model.evaluate(X_test,y_test)"
   ]
  },
  {
   "cell_type": "markdown",
   "id": "400fb074",
   "metadata": {},
   "source": [
    "# Best model Only"
   ]
  },
  {
   "cell_type": "code",
   "execution_count": 53,
   "id": "fffc40e0",
   "metadata": {},
   "outputs": [
    {
     "ename": "NameError",
     "evalue": "name 'model' is not defined",
     "output_type": "error",
     "traceback": [
      "\u001b[0;31m---------------------------------------------------------------------------\u001b[0m",
      "\u001b[0;31mNameError\u001b[0m                                 Traceback (most recent call last)",
      "Input \u001b[0;32mIn [53]\u001b[0m, in \u001b[0;36m<cell line: 1>\u001b[0;34m()\u001b[0m\n\u001b[0;32m----> 1\u001b[0m \u001b[38;5;28;01mdel\u001b[39;00m model\n\u001b[1;32m      2\u001b[0m keras\u001b[38;5;241m.\u001b[39mbackend\u001b[38;5;241m.\u001b[39mclear_session()\n",
      "\u001b[0;31mNameError\u001b[0m: name 'model' is not defined"
     ]
    }
   ],
   "source": [
    "del model\n",
    "keras.backend.clear_session()"
   ]
  },
  {
   "cell_type": "code",
   "execution_count": 55,
   "id": "a52c45dc",
   "metadata": {},
   "outputs": [],
   "source": [
    "model=keras.models.Sequential([\n",
    "    keras.layers.Dense(30,activation='relu',input_shape=[8]),\n",
    "    keras.layers.Dense(30,activation='relu'),\n",
    "    keras.layers.Dense(1)\n",
    "])"
   ]
  },
  {
   "cell_type": "code",
   "execution_count": 56,
   "id": "db576031",
   "metadata": {},
   "outputs": [],
   "source": [
    "model.compile(loss='mse',\n",
    "             optimizer=keras.optimizers.SGD(learning_rate=1e-3))"
   ]
  },
  {
   "cell_type": "code",
   "execution_count": 57,
   "id": "687ee059",
   "metadata": {},
   "outputs": [],
   "source": [
    "checkpoint_cb=keras.callbacks.ModelCheckpoint('Best_Model.h5',save_best_only=True)"
   ]
  },
  {
   "cell_type": "code",
   "execution_count": 58,
   "id": "7a6b29cc",
   "metadata": {},
   "outputs": [
    {
     "name": "stdout",
     "output_type": "stream",
     "text": [
      "Epoch 1/10\n",
      "363/363 [==============================] - 2s 5ms/step - loss: 2.5780 - val_loss: 2.2266\n",
      "Epoch 2/10\n",
      "363/363 [==============================] - 2s 4ms/step - loss: 1.0896 - val_loss: 0.9287\n",
      "Epoch 3/10\n",
      "363/363 [==============================] - 2s 5ms/step - loss: 0.8430 - val_loss: 0.9400\n",
      "Epoch 4/10\n",
      "363/363 [==============================] - 2s 5ms/step - loss: 0.7673 - val_loss: 0.7490\n",
      "Epoch 5/10\n",
      "363/363 [==============================] - 2s 5ms/step - loss: 0.7194 - val_loss: 0.6682\n",
      "Epoch 6/10\n",
      "363/363 [==============================] - 2s 5ms/step - loss: 0.6799 - val_loss: 0.6534\n",
      "Epoch 7/10\n",
      "363/363 [==============================] - 2s 6ms/step - loss: 0.6466 - val_loss: 0.6407\n",
      "Epoch 8/10\n",
      "363/363 [==============================] - 2s 6ms/step - loss: 0.6173 - val_loss: 0.5704\n",
      "Epoch 9/10\n",
      "363/363 [==============================] - 2s 5ms/step - loss: 0.5894 - val_loss: 0.5552\n",
      "Epoch 10/10\n",
      "363/363 [==============================] - 2s 5ms/step - loss: 0.5645 - val_loss: 0.5572\n"
     ]
    }
   ],
   "source": [
    "history=model.fit(X_train,y_train,epochs=10,validation_data=(X_valid,y_valid),callbacks=[checkpoint_cb])"
   ]
  },
  {
   "cell_type": "code",
   "execution_count": 59,
   "id": "23f3a93c",
   "metadata": {},
   "outputs": [],
   "source": [
    "model=keras.models.load_model('Best_Model.h5')"
   ]
  },
  {
   "cell_type": "code",
   "execution_count": 60,
   "id": "2d64c5c1",
   "metadata": {},
   "outputs": [
    {
     "name": "stdout",
     "output_type": "stream",
     "text": [
      "162/162 [==============================] - 1s 3ms/step - loss: 0.5634\n"
     ]
    }
   ],
   "source": [
    "mse_test=model.evaluate(X_test,y_test)"
   ]
  },
  {
   "cell_type": "markdown",
   "id": "2e1de2f6",
   "metadata": {},
   "source": [
    "# Best Model Only"
   ]
  },
  {
   "cell_type": "code",
   "execution_count": 61,
   "id": "9fb152c8",
   "metadata": {},
   "outputs": [],
   "source": [
    "del model\n",
    "keras.backend.clear_session()"
   ]
  },
  {
   "cell_type": "code",
   "execution_count": null,
   "id": "d1dbcfee",
   "metadata": {},
   "outputs": [],
   "source": []
  },
  {
   "cell_type": "code",
   "execution_count": 62,
   "id": "9cda6496",
   "metadata": {},
   "outputs": [],
   "source": [
    "model=keras.models.Sequential([\n",
    "    keras.layers.Dense(30,activation='relu',input_shape=[8]),\n",
    "    keras.layers.Dense(30,activation='relu'),\n",
    "    keras.layers.Dense(1)\n",
    "])"
   ]
  },
  {
   "cell_type": "code",
   "execution_count": 63,
   "id": "17386964",
   "metadata": {},
   "outputs": [],
   "source": [
    "model.compile(loss='mse',\n",
    "             optimizer=keras.optimizers.SGD(learning_rate=1e-3))"
   ]
  },
  {
   "cell_type": "code",
   "execution_count": 64,
   "id": "60d16a3e",
   "metadata": {},
   "outputs": [],
   "source": [
    "checkpoint_cb=keras.callbacks.ModelCheckpoint('early_stop_model.h5',save_best_only=True)"
   ]
  },
  {
   "cell_type": "code",
   "execution_count": 65,
   "id": "c3a4f4d0",
   "metadata": {},
   "outputs": [],
   "source": [
    "early_stopping_cb=keras.callbacks.EarlyStopping(patience=10,restore_best_weights=True)"
   ]
  },
  {
   "cell_type": "code",
   "execution_count": 66,
   "id": "cb83fa88",
   "metadata": {},
   "outputs": [
    {
     "name": "stdout",
     "output_type": "stream",
     "text": [
      "Epoch 1/200\n",
      "363/363 [==============================] - 2s 5ms/step - loss: 1.6857 - val_loss: 0.7096\n",
      "Epoch 2/200\n",
      "363/363 [==============================] - 2s 5ms/step - loss: 0.6944 - val_loss: 0.7379\n",
      "Epoch 3/200\n",
      "363/363 [==============================] - 2s 5ms/step - loss: 0.6431 - val_loss: 0.6471\n",
      "Epoch 4/200\n",
      "363/363 [==============================] - 2s 5ms/step - loss: 0.6051 - val_loss: 0.5656\n",
      "Epoch 5/200\n",
      "363/363 [==============================] - 2s 5ms/step - loss: 0.5748 - val_loss: 0.5292\n",
      "Epoch 6/200\n",
      "363/363 [==============================] - 2s 5ms/step - loss: 0.5493 - val_loss: 0.5122\n",
      "Epoch 7/200\n",
      "363/363 [==============================] - 2s 5ms/step - loss: 0.5281 - val_loss: 0.4917\n",
      "Epoch 8/200\n",
      "363/363 [==============================] - 2s 5ms/step - loss: 0.5102 - val_loss: 0.4722\n",
      "Epoch 9/200\n",
      "363/363 [==============================] - 2s 4ms/step - loss: 0.4939 - val_loss: 0.4555\n",
      "Epoch 10/200\n",
      "363/363 [==============================] - 2s 5ms/step - loss: 0.4800 - val_loss: 0.4423\n",
      "Epoch 11/200\n",
      "363/363 [==============================] - 2s 5ms/step - loss: 0.4684 - val_loss: 0.4405\n",
      "Epoch 12/200\n",
      "363/363 [==============================] - 2s 6ms/step - loss: 0.4581 - val_loss: 0.4284\n",
      "Epoch 13/200\n",
      "363/363 [==============================] - 2s 5ms/step - loss: 0.4490 - val_loss: 0.4228\n",
      "Epoch 14/200\n",
      "363/363 [==============================] - 2s 5ms/step - loss: 0.4410 - val_loss: 0.4142\n",
      "Epoch 15/200\n",
      "363/363 [==============================] - 2s 6ms/step - loss: 0.4339 - val_loss: 0.4192\n",
      "Epoch 16/200\n",
      "363/363 [==============================] - 2s 5ms/step - loss: 0.4275 - val_loss: 0.3997\n",
      "Epoch 17/200\n",
      "363/363 [==============================] - 2s 5ms/step - loss: 0.4218 - val_loss: 0.4170\n",
      "Epoch 18/200\n",
      "363/363 [==============================] - 2s 5ms/step - loss: 0.4169 - val_loss: 0.4079\n",
      "Epoch 19/200\n",
      "363/363 [==============================] - 2s 5ms/step - loss: 0.4113 - val_loss: 0.3931\n",
      "Epoch 20/200\n",
      "363/363 [==============================] - 2s 5ms/step - loss: 0.4077 - val_loss: 0.4398\n",
      "Epoch 21/200\n",
      "363/363 [==============================] - 2s 5ms/step - loss: 0.4040 - val_loss: 0.4053\n",
      "Epoch 22/200\n",
      "363/363 [==============================] - 2s 5ms/step - loss: 0.4006 - val_loss: 0.4107\n",
      "Epoch 23/200\n",
      "363/363 [==============================] - 2s 5ms/step - loss: 0.3974 - val_loss: 0.3719\n",
      "Epoch 24/200\n",
      "363/363 [==============================] - 2s 5ms/step - loss: 0.3942 - val_loss: 0.3938\n",
      "Epoch 25/200\n",
      "363/363 [==============================] - 2s 5ms/step - loss: 0.3912 - val_loss: 0.4101\n",
      "Epoch 26/200\n",
      "363/363 [==============================] - 2s 5ms/step - loss: 0.3891 - val_loss: 0.3914\n",
      "Epoch 27/200\n",
      "363/363 [==============================] - 2s 5ms/step - loss: 0.3872 - val_loss: 0.3623\n",
      "Epoch 28/200\n",
      "363/363 [==============================] - 2s 5ms/step - loss: 0.3851 - val_loss: 0.3912\n",
      "Epoch 29/200\n",
      "363/363 [==============================] - 2s 5ms/step - loss: 0.3830 - val_loss: 0.3620\n",
      "Epoch 30/200\n",
      "363/363 [==============================] - 2s 6ms/step - loss: 0.3810 - val_loss: 0.4113\n",
      "Epoch 31/200\n",
      "363/363 [==============================] - 2s 5ms/step - loss: 0.3789 - val_loss: 0.3647\n",
      "Epoch 32/200\n",
      "363/363 [==============================] - 2s 5ms/step - loss: 0.3776 - val_loss: 0.3940\n",
      "Epoch 33/200\n",
      "363/363 [==============================] - 2s 5ms/step - loss: 0.3770 - val_loss: 0.3535\n",
      "Epoch 34/200\n",
      "363/363 [==============================] - 2s 5ms/step - loss: 0.3748 - val_loss: 0.3604\n",
      "Epoch 35/200\n",
      "363/363 [==============================] - 2s 5ms/step - loss: 0.3738 - val_loss: 0.3967\n",
      "Epoch 36/200\n",
      "363/363 [==============================] - 2s 5ms/step - loss: 0.3723 - val_loss: 0.3523\n",
      "Epoch 37/200\n",
      "363/363 [==============================] - 2s 5ms/step - loss: 0.3715 - val_loss: 0.3643\n",
      "Epoch 38/200\n",
      "363/363 [==============================] - 2s 5ms/step - loss: 0.3699 - val_loss: 0.3491\n",
      "Epoch 39/200\n",
      "363/363 [==============================] - 2s 5ms/step - loss: 0.3687 - val_loss: 0.3482\n",
      "Epoch 40/200\n",
      "363/363 [==============================] - 2s 5ms/step - loss: 0.3675 - val_loss: 0.3547\n",
      "Epoch 41/200\n",
      "363/363 [==============================] - 2s 5ms/step - loss: 0.3673 - val_loss: 0.3671\n",
      "Epoch 42/200\n",
      "363/363 [==============================] - 2s 5ms/step - loss: 0.3665 - val_loss: 0.3784\n",
      "Epoch 43/200\n",
      "363/363 [==============================] - 2s 5ms/step - loss: 0.3652 - val_loss: 0.3763\n",
      "Epoch 44/200\n",
      "363/363 [==============================] - 2s 5ms/step - loss: 0.3638 - val_loss: 0.3776\n",
      "Epoch 45/200\n",
      "363/363 [==============================] - 2s 5ms/step - loss: 0.3636 - val_loss: 0.3418\n",
      "Epoch 46/200\n",
      "363/363 [==============================] - 2s 5ms/step - loss: 0.3620 - val_loss: 0.3479\n",
      "Epoch 47/200\n",
      "363/363 [==============================] - 2s 6ms/step - loss: 0.3612 - val_loss: 0.3521\n",
      "Epoch 48/200\n",
      "363/363 [==============================] - 2s 5ms/step - loss: 0.3605 - val_loss: 0.3723\n",
      "Epoch 49/200\n",
      "363/363 [==============================] - 2s 6ms/step - loss: 0.3611 - val_loss: 0.3429\n",
      "Epoch 50/200\n",
      "363/363 [==============================] - 2s 5ms/step - loss: 0.3591 - val_loss: 0.3395\n",
      "Epoch 51/200\n",
      "363/363 [==============================] - 2s 5ms/step - loss: 0.3583 - val_loss: 0.3597\n",
      "Epoch 52/200\n",
      "363/363 [==============================] - 2s 5ms/step - loss: 0.3578 - val_loss: 0.3421\n",
      "Epoch 53/200\n",
      "363/363 [==============================] - 2s 4ms/step - loss: 0.3569 - val_loss: 0.4327\n",
      "Epoch 54/200\n",
      "363/363 [==============================] - 1s 4ms/step - loss: 0.3577 - val_loss: 0.3409\n",
      "Epoch 55/200\n",
      "363/363 [==============================] - 2s 4ms/step - loss: 0.3557 - val_loss: 0.3467\n",
      "Epoch 56/200\n",
      "363/363 [==============================] - 1s 4ms/step - loss: 0.3551 - val_loss: 0.3365\n",
      "Epoch 57/200\n",
      "363/363 [==============================] - 1s 4ms/step - loss: 0.3545 - val_loss: 0.3349\n",
      "Epoch 58/200\n",
      "363/363 [==============================] - 2s 5ms/step - loss: 0.3534 - val_loss: 0.3713\n",
      "Epoch 59/200\n",
      "363/363 [==============================] - 2s 4ms/step - loss: 0.3540 - val_loss: 0.3529\n",
      "Epoch 60/200\n",
      "363/363 [==============================] - 1s 4ms/step - loss: 0.3533 - val_loss: 0.3356\n",
      "Epoch 61/200\n",
      "363/363 [==============================] - 1s 4ms/step - loss: 0.3517 - val_loss: 0.3814\n",
      "Epoch 62/200\n",
      "363/363 [==============================] - 2s 5ms/step - loss: 0.3518 - val_loss: 0.3488\n",
      "Epoch 63/200\n",
      "363/363 [==============================] - 2s 5ms/step - loss: 0.3506 - val_loss: 0.3457\n",
      "Epoch 64/200\n",
      "363/363 [==============================] - 1s 4ms/step - loss: 0.3507 - val_loss: 0.3364\n",
      "Epoch 65/200\n",
      "363/363 [==============================] - 1s 4ms/step - loss: 0.3504 - val_loss: 0.3314\n",
      "Epoch 66/200\n",
      "363/363 [==============================] - 1s 4ms/step - loss: 0.3494 - val_loss: 0.3356\n",
      "Epoch 67/200\n",
      "363/363 [==============================] - 2s 5ms/step - loss: 0.3491 - val_loss: 0.3457\n",
      "Epoch 68/200\n",
      "363/363 [==============================] - 2s 5ms/step - loss: 0.3485 - val_loss: 0.3408\n",
      "Epoch 69/200\n",
      "363/363 [==============================] - 2s 5ms/step - loss: 0.3483 - val_loss: 0.3346\n",
      "Epoch 70/200\n",
      "363/363 [==============================] - 2s 5ms/step - loss: 0.3471 - val_loss: 0.3711\n",
      "Epoch 71/200\n",
      "363/363 [==============================] - 2s 5ms/step - loss: 0.3473 - val_loss: 0.3844\n",
      "Epoch 72/200\n",
      "363/363 [==============================] - 2s 5ms/step - loss: 0.3470 - val_loss: 0.3297\n",
      "Epoch 73/200\n",
      "363/363 [==============================] - 2s 5ms/step - loss: 0.3456 - val_loss: 0.3296\n",
      "Epoch 74/200\n",
      "363/363 [==============================] - 2s 5ms/step - loss: 0.3459 - val_loss: 0.3713\n",
      "Epoch 75/200\n",
      "363/363 [==============================] - 2s 5ms/step - loss: 0.3454 - val_loss: 0.3796\n",
      "Epoch 76/200\n",
      "363/363 [==============================] - 2s 5ms/step - loss: 0.3452 - val_loss: 0.3281\n",
      "Epoch 77/200\n",
      "363/363 [==============================] - 2s 5ms/step - loss: 0.3438 - val_loss: 0.4139\n",
      "Epoch 78/200\n",
      "363/363 [==============================] - 1s 4ms/step - loss: 0.3440 - val_loss: 0.3518\n",
      "Epoch 79/200\n",
      "363/363 [==============================] - 2s 4ms/step - loss: 0.3434 - val_loss: 0.3717\n",
      "Epoch 80/200\n",
      "363/363 [==============================] - 2s 5ms/step - loss: 0.3431 - val_loss: 0.3485\n",
      "Epoch 81/200\n",
      "363/363 [==============================] - 2s 5ms/step - loss: 0.3429 - val_loss: 0.3390\n",
      "Epoch 82/200\n",
      "363/363 [==============================] - 2s 5ms/step - loss: 0.3424 - val_loss: 0.3474\n",
      "Epoch 83/200\n",
      "363/363 [==============================] - 2s 5ms/step - loss: 0.3422 - val_loss: 0.3264\n",
      "Epoch 84/200\n",
      "363/363 [==============================] - 2s 5ms/step - loss: 0.3413 - val_loss: 0.4160\n",
      "Epoch 85/200\n",
      "363/363 [==============================] - 2s 5ms/step - loss: 0.3416 - val_loss: 0.3295\n",
      "Epoch 86/200\n",
      "363/363 [==============================] - 2s 5ms/step - loss: 0.3411 - val_loss: 0.3468\n",
      "Epoch 87/200\n",
      "363/363 [==============================] - 2s 4ms/step - loss: 0.3405 - val_loss: 0.3898\n",
      "Epoch 88/200\n",
      "363/363 [==============================] - 2s 4ms/step - loss: 0.3403 - val_loss: 0.3526\n",
      "Epoch 89/200\n",
      "363/363 [==============================] - 2s 4ms/step - loss: 0.3395 - val_loss: 0.3910\n",
      "Epoch 90/200\n",
      "363/363 [==============================] - 2s 5ms/step - loss: 0.3395 - val_loss: 0.3780\n",
      "Epoch 91/200\n",
      "363/363 [==============================] - 2s 4ms/step - loss: 0.3390 - val_loss: 0.3372\n",
      "Epoch 92/200\n",
      "363/363 [==============================] - 1s 4ms/step - loss: 0.3388 - val_loss: 0.3505\n",
      "Epoch 93/200\n",
      "363/363 [==============================] - 2s 5ms/step - loss: 0.3387 - val_loss: 0.3332\n"
     ]
    }
   ],
   "source": [
    "history=model.fit(X_train,y_train,epochs=200,validation_data=(X_valid,y_valid),callbacks=[checkpoint_cb,early_stopping_cb])"
   ]
  },
  {
   "cell_type": "code",
   "execution_count": 67,
   "id": "87bd4247",
   "metadata": {},
   "outputs": [],
   "source": [
    "model=keras.models.load_model('early_stop_model.h5')"
   ]
  },
  {
   "cell_type": "code",
   "execution_count": 68,
   "id": "5b93c04c",
   "metadata": {},
   "outputs": [
    {
     "name": "stdout",
     "output_type": "stream",
     "text": [
      "162/162 [==============================] - 1s 3ms/step - loss: 0.3453\n"
     ]
    }
   ],
   "source": [
    "mse_test=model.evaluate(X_test,y_test)"
   ]
  },
  {
   "cell_type": "code",
   "execution_count": 69,
   "id": "c9b95812",
   "metadata": {},
   "outputs": [
    {
     "name": "stdout",
     "output_type": "stream",
     "text": [
      "Model: \"sequential\"\n",
      "_________________________________________________________________\n",
      " Layer (type)                Output Shape              Param #   \n",
      "=================================================================\n",
      " dense (Dense)               (None, 30)                270       \n",
      "                                                                 \n",
      " dense_1 (Dense)             (None, 30)                930       \n",
      "                                                                 \n",
      " dense_2 (Dense)             (None, 1)                 31        \n",
      "                                                                 \n",
      "=================================================================\n",
      "Total params: 1,231\n",
      "Trainable params: 1,231\n",
      "Non-trainable params: 0\n",
      "_________________________________________________________________\n"
     ]
    }
   ],
   "source": [
    "model.summary()"
   ]
  },
  {
   "cell_type": "code",
   "execution_count": null,
   "id": "e2a6fe0c",
   "metadata": {},
   "outputs": [],
   "source": []
  }
 ],
 "metadata": {
  "kernelspec": {
   "display_name": "Python 3 (ipykernel)",
   "language": "python",
   "name": "python3"
  },
  "language_info": {
   "codemirror_mode": {
    "name": "ipython",
    "version": 3
   },
   "file_extension": ".py",
   "mimetype": "text/x-python",
   "name": "python",
   "nbconvert_exporter": "python",
   "pygments_lexer": "ipython3",
   "version": "3.9.12"
  }
 },
 "nbformat": 4,
 "nbformat_minor": 5
}
