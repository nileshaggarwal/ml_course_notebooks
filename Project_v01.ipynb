{
 "cells": [
  {
   "cell_type": "code",
   "execution_count": 1,
   "id": "340837a2",
   "metadata": {},
   "outputs": [],
   "source": [
    "import numpy as np\n",
    "import pandas as pd\n",
    "%matplotlib inline\n",
    "import matplotlib as mpl\n",
    "import matplotlib.pyplot as plt\n",
    "import os"
   ]
  },
  {
   "cell_type": "code",
   "execution_count": 2,
   "id": "4096af38",
   "metadata": {},
   "outputs": [
    {
     "name": "stderr",
     "output_type": "stream",
     "text": [
      "2022-07-06 15:18:35.255410: W tensorflow/stream_executor/platform/default/dso_loader.cc:64] Could not load dynamic library 'libcudart.so.11.0'; dlerror: libcudart.so.11.0: cannot open shared object file: No such file or directory\n",
      "2022-07-06 15:18:35.255470: I tensorflow/stream_executor/cuda/cudart_stub.cc:29] Ignore above cudart dlerror if you do not have a GPU set up on your machine.\n"
     ]
    }
   ],
   "source": [
    "import tensorflow as tf\n",
    "from tensorflow import keras"
   ]
  },
  {
   "cell_type": "code",
   "execution_count": 3,
   "id": "c65b9137",
   "metadata": {},
   "outputs": [],
   "source": [
    "train_dir='/home/nilesh/Downloads/cats_and_dogs_small/train'\n",
    "validation_dir='/home/nilesh/Downloads/cats_and_dogs_small/validation'\n",
    "test_dir='/home/nilesh/Downloads/cats_and_dogs_small/test'"
   ]
  },
  {
   "cell_type": "code",
   "execution_count": 4,
   "id": "5e5a0588",
   "metadata": {},
   "outputs": [],
   "source": [
    "from tensorflow.keras.preprocessing.image import ImageDataGenerator"
   ]
  },
  {
   "cell_type": "code",
   "execution_count": 5,
   "id": "4c953914",
   "metadata": {},
   "outputs": [
    {
     "name": "stdout",
     "output_type": "stream",
     "text": [
      "Found 2000 images belonging to 2 classes.\n",
      "Found 1000 images belonging to 2 classes.\n"
     ]
    }
   ],
   "source": [
    "train_datagen=ImageDataGenerator(rescale=1./255)\n",
    "test_datagen=ImageDataGenerator(rescale=1./255)\n",
    "train_generator=train_datagen.flow_from_directory(\n",
    "train_dir,\n",
    "target_size=(150,150),\n",
    "batch_size=20,\n",
    "class_mode='binary')\n",
    "\n",
    "validation_generator=test_datagen.flow_from_directory(\n",
    "validation_dir,\n",
    "target_size=(150,150),\n",
    "batch_size=20,\n",
    "class_mode='binary')"
   ]
  },
  {
   "cell_type": "code",
   "execution_count": 8,
   "id": "4b18847f",
   "metadata": {},
   "outputs": [
    {
     "name": "stdout",
     "output_type": "stream",
     "text": [
      "(array([[[[0.6       , 0.6156863 , 0.6117647 ],\n",
      "         [0.6039216 , 0.61960787, 0.6156863 ],\n",
      "         [0.59607846, 0.6117647 , 0.60784316],\n",
      "         ...,\n",
      "         [0.65882355, 0.6666667 , 0.6627451 ],\n",
      "         [0.6666667 , 0.6745098 , 0.67058825],\n",
      "         [0.6509804 , 0.6666667 , 0.6627451 ]],\n",
      "\n",
      "        [[0.58431375, 0.6       , 0.59607846],\n",
      "         [0.5882353 , 0.6039216 , 0.6       ],\n",
      "         [0.5921569 , 0.60784316, 0.6039216 ],\n",
      "         ...,\n",
      "         [0.6627451 , 0.67058825, 0.6666667 ],\n",
      "         [0.65882355, 0.6666667 , 0.6627451 ],\n",
      "         [0.65882355, 0.6745098 , 0.67058825]],\n",
      "\n",
      "        [[0.6       , 0.6156863 , 0.6117647 ],\n",
      "         [0.6039216 , 0.61960787, 0.6156863 ],\n",
      "         [0.6039216 , 0.61960787, 0.6156863 ],\n",
      "         ...,\n",
      "         [0.6627451 , 0.67058825, 0.6666667 ],\n",
      "         [0.6627451 , 0.67058825, 0.6666667 ],\n",
      "         [0.6509804 , 0.6666667 , 0.6627451 ]],\n",
      "\n",
      "        ...,\n",
      "\n",
      "        [[0.34509805, 0.34901962, 0.31764707],\n",
      "         [0.25882354, 0.2627451 , 0.23137257],\n",
      "         [0.27058825, 0.27450982, 0.24313727],\n",
      "         ...,\n",
      "         [0.63529414, 0.63529414, 0.63529414],\n",
      "         [0.6627451 , 0.6627451 , 0.6627451 ],\n",
      "         [0.65882355, 0.6627451 , 0.6431373 ]],\n",
      "\n",
      "        [[0.4784314 , 0.48235297, 0.45882356],\n",
      "         [0.4431373 , 0.44705886, 0.42352945],\n",
      "         [0.4039216 , 0.40784317, 0.38431376],\n",
      "         ...,\n",
      "         [0.54901963, 0.54509807, 0.5647059 ],\n",
      "         [0.5686275 , 0.5647059 , 0.5882353 ],\n",
      "         [0.6       , 0.59607846, 0.5764706 ]],\n",
      "\n",
      "        [[0.44705886, 0.45098042, 0.43137258],\n",
      "         [0.4666667 , 0.47058827, 0.45098042],\n",
      "         [0.4156863 , 0.41960788, 0.40000004],\n",
      "         ...,\n",
      "         [0.6392157 , 0.6431373 , 0.6509804 ],\n",
      "         [0.6156863 , 0.61960787, 0.627451  ],\n",
      "         [0.72156864, 0.72156864, 0.7294118 ]]],\n",
      "\n",
      "\n",
      "       [[[0.70980394, 0.82745105, 0.4431373 ],\n",
      "         [0.57254905, 0.72156864, 0.33333334],\n",
      "         [0.44705886, 0.6156863 , 0.25490198],\n",
      "         ...,\n",
      "         [0.4901961 , 0.654902  , 0.35686275],\n",
      "         [0.27450982, 0.43529415, 0.1764706 ],\n",
      "         [0.5647059 , 0.7254902 , 0.45098042]],\n",
      "\n",
      "        [[0.44705886, 0.56078434, 0.23137257],\n",
      "         [0.454902  , 0.5882353 , 0.24705884],\n",
      "         [0.46274513, 0.6117647 , 0.27058825],\n",
      "         ...,\n",
      "         [0.40000004, 0.57254905, 0.23137257],\n",
      "         [0.1764706 , 0.34509805, 0.03137255],\n",
      "         [0.4156863 , 0.5882353 , 0.24705884]],\n",
      "\n",
      "        [[0.2784314 , 0.4039216 , 0.10588236],\n",
      "         [0.3254902 , 0.454902  , 0.13725491],\n",
      "         [0.3137255 , 0.44705886, 0.10980393],\n",
      "         ...,\n",
      "         [0.46274513, 0.6431373 , 0.25490198],\n",
      "         [0.41960788, 0.6       , 0.21568629],\n",
      "         [0.34901962, 0.53333336, 0.13333334]],\n",
      "\n",
      "        ...,\n",
      "\n",
      "        [[0.627451  , 0.73333335, 0.57254905],\n",
      "         [0.24705884, 0.29411766, 0.10588236],\n",
      "         [0.4784314 , 0.5568628 , 0.30980393],\n",
      "         ...,\n",
      "         [0.3137255 , 0.47450984, 0.24705884],\n",
      "         [0.31764707, 0.4784314 , 0.25882354],\n",
      "         [0.5019608 , 0.65882355, 0.454902  ]],\n",
      "\n",
      "        [[0.6117647 , 0.7137255 , 0.56078434],\n",
      "         [0.3647059 , 0.40000004, 0.21568629],\n",
      "         [0.627451  , 0.69803923, 0.454902  ],\n",
      "         ...,\n",
      "         [0.33333334, 0.49411768, 0.26666668],\n",
      "         [0.44705886, 0.60784316, 0.38823533],\n",
      "         [0.6039216 , 0.7607844 , 0.5568628 ]],\n",
      "\n",
      "        [[0.69803923, 0.7843138 , 0.6431373 ],\n",
      "         [0.6509804 , 0.6784314 , 0.5137255 ],\n",
      "         [0.44705886, 0.5058824 , 0.28235295],\n",
      "         ...,\n",
      "         [0.5294118 , 0.6784314 , 0.454902  ],\n",
      "         [0.2509804 , 0.39607847, 0.18431373],\n",
      "         [0.37647063, 0.52156866, 0.32156864]]],\n",
      "\n",
      "\n",
      "       [[[0.48627454, 0.454902  , 0.4431373 ],\n",
      "         [0.3647059 , 0.27450982, 0.21176472],\n",
      "         [0.37647063, 0.20784315, 0.08235294],\n",
      "         ...,\n",
      "         [0.93725497, 0.93725497, 0.9450981 ],\n",
      "         [0.93725497, 0.93725497, 0.9450981 ],\n",
      "         [0.93725497, 0.94117653, 0.9176471 ]],\n",
      "\n",
      "        [[0.39607847, 0.3254902 , 0.28627452],\n",
      "         [0.33333334, 0.21176472, 0.12941177],\n",
      "         [0.39607847, 0.21960786, 0.09019608],\n",
      "         ...,\n",
      "         [0.95294124, 0.9333334 , 0.9176471 ],\n",
      "         [0.9568628 , 0.93725497, 0.9215687 ],\n",
      "         [0.9568628 , 0.9333334 , 0.9333334 ]],\n",
      "\n",
      "        [[0.34509805, 0.20392159, 0.10196079],\n",
      "         [0.36862746, 0.19607845, 0.08235294],\n",
      "         [0.39607847, 0.21568629, 0.08235294],\n",
      "         ...,\n",
      "         [0.83921576, 0.78823537, 0.72156864],\n",
      "         [0.854902  , 0.80392164, 0.7372549 ],\n",
      "         [0.8588236 , 0.80392164, 0.7686275 ]],\n",
      "\n",
      "        ...,\n",
      "\n",
      "        [[0.44705886, 0.43137258, 0.427451  ],\n",
      "         [0.3647059 , 0.34117648, 0.34117648],\n",
      "         [0.3647059 , 0.32941177, 0.33333334],\n",
      "         ...,\n",
      "         [0.81568635, 0.8235295 , 0.8196079 ],\n",
      "         [0.82745105, 0.8352942 , 0.8313726 ],\n",
      "         [0.8117648 , 0.81568635, 0.8235295 ]],\n",
      "\n",
      "        [[0.49411768, 0.47450984, 0.49803925],\n",
      "         [0.45098042, 0.42352945, 0.45098042],\n",
      "         [0.38431376, 0.34509805, 0.37647063],\n",
      "         ...,\n",
      "         [0.82745105, 0.8352942 , 0.8313726 ],\n",
      "         [0.8235295 , 0.8313726 , 0.82745105],\n",
      "         [0.8196079 , 0.8235295 , 0.8313726 ]],\n",
      "\n",
      "        [[0.24313727, 0.21960786, 0.25882354],\n",
      "         [0.21568629, 0.18431373, 0.227451  ],\n",
      "         [0.19607845, 0.15686275, 0.20000002],\n",
      "         ...,\n",
      "         [0.60784316, 0.6156863 , 0.6117647 ],\n",
      "         [0.6313726 , 0.6392157 , 0.63529414],\n",
      "         [0.6117647 , 0.6156863 , 0.62352943]]],\n",
      "\n",
      "\n",
      "       ...,\n",
      "\n",
      "\n",
      "       [[[0.5411765 , 0.02745098, 0.08235294],\n",
      "         [0.5372549 , 0.0509804 , 0.09411766],\n",
      "         [0.5529412 , 0.07450981, 0.11764707],\n",
      "         ...,\n",
      "         [0.25882354, 0.02352941, 0.05490196],\n",
      "         [0.27058825, 0.01176471, 0.05882353],\n",
      "         [0.48235297, 0.3372549 , 0.36862746]],\n",
      "\n",
      "        [[0.54901963, 0.03137255, 0.08235294],\n",
      "         [0.54901963, 0.0627451 , 0.10196079],\n",
      "         [0.5568628 , 0.08235294, 0.11764707],\n",
      "         ...,\n",
      "         [0.2627451 , 0.07843138, 0.10196079],\n",
      "         [0.3803922 , 0.21960786, 0.24313727],\n",
      "         [0.6745098 , 0.627451  , 0.627451  ]],\n",
      "\n",
      "        [[0.5803922 , 0.0627451 , 0.10588236],\n",
      "         [0.5882353 , 0.10196079, 0.13333334],\n",
      "         [0.59607846, 0.12156864, 0.14901961],\n",
      "         ...,\n",
      "         [0.5137255 , 0.4156863 , 0.43137258],\n",
      "         [0.6509804 , 0.65882355, 0.64705884],\n",
      "         [0.7411765 , 0.78823537, 0.7725491 ]],\n",
      "\n",
      "        ...,\n",
      "\n",
      "        [[0.44705886, 0.45098042, 0.38823533],\n",
      "         [0.30588236, 0.30588236, 0.26666668],\n",
      "         [0.08627451, 0.08235294, 0.0627451 ],\n",
      "         ...,\n",
      "         [0.7019608 , 0.16862746, 0.20784315],\n",
      "         [0.69803923, 0.16078432, 0.18823531],\n",
      "         [0.7058824 , 0.12941177, 0.15294118]],\n",
      "\n",
      "        [[0.5058824 , 0.52156866, 0.42352945],\n",
      "         [0.20784315, 0.21568629, 0.17254902],\n",
      "         [0.19215688, 0.19215688, 0.20000002],\n",
      "         ...,\n",
      "         [0.7294118 , 0.15686275, 0.20000002],\n",
      "         [0.7294118 , 0.16862746, 0.18431373],\n",
      "         [0.7176471 , 0.17254902, 0.19215688]],\n",
      "\n",
      "        [[0.3803922 , 0.40000004, 0.28235295],\n",
      "         [0.18823531, 0.19607845, 0.15294118],\n",
      "         [0.14509805, 0.14117648, 0.16078432],\n",
      "         ...,\n",
      "         [0.73333335, 0.13725491, 0.19607845],\n",
      "         [0.7372549 , 0.14901961, 0.18431373],\n",
      "         [0.7568628 , 0.16862746, 0.21568629]]],\n",
      "\n",
      "\n",
      "       [[[0.7803922 , 0.69411767, 0.53333336],\n",
      "         [0.9607844 , 0.9058824 , 0.79215693],\n",
      "         [0.81568635, 0.78823537, 0.6745098 ],\n",
      "         ...,\n",
      "         [0.854902  , 0.8745099 , 0.52156866],\n",
      "         [0.8235295 , 0.854902  , 0.41960788],\n",
      "         [1.        , 1.        , 0.7490196 ]],\n",
      "\n",
      "        [[0.75294125, 0.6901961 , 0.5882353 ],\n",
      "         [0.98823535, 0.9607844 , 0.89019614],\n",
      "         [0.9725491 , 0.9607844 , 0.8941177 ],\n",
      "         ...,\n",
      "         [0.5254902 , 0.5058824 , 0.18823531],\n",
      "         [0.74509805, 0.74509805, 0.30588236],\n",
      "         [0.89019614, 0.882353  , 0.5568628 ]],\n",
      "\n",
      "        [[0.97647065, 0.9450981 , 0.8705883 ],\n",
      "         [1.        , 1.        , 0.96470594],\n",
      "         [0.94117653, 0.94117653, 0.90196085],\n",
      "         ...,\n",
      "         [0.61960787, 0.5529412 , 0.38431376],\n",
      "         [0.53333336, 0.47450984, 0.25882354],\n",
      "         [0.8078432 , 0.7254902 , 0.6509804 ]],\n",
      "\n",
      "        ...,\n",
      "\n",
      "        [[0.7803922 , 0.7960785 , 0.454902  ],\n",
      "         [0.454902  , 0.4784314 , 0.2901961 ],\n",
      "         [0.34901962, 0.38431376, 0.2784314 ],\n",
      "         ...,\n",
      "         [0.90196085, 0.8313726 , 0.50980395],\n",
      "         [0.70980394, 0.6       , 0.3137255 ],\n",
      "         [0.72156864, 0.63529414, 0.30980393]],\n",
      "\n",
      "        [[0.31764707, 0.28627452, 0.10196079],\n",
      "         [0.49803925, 0.49411768, 0.32156864],\n",
      "         [0.5882353 , 0.59607846, 0.43921572],\n",
      "         ...,\n",
      "         [1.        , 0.94117653, 0.67058825],\n",
      "         [0.6431373 , 0.5568628 , 0.25882354],\n",
      "         [0.8980393 , 0.8705883 , 0.41176474]],\n",
      "\n",
      "        [[0.17254902, 0.09803922, 0.03921569],\n",
      "         [0.5529412 , 0.5294118 , 0.38823533],\n",
      "         [0.37647063, 0.36862746, 0.21568629],\n",
      "         ...,\n",
      "         [0.7960785 , 0.7254902 , 0.5294118 ],\n",
      "         [0.9490197 , 0.8745099 , 0.6039216 ],\n",
      "         [0.75294125, 0.76470596, 0.46274513]]],\n",
      "\n",
      "\n",
      "       [[[0.6313726 , 0.5254902 , 0.4901961 ],\n",
      "         [0.58431375, 0.4784314 , 0.45098042],\n",
      "         [0.5529412 , 0.454902  , 0.43529415],\n",
      "         ...,\n",
      "         [0.07450981, 0.07058824, 0.09411766],\n",
      "         [0.07450981, 0.07058824, 0.09411766],\n",
      "         [0.07843138, 0.07450981, 0.09803922]],\n",
      "\n",
      "        [[0.63529414, 0.5294118 , 0.49411768],\n",
      "         [0.56078434, 0.46274513, 0.43529415],\n",
      "         [0.5686275 , 0.47058827, 0.45098042],\n",
      "         ...,\n",
      "         [0.07058824, 0.06666667, 0.09019608],\n",
      "         [0.07450981, 0.07058824, 0.09411766],\n",
      "         [0.07450981, 0.07058824, 0.09411766]],\n",
      "\n",
      "        [[0.5921569 , 0.48627454, 0.45882356],\n",
      "         [0.5647059 , 0.4666667 , 0.44705886],\n",
      "         [0.59607846, 0.5019608 , 0.48627454],\n",
      "         ...,\n",
      "         [0.07843138, 0.07450981, 0.09803922],\n",
      "         [0.08235294, 0.07843138, 0.10196079],\n",
      "         [0.08627451, 0.08235294, 0.10588236]],\n",
      "\n",
      "        ...,\n",
      "\n",
      "        [[0.24313727, 0.18823531, 0.1764706 ],\n",
      "         [0.37647063, 0.3372549 , 0.32941177],\n",
      "         [0.32941177, 0.29803923, 0.2901961 ],\n",
      "         ...,\n",
      "         [0.36862746, 0.32156864, 0.32941177],\n",
      "         [0.3137255 , 0.26666668, 0.27450982],\n",
      "         [0.3372549 , 0.2901961 , 0.29803923]],\n",
      "\n",
      "        [[0.23137257, 0.16078432, 0.14509805],\n",
      "         [0.19215688, 0.13725491, 0.1254902 ],\n",
      "         [0.2392157 , 0.19607845, 0.18823531],\n",
      "         ...,\n",
      "         [0.32156864, 0.27450982, 0.28235295],\n",
      "         [0.32156864, 0.27450982, 0.28235295],\n",
      "         [0.43921572, 0.3921569 , 0.40000004]],\n",
      "\n",
      "        [[0.454902  , 0.37254903, 0.3529412 ],\n",
      "         [0.43921572, 0.36862746, 0.3529412 ],\n",
      "         [0.39607847, 0.3372549 , 0.3254902 ],\n",
      "         ...,\n",
      "         [0.37254903, 0.3254902 , 0.3254902 ],\n",
      "         [0.29803923, 0.2509804 , 0.2509804 ],\n",
      "         [0.2627451 , 0.21568629, 0.21568629]]]], dtype=float32), array([0., 1., 0., 0., 0., 1., 1., 1., 0., 1., 0., 0., 0., 1., 1., 1., 1.,\n",
      "       1., 1., 1.], dtype=float32))\n"
     ]
    }
   ],
   "source": [
    "print(train_generator[0])"
   ]
  },
  {
   "cell_type": "code",
   "execution_count": 5,
   "id": "b11e3167",
   "metadata": {},
   "outputs": [],
   "source": [
    "from keras import layers\n",
    "from keras import models"
   ]
  },
  {
   "cell_type": "code",
   "execution_count": 10,
   "id": "96e44b01",
   "metadata": {},
   "outputs": [
    {
     "name": "stderr",
     "output_type": "stream",
     "text": [
      "2022-07-04 16:25:12.361364: W tensorflow/stream_executor/platform/default/dso_loader.cc:64] Could not load dynamic library 'libcuda.so.1'; dlerror: libcuda.so.1: cannot open shared object file: No such file or directory\n",
      "2022-07-04 16:25:12.361444: W tensorflow/stream_executor/cuda/cuda_driver.cc:269] failed call to cuInit: UNKNOWN ERROR (303)\n",
      "2022-07-04 16:25:12.361509: I tensorflow/stream_executor/cuda/cuda_diagnostics.cc:156] kernel driver does not appear to be running on this host (nilesh-Inspiron-3521): /proc/driver/nvidia/version does not exist\n"
     ]
    }
   ],
   "source": [
    "model=models.Sequential()"
   ]
  },
  {
   "cell_type": "code",
   "execution_count": 11,
   "id": "efeda228",
   "metadata": {},
   "outputs": [],
   "source": [
    "model.add(layers.Conv2D(32,(3,3),activation='relu',input_shape=(150,150,3)))\n",
    "model.add(layers.MaxPooling2D((2,2)))\n",
    "model.add(layers.Conv2D(64,(3,3),activation='relu'))\n",
    "model.add(layers.MaxPooling2D((2,2)))\n",
    "model.add(layers.Conv2D(128,(3,3),activation='relu'))\n",
    "model.add(layers.MaxPooling2D((2,2)))\n",
    "model.add(layers.Conv2D(128,(3,3),activation='relu'))\n",
    "model.add(layers.MaxPooling2D((2,2)))\n",
    "model.add(layers.Flatten())\n",
    "model.add(layers.Dense(512,activation='relu'))\n",
    "model.add(layers.Dense(1,activation='sigmoid'))"
   ]
  },
  {
   "cell_type": "code",
   "execution_count": 12,
   "id": "e0a14c61",
   "metadata": {},
   "outputs": [
    {
     "name": "stdout",
     "output_type": "stream",
     "text": [
      "Model: \"sequential\"\n",
      "_________________________________________________________________\n",
      " Layer (type)                Output Shape              Param #   \n",
      "=================================================================\n",
      " conv2d (Conv2D)             (None, 148, 148, 32)      896       \n",
      "                                                                 \n",
      " max_pooling2d (MaxPooling2D  (None, 74, 74, 32)       0         \n",
      " )                                                               \n",
      "                                                                 \n",
      " conv2d_1 (Conv2D)           (None, 72, 72, 64)        18496     \n",
      "                                                                 \n",
      " max_pooling2d_1 (MaxPooling  (None, 36, 36, 64)       0         \n",
      " 2D)                                                             \n",
      "                                                                 \n",
      " conv2d_2 (Conv2D)           (None, 34, 34, 128)       73856     \n",
      "                                                                 \n",
      " max_pooling2d_2 (MaxPooling  (None, 17, 17, 128)      0         \n",
      " 2D)                                                             \n",
      "                                                                 \n",
      " conv2d_3 (Conv2D)           (None, 15, 15, 128)       147584    \n",
      "                                                                 \n",
      " max_pooling2d_3 (MaxPooling  (None, 7, 7, 128)        0         \n",
      " 2D)                                                             \n",
      "                                                                 \n",
      " flatten (Flatten)           (None, 6272)              0         \n",
      "                                                                 \n",
      " dense (Dense)               (None, 512)               3211776   \n",
      "                                                                 \n",
      " dense_1 (Dense)             (None, 1)                 513       \n",
      "                                                                 \n",
      "=================================================================\n",
      "Total params: 3,453,121\n",
      "Trainable params: 3,453,121\n",
      "Non-trainable params: 0\n",
      "_________________________________________________________________\n"
     ]
    }
   ],
   "source": [
    "model.summary()"
   ]
  },
  {
   "cell_type": "code",
   "execution_count": 6,
   "id": "50034a8d",
   "metadata": {},
   "outputs": [],
   "source": [
    "from keras import optimizers"
   ]
  },
  {
   "cell_type": "code",
   "execution_count": 15,
   "id": "bb598a50",
   "metadata": {},
   "outputs": [],
   "source": [
    "model.compile(loss='binary_crossentropy',\n",
    "             optimizer=optimizers.RMSprop(learning_rate=1e-4),\n",
    "             metrics=['acc'])"
   ]
  },
  {
   "cell_type": "code",
   "execution_count": 17,
   "id": "be1ed4e7",
   "metadata": {},
   "outputs": [
    {
     "name": "stdout",
     "output_type": "stream",
     "text": [
      "Epoch 1/30\n"
     ]
    },
    {
     "name": "stderr",
     "output_type": "stream",
     "text": [
      "/tmp/ipykernel_23248/984291649.py:1: UserWarning: `Model.fit_generator` is deprecated and will be removed in a future version. Please use `Model.fit`, which supports generators.\n",
      "  history=model.fit_generator(\n"
     ]
    },
    {
     "name": "stdout",
     "output_type": "stream",
     "text": [
      "100/100 [==============================] - 160s 2s/step - loss: 0.3902 - acc: 0.8245 - val_loss: 0.5575 - val_acc: 0.7330\n",
      "Epoch 2/30\n",
      "100/100 [==============================] - 154s 2s/step - loss: 0.3755 - acc: 0.8270 - val_loss: 0.5607 - val_acc: 0.7130\n",
      "Epoch 3/30\n",
      "100/100 [==============================] - 156s 2s/step - loss: 0.3451 - acc: 0.8485 - val_loss: 0.5630 - val_acc: 0.7330\n",
      "Epoch 4/30\n",
      "100/100 [==============================] - 154s 2s/step - loss: 0.3215 - acc: 0.8565 - val_loss: 0.6870 - val_acc: 0.7100\n",
      "Epoch 5/30\n",
      "100/100 [==============================] - 154s 2s/step - loss: 0.3022 - acc: 0.8745 - val_loss: 0.5601 - val_acc: 0.7390\n",
      "Epoch 6/30\n",
      "100/100 [==============================] - 154s 2s/step - loss: 0.2713 - acc: 0.8905 - val_loss: 0.5899 - val_acc: 0.7280\n",
      "Epoch 7/30\n",
      "100/100 [==============================] - 154s 2s/step - loss: 0.2555 - acc: 0.8920 - val_loss: 0.5668 - val_acc: 0.7440\n",
      "Epoch 8/30\n",
      "100/100 [==============================] - 154s 2s/step - loss: 0.2369 - acc: 0.9025 - val_loss: 0.6134 - val_acc: 0.7320\n",
      "Epoch 9/30\n",
      "100/100 [==============================] - 154s 2s/step - loss: 0.2088 - acc: 0.9175 - val_loss: 0.8420 - val_acc: 0.6970\n",
      "Epoch 10/30\n",
      "100/100 [==============================] - 154s 2s/step - loss: 0.1923 - acc: 0.9275 - val_loss: 0.6141 - val_acc: 0.7300\n",
      "Epoch 11/30\n",
      "100/100 [==============================] - 154s 2s/step - loss: 0.1689 - acc: 0.9405 - val_loss: 0.6738 - val_acc: 0.7310\n",
      "Epoch 12/30\n",
      "100/100 [==============================] - 154s 2s/step - loss: 0.1540 - acc: 0.9440 - val_loss: 0.6877 - val_acc: 0.7340\n",
      "Epoch 13/30\n",
      "100/100 [==============================] - 154s 2s/step - loss: 0.1387 - acc: 0.9500 - val_loss: 0.6763 - val_acc: 0.7270\n",
      "Epoch 14/30\n",
      "100/100 [==============================] - 154s 2s/step - loss: 0.1235 - acc: 0.9585 - val_loss: 0.7075 - val_acc: 0.7250\n",
      "Epoch 15/30\n",
      "100/100 [==============================] - 154s 2s/step - loss: 0.1026 - acc: 0.9705 - val_loss: 0.7541 - val_acc: 0.7320\n",
      "Epoch 16/30\n",
      "100/100 [==============================] - 154s 2s/step - loss: 0.0913 - acc: 0.9740 - val_loss: 0.9109 - val_acc: 0.7190\n",
      "Epoch 17/30\n",
      "100/100 [==============================] - 154s 2s/step - loss: 0.0797 - acc: 0.9755 - val_loss: 0.8733 - val_acc: 0.7200\n",
      "Epoch 18/30\n",
      "100/100 [==============================] - 154s 2s/step - loss: 0.0682 - acc: 0.9825 - val_loss: 0.9077 - val_acc: 0.7260\n",
      "Epoch 19/30\n",
      "100/100 [==============================] - 154s 2s/step - loss: 0.0575 - acc: 0.9830 - val_loss: 0.8378 - val_acc: 0.7360\n",
      "Epoch 20/30\n",
      "100/100 [==============================] - 154s 2s/step - loss: 0.0489 - acc: 0.9845 - val_loss: 0.9608 - val_acc: 0.7280\n",
      "Epoch 21/30\n",
      "100/100 [==============================] - 154s 2s/step - loss: 0.0382 - acc: 0.9925 - val_loss: 0.9382 - val_acc: 0.7400\n",
      "Epoch 22/30\n",
      "100/100 [==============================] - 154s 2s/step - loss: 0.0364 - acc: 0.9880 - val_loss: 0.9581 - val_acc: 0.7230\n",
      "Epoch 23/30\n",
      "100/100 [==============================] - 154s 2s/step - loss: 0.0337 - acc: 0.9915 - val_loss: 1.0281 - val_acc: 0.7250\n",
      "Epoch 24/30\n",
      "100/100 [==============================] - 154s 2s/step - loss: 0.0239 - acc: 0.9940 - val_loss: 1.1512 - val_acc: 0.7250\n",
      "Epoch 25/30\n",
      "100/100 [==============================] - 154s 2s/step - loss: 0.0324 - acc: 0.9910 - val_loss: 1.0744 - val_acc: 0.7240\n",
      "Epoch 26/30\n",
      "100/100 [==============================] - 154s 2s/step - loss: 0.0203 - acc: 0.9960 - val_loss: 1.1561 - val_acc: 0.7260\n",
      "Epoch 27/30\n",
      "100/100 [==============================] - 154s 2s/step - loss: 0.0133 - acc: 0.9965 - val_loss: 1.2221 - val_acc: 0.7420\n",
      "Epoch 28/30\n",
      "100/100 [==============================] - 154s 2s/step - loss: 0.0177 - acc: 0.9945 - val_loss: 1.2678 - val_acc: 0.7390\n",
      "Epoch 29/30\n",
      "100/100 [==============================] - 154s 2s/step - loss: 0.0187 - acc: 0.9930 - val_loss: 1.3036 - val_acc: 0.7370\n",
      "Epoch 30/30\n",
      "100/100 [==============================] - 154s 2s/step - loss: 0.0139 - acc: 0.9960 - val_loss: 1.3277 - val_acc: 0.7300\n"
     ]
    }
   ],
   "source": [
    "history=model.fit_generator(\n",
    "    train_generator,\n",
    "    steps_per_epoch=100,\n",
    "    epochs=30,\n",
    "    validation_data=validation_generator,\n",
    "    validation_steps=50\n",
    ")"
   ]
  },
  {
   "cell_type": "code",
   "execution_count": 18,
   "id": "5f7e7409",
   "metadata": {},
   "outputs": [
    {
     "data": {
      "image/png": "[encoded data removed]",
      "text/plain": [
       "<Figure size 576x360 with 1 Axes>"
      ]
     },
     "metadata": {
      "needs_background": "light"
     },
     "output_type": "display_data"
    }
   ],
   "source": [
    "pd.DataFrame(history.history).plot(figsize=(8,5))\n",
    "plt.grid(True)\n",
    "plt.gca().set_ylim(0,1)\n",
    "plt.show()"
   ]
  },
  {
   "cell_type": "code",
   "execution_count": 19,
   "id": "2075b01a",
   "metadata": {},
   "outputs": [],
   "source": [
    "del model"
   ]
  },
  {
   "cell_type": "code",
   "execution_count": 20,
   "id": "702df7cf",
   "metadata": {},
   "outputs": [],
   "source": [
    "from keras import backend"
   ]
  },
  {
   "cell_type": "code",
   "execution_count": 21,
   "id": "c7bb3eab",
   "metadata": {},
   "outputs": [],
   "source": [
    "backend.clear_session()"
   ]
  },
  {
   "cell_type": "code",
   "execution_count": 22,
   "id": "b64082e7",
   "metadata": {},
   "outputs": [
    {
     "ename": "NameError",
     "evalue": "name 'model' is not defined",
     "output_type": "error",
     "traceback": [
      "\u001b[0;31m---------------------------------------------------------------------------\u001b[0m",
      "\u001b[0;31mNameError\u001b[0m                                 Traceback (most recent call last)",
      "Input \u001b[0;32mIn [22]\u001b[0m, in \u001b[0;36m<cell line: 1>\u001b[0;34m()\u001b[0m\n\u001b[0;32m----> 1\u001b[0m \u001b[43mmodel\u001b[49m\n",
      "\u001b[0;31mNameError\u001b[0m: name 'model' is not defined"
     ]
    }
   ],
   "source": [
    "model"
   ]
  },
  {
   "cell_type": "code",
   "execution_count": 5,
   "id": "9f38011b",
   "metadata": {},
   "outputs": [
    {
     "name": "stdout",
     "output_type": "stream",
     "text": [
      "Found 2000 images belonging to 2 classes.\n",
      "Found 1000 images belonging to 2 classes.\n"
     ]
    }
   ],
   "source": [
    "train_datagen=ImageDataGenerator(rescale=1./255,\n",
    "                                rotation_range=40,\n",
    "                                width_shift_range=0.2,\n",
    "                                height_shift_range=0.2,\n",
    "                                shear_range=0.2,\n",
    "                                zoom_range=0.2,\n",
    "                                horizontal_flip=True)\n",
    "test_datagen=ImageDataGenerator(rescale=1./255)\n",
    "train_generator=train_datagen.flow_from_directory(\n",
    "train_dir,\n",
    "target_size=(150,150),\n",
    "batch_size=32,\n",
    "class_mode='binary')\n",
    "\n",
    "validation_generator=test_datagen.flow_from_directory(\n",
    "validation_dir,\n",
    "target_size=(150,150),\n",
    "batch_size=32,\n",
    "class_mode='binary')"
   ]
  },
  {
   "cell_type": "code",
   "execution_count": 9,
   "id": "7aa34db0",
   "metadata": {},
   "outputs": [],
   "source": [
    "model=models.Sequential()\n",
    "model.add(layers.Conv2D(32,(3,3),activation='relu',input_shape=(150,150,3)))\n",
    "model.add(layers.MaxPooling2D((2,2)))\n",
    "model.add(layers.Conv2D(64,(3,3),activation='relu'))\n",
    "model.add(layers.MaxPooling2D((2,2)))\n",
    "model.add(layers.Conv2D(128,(3,3),activation='relu'))\n",
    "model.add(layers.MaxPooling2D((2,2)))\n",
    "model.add(layers.Conv2D(128,(3,3),activation='relu'))\n",
    "model.add(layers.MaxPooling2D((2,2)))\n",
    "model.add(layers.Flatten())\n",
    "model.add(layers.Dropout(0.5))\n",
    "model.add(layers.Dense(512,activation='relu'))\n",
    "model.add(layers.Dense(1,activation='sigmoid'))\n",
    "model.compile(loss='binary_crossentropy',\n",
    "             optimizer=optimizers.RMSprop(learning_rate=1e-4),\n",
    "             metrics=['acc'])"
   ]
  },
  {
   "cell_type": "code",
   "execution_count": 13,
   "id": "b435e9f9",
   "metadata": {},
   "outputs": [
    {
     "name": "stdout",
     "output_type": "stream",
     "text": [
      "Epoch 1/100\n",
      "62/62 [==============================] - 143s 2s/step - loss: 0.6866 - acc: 0.5420 - val_loss: 0.6699 - val_acc: 0.5938\n",
      "Epoch 2/100\n",
      "62/62 [==============================] - 140s 2s/step - loss: 0.6751 - acc: 0.5665 - val_loss: 0.6778 - val_acc: 0.4375\n",
      "Epoch 3/100\n",
      "62/62 [==============================] - 140s 2s/step - loss: 0.6651 - acc: 0.5820 - val_loss: 0.6159 - val_acc: 0.6875\n",
      "Epoch 4/100\n",
      "62/62 [==============================] - 140s 2s/step - loss: 0.6566 - acc: 0.5980 - val_loss: 0.6311 - val_acc: 0.6875\n",
      "Epoch 5/100\n",
      "62/62 [==============================] - 139s 2s/step - loss: 0.6530 - acc: 0.6005 - val_loss: 0.6320 - val_acc: 0.6250\n",
      "Epoch 6/100\n",
      "62/62 [==============================] - 140s 2s/step - loss: 0.6431 - acc: 0.6230 - val_loss: 0.5668 - val_acc: 0.7188\n",
      "Epoch 7/100\n",
      "62/62 [==============================] - 139s 2s/step - loss: 0.6250 - acc: 0.6440 - val_loss: 0.5479 - val_acc: 0.7188\n",
      "Epoch 8/100\n",
      "62/62 [==============================] - 139s 2s/step - loss: 0.6229 - acc: 0.6455 - val_loss: 0.5753 - val_acc: 0.6875\n",
      "Epoch 9/100\n",
      "62/62 [==============================] - 140s 2s/step - loss: 0.6140 - acc: 0.6590 - val_loss: 0.4863 - val_acc: 0.6875\n",
      "Epoch 10/100\n",
      "62/62 [==============================] - 170s 3s/step - loss: 0.6040 - acc: 0.6550 - val_loss: 0.5305 - val_acc: 0.7812\n",
      "Epoch 11/100\n",
      "62/62 [==============================] - 191s 3s/step - loss: 0.5818 - acc: 0.6865 - val_loss: 0.7200 - val_acc: 0.5000\n",
      "Epoch 12/100\n",
      "62/62 [==============================] - 154s 2s/step - loss: 0.5888 - acc: 0.6750 - val_loss: 0.4038 - val_acc: 0.8438\n",
      "Epoch 13/100\n",
      "62/62 [==============================] - 140s 2s/step - loss: 0.5775 - acc: 0.7020 - val_loss: 0.6257 - val_acc: 0.7500\n",
      "Epoch 14/100\n",
      "62/62 [==============================] - 158s 3s/step - loss: 0.5777 - acc: 0.6900 - val_loss: 0.4958 - val_acc: 0.7812\n",
      "Epoch 15/100\n",
      "62/62 [==============================] - 155s 2s/step - loss: 0.5783 - acc: 0.6995 - val_loss: 0.5033 - val_acc: 0.8125\n",
      "Epoch 16/100\n",
      "62/62 [==============================] - 174s 3s/step - loss: 0.5694 - acc: 0.7080 - val_loss: 0.4748 - val_acc: 0.7812\n",
      "Epoch 17/100\n",
      "62/62 [==============================] - 161s 3s/step - loss: 0.5662 - acc: 0.6970 - val_loss: 0.5950 - val_acc: 0.5938\n",
      "Epoch 18/100\n",
      "62/62 [==============================] - 149s 2s/step - loss: 0.5726 - acc: 0.7010 - val_loss: 0.3908 - val_acc: 0.8125\n",
      "Epoch 19/100\n",
      "62/62 [==============================] - 160s 3s/step - loss: 0.5670 - acc: 0.7020 - val_loss: 0.4292 - val_acc: 0.8438\n",
      "Epoch 20/100\n",
      "62/62 [==============================] - 159s 3s/step - loss: 0.5497 - acc: 0.7240 - val_loss: 0.5336 - val_acc: 0.7500\n",
      "Epoch 21/100\n",
      "62/62 [==============================] - 165s 3s/step - loss: 0.5505 - acc: 0.7250 - val_loss: 0.5665 - val_acc: 0.7500\n",
      "Epoch 22/100\n",
      "62/62 [==============================] - 178s 3s/step - loss: 0.5466 - acc: 0.7200 - val_loss: 0.9222 - val_acc: 0.4688\n",
      "Epoch 23/100\n",
      "62/62 [==============================] - 169s 3s/step - loss: 0.5351 - acc: 0.7240 - val_loss: 0.5845 - val_acc: 0.7500\n",
      "Epoch 24/100\n",
      "62/62 [==============================] - 164s 3s/step - loss: 0.5458 - acc: 0.7130 - val_loss: 0.5315 - val_acc: 0.5938\n",
      "Epoch 25/100\n",
      "62/62 [==============================] - 181s 3s/step - loss: 0.5390 - acc: 0.7245 - val_loss: 0.5794 - val_acc: 0.7812\n",
      "Epoch 26/100\n",
      "62/62 [==============================] - 157s 3s/step - loss: 0.5421 - acc: 0.7360 - val_loss: 0.4408 - val_acc: 0.8125\n",
      "Epoch 27/100\n",
      "62/62 [==============================] - 162s 3s/step - loss: 0.5246 - acc: 0.7420 - val_loss: 0.5199 - val_acc: 0.6250\n",
      "Epoch 28/100\n",
      "62/62 [==============================] - 163s 3s/step - loss: 0.5280 - acc: 0.7360 - val_loss: 0.3751 - val_acc: 0.9375\n",
      "Epoch 29/100\n",
      "62/62 [==============================] - 158s 3s/step - loss: 0.5222 - acc: 0.7390 - val_loss: 0.6076 - val_acc: 0.6875\n",
      "Epoch 30/100\n",
      "62/62 [==============================] - 176s 3s/step - loss: 0.5313 - acc: 0.7415 - val_loss: 0.3551 - val_acc: 0.8750\n",
      "Epoch 31/100\n",
      "62/62 [==============================] - 155s 2s/step - loss: 0.5248 - acc: 0.7435 - val_loss: 0.3295 - val_acc: 0.9062\n",
      "Epoch 32/100\n",
      "62/62 [==============================] - 164s 3s/step - loss: 0.5214 - acc: 0.7355 - val_loss: 0.4689 - val_acc: 0.7812\n",
      "Epoch 33/100\n",
      "62/62 [==============================] - 178s 3s/step - loss: 0.5157 - acc: 0.7375 - val_loss: 0.4730 - val_acc: 0.7500\n",
      "Epoch 34/100\n",
      "62/62 [==============================] - 156s 2s/step - loss: 0.5049 - acc: 0.7450 - val_loss: 0.5517 - val_acc: 0.7188\n",
      "Epoch 35/100\n",
      "62/62 [==============================] - 162s 3s/step - loss: 0.5080 - acc: 0.7420 - val_loss: 0.5946 - val_acc: 0.6875\n",
      "Epoch 36/100\n",
      "62/62 [==============================] - 162s 3s/step - loss: 0.5056 - acc: 0.7500 - val_loss: 0.4439 - val_acc: 0.7812\n",
      "Epoch 37/100\n",
      "62/62 [==============================] - 169s 3s/step - loss: 0.5052 - acc: 0.7570 - val_loss: 0.4276 - val_acc: 0.7500\n",
      "Epoch 38/100\n",
      "62/62 [==============================] - 167s 3s/step - loss: 0.5059 - acc: 0.7530 - val_loss: 0.4757 - val_acc: 0.7500\n",
      "Epoch 39/100\n",
      "62/62 [==============================] - 161s 3s/step - loss: 0.5000 - acc: 0.7595 - val_loss: 0.3972 - val_acc: 0.8750\n",
      "Epoch 40/100\n",
      "62/62 [==============================] - 147s 2s/step - loss: 0.4949 - acc: 0.7595 - val_loss: 0.4512 - val_acc: 0.8750\n",
      "Epoch 41/100\n",
      "62/62 [==============================] - 154s 2s/step - loss: 0.4936 - acc: 0.7640 - val_loss: 0.5633 - val_acc: 0.7188\n",
      "Epoch 42/100\n",
      "62/62 [==============================] - 156s 2s/step - loss: 0.4888 - acc: 0.7595 - val_loss: 0.4492 - val_acc: 0.7500\n",
      "Epoch 43/100\n",
      "62/62 [==============================] - 170s 3s/step - loss: 0.4912 - acc: 0.7620 - val_loss: 0.3304 - val_acc: 0.9062\n",
      "Epoch 44/100\n",
      "62/62 [==============================] - 163s 3s/step - loss: 0.4828 - acc: 0.7635 - val_loss: 0.3862 - val_acc: 0.8125\n",
      "Epoch 45/100\n",
      "62/62 [==============================] - 146s 2s/step - loss: 0.4802 - acc: 0.7710 - val_loss: 0.5429 - val_acc: 0.7812\n",
      "Epoch 46/100\n",
      "62/62 [==============================] - 150s 2s/step - loss: 0.4908 - acc: 0.7610 - val_loss: 0.5989 - val_acc: 0.7188\n",
      "Epoch 47/100\n",
      "62/62 [==============================] - 158s 3s/step - loss: 0.4839 - acc: 0.7700 - val_loss: 0.5677 - val_acc: 0.5938\n",
      "Epoch 48/100\n",
      "62/62 [==============================] - 163s 3s/step - loss: 0.4797 - acc: 0.7710 - val_loss: 0.5277 - val_acc: 0.7188\n",
      "Epoch 49/100\n",
      "62/62 [==============================] - 175s 3s/step - loss: 0.4729 - acc: 0.7710 - val_loss: 0.5250 - val_acc: 0.7500\n",
      "Epoch 50/100\n",
      "62/62 [==============================] - 182s 3s/step - loss: 0.4812 - acc: 0.7640 - val_loss: 0.5801 - val_acc: 0.7812\n",
      "Epoch 51/100\n",
      "62/62 [==============================] - 170s 3s/step - loss: 0.4567 - acc: 0.7800 - val_loss: 0.6521 - val_acc: 0.6875\n",
      "Epoch 52/100\n",
      "62/62 [==============================] - 171s 3s/step - loss: 0.4710 - acc: 0.7740 - val_loss: 0.4324 - val_acc: 0.7500\n",
      "Epoch 53/100\n",
      "62/62 [==============================] - 174s 3s/step - loss: 0.4735 - acc: 0.7670 - val_loss: 0.4296 - val_acc: 0.7812\n",
      "Epoch 54/100\n",
      "62/62 [==============================] - 178s 3s/step - loss: 0.4690 - acc: 0.7750 - val_loss: 0.4452 - val_acc: 0.7812\n",
      "Epoch 55/100\n",
      "62/62 [==============================] - 151s 2s/step - loss: 0.4744 - acc: 0.7750 - val_loss: 0.5013 - val_acc: 0.7188\n",
      "Epoch 56/100\n",
      "62/62 [==============================] - 144s 2s/step - loss: 0.4579 - acc: 0.7820 - val_loss: 0.4615 - val_acc: 0.7812\n",
      "Epoch 57/100\n",
      "62/62 [==============================] - 144s 2s/step - loss: 0.4574 - acc: 0.7895 - val_loss: 0.3462 - val_acc: 0.8438\n",
      "Epoch 58/100\n",
      "62/62 [==============================] - 143s 2s/step - loss: 0.4704 - acc: 0.7720 - val_loss: 0.6135 - val_acc: 0.6562\n",
      "Epoch 59/100\n",
      "62/62 [==============================] - 143s 2s/step - loss: 0.4616 - acc: 0.7825 - val_loss: 0.3301 - val_acc: 0.9062\n",
      "Epoch 60/100\n",
      "62/62 [==============================] - 144s 2s/step - loss: 0.4619 - acc: 0.7840 - val_loss: 0.4734 - val_acc: 0.7812\n",
      "Epoch 61/100\n",
      "62/62 [==============================] - 145s 2s/step - loss: 0.4551 - acc: 0.7885 - val_loss: 0.4627 - val_acc: 0.7812\n",
      "Epoch 62/100\n",
      "62/62 [==============================] - 144s 2s/step - loss: 0.4510 - acc: 0.7815 - val_loss: 0.5258 - val_acc: 0.7188\n",
      "Epoch 63/100\n",
      "62/62 [==============================] - 143s 2s/step - loss: 0.4635 - acc: 0.7770 - val_loss: 0.3905 - val_acc: 0.8438\n",
      "Epoch 64/100\n",
      "62/62 [==============================] - 144s 2s/step - loss: 0.4558 - acc: 0.7785 - val_loss: 0.4430 - val_acc: 0.8750\n",
      "Epoch 65/100\n",
      "62/62 [==============================] - 143s 2s/step - loss: 0.4500 - acc: 0.7825 - val_loss: 0.3166 - val_acc: 0.8750\n",
      "Epoch 66/100\n",
      "62/62 [==============================] - 143s 2s/step - loss: 0.4427 - acc: 0.7850 - val_loss: 0.2902 - val_acc: 0.9375\n",
      "Epoch 67/100\n",
      "62/62 [==============================] - 143s 2s/step - loss: 0.4428 - acc: 0.8055 - val_loss: 0.4098 - val_acc: 0.8438\n",
      "Epoch 68/100\n",
      "62/62 [==============================] - 143s 2s/step - loss: 0.4395 - acc: 0.7860 - val_loss: 0.2656 - val_acc: 0.8750\n",
      "Epoch 69/100\n",
      "62/62 [==============================] - 143s 2s/step - loss: 0.4402 - acc: 0.7890 - val_loss: 0.5086 - val_acc: 0.7500\n",
      "Epoch 70/100\n",
      "62/62 [==============================] - 144s 2s/step - loss: 0.4252 - acc: 0.8050 - val_loss: 0.3484 - val_acc: 0.8125\n",
      "Epoch 71/100\n",
      "62/62 [==============================] - 144s 2s/step - loss: 0.4376 - acc: 0.7915 - val_loss: 0.5042 - val_acc: 0.7188\n",
      "Epoch 72/100\n",
      "62/62 [==============================] - 143s 2s/step - loss: 0.4418 - acc: 0.7880 - val_loss: 0.5148 - val_acc: 0.6875\n",
      "Epoch 73/100\n",
      "62/62 [==============================] - 144s 2s/step - loss: 0.4401 - acc: 0.8010 - val_loss: 0.3777 - val_acc: 0.8438\n",
      "Epoch 74/100\n",
      "62/62 [==============================] - 202s 3s/step - loss: 0.4335 - acc: 0.8080 - val_loss: 0.3062 - val_acc: 0.9062\n",
      "Epoch 75/100\n",
      "62/62 [==============================] - 189s 3s/step - loss: 0.4315 - acc: 0.7980 - val_loss: 0.4608 - val_acc: 0.7188\n",
      "Epoch 76/100\n",
      "62/62 [==============================] - 185s 3s/step - loss: 0.4290 - acc: 0.7900 - val_loss: 0.4239 - val_acc: 0.7812\n",
      "Epoch 77/100\n",
      "62/62 [==============================] - 188s 3s/step - loss: 0.4296 - acc: 0.8045 - val_loss: 0.3548 - val_acc: 0.8438\n",
      "Epoch 78/100\n",
      "62/62 [==============================] - 181s 3s/step - loss: 0.4268 - acc: 0.8040 - val_loss: 0.5194 - val_acc: 0.7500\n",
      "Epoch 79/100\n",
      "62/62 [==============================] - 190s 3s/step - loss: 0.4175 - acc: 0.8125 - val_loss: 0.7111 - val_acc: 0.7188\n",
      "Epoch 80/100\n",
      "62/62 [==============================] - 179s 3s/step - loss: 0.4254 - acc: 0.8050 - val_loss: 0.5180 - val_acc: 0.7500\n",
      "Epoch 81/100\n",
      "62/62 [==============================] - 185s 3s/step - loss: 0.4207 - acc: 0.8005 - val_loss: 0.4666 - val_acc: 0.7500\n",
      "Epoch 82/100\n",
      "62/62 [==============================] - 203s 3s/step - loss: 0.4015 - acc: 0.8090 - val_loss: 0.4601 - val_acc: 0.6875\n",
      "Epoch 83/100\n",
      "62/62 [==============================] - 198s 3s/step - loss: 0.4159 - acc: 0.7995 - val_loss: 0.3437 - val_acc: 0.8750\n",
      "Epoch 84/100\n",
      "62/62 [==============================] - 199s 3s/step - loss: 0.4175 - acc: 0.8110 - val_loss: 0.5685 - val_acc: 0.7188\n",
      "Epoch 85/100\n",
      "62/62 [==============================] - 201s 3s/step - loss: 0.4166 - acc: 0.8130 - val_loss: 0.4996 - val_acc: 0.7500\n",
      "Epoch 86/100\n",
      "62/62 [==============================] - 203s 3s/step - loss: 0.4318 - acc: 0.7990 - val_loss: 0.4831 - val_acc: 0.6875\n",
      "Epoch 87/100\n",
      "62/62 [==============================] - 193s 3s/step - loss: 0.4157 - acc: 0.8105 - val_loss: 0.4524 - val_acc: 0.8125\n",
      "Epoch 88/100\n",
      "62/62 [==============================] - 189s 3s/step - loss: 0.4079 - acc: 0.8205 - val_loss: 0.3940 - val_acc: 0.8125\n",
      "Epoch 89/100\n",
      "62/62 [==============================] - 176s 3s/step - loss: 0.4334 - acc: 0.8020 - val_loss: 0.6688 - val_acc: 0.6875\n",
      "Epoch 90/100\n",
      "62/62 [==============================] - 172s 3s/step - loss: 0.4060 - acc: 0.8100 - val_loss: 0.5664 - val_acc: 0.7188\n",
      "Epoch 91/100\n",
      "62/62 [==============================] - 164s 3s/step - loss: 0.4093 - acc: 0.8130 - val_loss: 0.5252 - val_acc: 0.6875\n",
      "Epoch 92/100\n",
      "62/62 [==============================] - 162s 3s/step - loss: 0.4143 - acc: 0.8125 - val_loss: 0.5819 - val_acc: 0.6875\n",
      "Epoch 93/100\n",
      "62/62 [==============================] - 172s 3s/step - loss: 0.4042 - acc: 0.8165 - val_loss: 0.6478 - val_acc: 0.5938\n",
      "Epoch 94/100\n",
      "62/62 [==============================] - 156s 2s/step - loss: 0.4213 - acc: 0.8070 - val_loss: 0.3739 - val_acc: 0.7500\n",
      "Epoch 95/100\n",
      "62/62 [==============================] - 174s 3s/step - loss: 0.4003 - acc: 0.8185 - val_loss: 0.3368 - val_acc: 0.8750\n",
      "Epoch 96/100\n",
      "62/62 [==============================] - 146s 2s/step - loss: 0.4239 - acc: 0.8115 - val_loss: 0.2901 - val_acc: 0.8438\n",
      "Epoch 97/100\n",
      "62/62 [==============================] - 142s 2s/step - loss: 0.4081 - acc: 0.8100 - val_loss: 0.3383 - val_acc: 0.8750\n",
      "Epoch 98/100\n",
      "62/62 [==============================] - 140s 2s/step - loss: 0.4005 - acc: 0.8215 - val_loss: 0.3154 - val_acc: 0.8125\n",
      "Epoch 99/100\n",
      "62/62 [==============================] - 141s 2s/step - loss: 0.3908 - acc: 0.8355 - val_loss: 0.4745 - val_acc: 0.8438\n",
      "Epoch 100/100\n",
      "62/62 [==============================] - 142s 2s/step - loss: 0.3968 - acc: 0.8235 - val_loss: 0.6145 - val_acc: 0.7188\n"
     ]
    }
   ],
   "source": [
    "history=model.fit(train_generator,\n",
    "                 steps_per_epoch=2000/32,\n",
    "                 epochs=100,\n",
    "                 validation_data=validation_generator,\n",
    "                 validation_steps=1000/32)"
   ]
  },
  {
   "cell_type": "code",
   "execution_count": 14,
   "id": "5e9ef243",
   "metadata": {},
   "outputs": [
    {
     "data": {
      "image/png": "[encoded data removed]",
      "text/plain": [
       "<Figure size 576x360 with 1 Axes>"
      ]
     },
     "metadata": {
      "needs_background": "light"
     },
     "output_type": "display_data"
    }
   ],
   "source": [
    "pd.DataFrame(history.history).plot(figsize=(8,5))\n",
    "plt.grid(True)\n",
    "plt.gca().set_ylim(0,1)\n",
    "plt.show()"
   ]
  },
  {
   "cell_type": "code",
   "execution_count": 15,
   "id": "aa8782bc",
   "metadata": {},
   "outputs": [],
   "source": [
    "model.save('project.h5')"
   ]
  },
  {
   "cell_type": "code",
   "execution_count": 9,
   "id": "b00da96f",
   "metadata": {},
   "outputs": [
    {
     "name": "stdout",
     "output_type": "stream",
     "text": [
      "Found 2000 images belonging to 2 classes.\n",
      "Found 1000 images belonging to 2 classes.\n"
     ]
    }
   ],
   "source": [
    "train_datagen=ImageDataGenerator(rescale=1./255,\n",
    "                                rotation_range=40,\n",
    "                                width_shift_range=0.2,\n",
    "                                height_shift_range=0.2,\n",
    "                                shear_range=0.2,\n",
    "                                zoom_range=0.2,\n",
    "                                horizontal_flip=True)\n",
    "test_datagen=ImageDataGenerator(rescale=1./255)\n",
    "train_generator=train_datagen.flow_from_directory(\n",
    "train_dir,\n",
    "target_size=(150,150),\n",
    "batch_size=20,\n",
    "class_mode='binary')\n",
    "\n",
    "validation_generator=test_datagen.flow_from_directory(\n",
    "validation_dir,\n",
    "target_size=(150,150),\n",
    "batch_size=20,\n",
    "class_mode='binary')"
   ]
  },
  {
   "cell_type": "code",
   "execution_count": 24,
   "id": "5f0921ed",
   "metadata": {},
   "outputs": [],
   "source": [
    "from keras.applications import VGG16\n",
    "\n",
    "covo_base=VGG16(weights='imagenet',\n",
    "               include_top=False,\n",
    "               input_shape=(150,150,3))"
   ]
  },
  {
   "cell_type": "code",
   "execution_count": 12,
   "id": "200fb9ec",
   "metadata": {},
   "outputs": [
    {
     "name": "stdout",
     "output_type": "stream",
     "text": [
      "Model: \"vgg16\"\n",
      "_________________________________________________________________\n",
      " Layer (type)                Output Shape              Param #   \n",
      "=================================================================\n",
      " input_1 (InputLayer)        [(None, 150, 150, 3)]     0         \n",
      "                                                                 \n",
      " block1_conv1 (Conv2D)       (None, 150, 150, 64)      1792      \n",
      "                                                                 \n",
      " block1_conv2 (Conv2D)       (None, 150, 150, 64)      36928     \n",
      "                                                                 \n",
      " block1_pool (MaxPooling2D)  (None, 75, 75, 64)        0         \n",
      "                                                                 \n",
      " block2_conv1 (Conv2D)       (None, 75, 75, 128)       73856     \n",
      "                                                                 \n",
      " block2_conv2 (Conv2D)       (None, 75, 75, 128)       147584    \n",
      "                                                                 \n",
      " block2_pool (MaxPooling2D)  (None, 37, 37, 128)       0         \n",
      "                                                                 \n",
      " block3_conv1 (Conv2D)       (None, 37, 37, 256)       295168    \n",
      "                                                                 \n",
      " block3_conv2 (Conv2D)       (None, 37, 37, 256)       590080    \n",
      "                                                                 \n",
      " block3_conv3 (Conv2D)       (None, 37, 37, 256)       590080    \n",
      "                                                                 \n",
      " block3_pool (MaxPooling2D)  (None, 18, 18, 256)       0         \n",
      "                                                                 \n",
      " block4_conv1 (Conv2D)       (None, 18, 18, 512)       1180160   \n",
      "                                                                 \n",
      " block4_conv2 (Conv2D)       (None, 18, 18, 512)       2359808   \n",
      "                                                                 \n",
      " block4_conv3 (Conv2D)       (None, 18, 18, 512)       2359808   \n",
      "                                                                 \n",
      " block4_pool (MaxPooling2D)  (None, 9, 9, 512)         0         \n",
      "                                                                 \n",
      " block5_conv1 (Conv2D)       (None, 9, 9, 512)         2359808   \n",
      "                                                                 \n",
      " block5_conv2 (Conv2D)       (None, 9, 9, 512)         2359808   \n",
      "                                                                 \n",
      " block5_conv3 (Conv2D)       (None, 9, 9, 512)         2359808   \n",
      "                                                                 \n",
      " block5_pool (MaxPooling2D)  (None, 4, 4, 512)         0         \n",
      "                                                                 \n",
      "=================================================================\n",
      "Total params: 14,714,688\n",
      "Trainable params: 14,714,688\n",
      "Non-trainable params: 0\n",
      "_________________________________________________________________\n"
     ]
    }
   ],
   "source": [
    "covo_base.summary()"
   ]
  },
  {
   "cell_type": "code",
   "execution_count": 13,
   "id": "1319fba2",
   "metadata": {},
   "outputs": [
    {
     "ename": "NameError",
     "evalue": "name 'model' is not defined",
     "output_type": "error",
     "traceback": [
      "\u001b[0;31m---------------------------------------------------------------------------\u001b[0m",
      "\u001b[0;31mNameError\u001b[0m                                 Traceback (most recent call last)",
      "Input \u001b[0;32mIn [13]\u001b[0m, in \u001b[0;36m<cell line: 1>\u001b[0;34m()\u001b[0m\n\u001b[0;32m----> 1\u001b[0m \u001b[38;5;28;01mdel\u001b[39;00m model\n",
      "\u001b[0;31mNameError\u001b[0m: name 'model' is not defined"
     ]
    }
   ],
   "source": [
    "del model\n"
   ]
  },
  {
   "cell_type": "code",
   "execution_count": 28,
   "id": "fc621256",
   "metadata": {},
   "outputs": [],
   "source": [
    "model=models.Sequential()"
   ]
  },
  {
   "cell_type": "code",
   "execution_count": 15,
   "id": "0d85c1b9",
   "metadata": {},
   "outputs": [],
   "source": [
    "model.add(covo_base)\n",
    "model.add(layers.Flatten())\n",
    "model.add(layers.Dense(256,activation='relu'))\n",
    "model.add(layers.Dense(1,activation='sigmoid'))"
   ]
  },
  {
   "cell_type": "code",
   "execution_count": 19,
   "id": "1358a12d",
   "metadata": {},
   "outputs": [
    {
     "name": "stdout",
     "output_type": "stream",
     "text": [
      "Model: \"sequential\"\n",
      "_________________________________________________________________\n",
      " Layer (type)                Output Shape              Param #   \n",
      "=================================================================\n",
      " vgg16 (Functional)          (None, 4, 4, 512)         14714688  \n",
      "                                                                 \n",
      " flatten (Flatten)           (None, 8192)              0         \n",
      "                                                                 \n",
      " dense (Dense)               (None, 256)               2097408   \n",
      "                                                                 \n",
      " dense_1 (Dense)             (None, 1)                 257       \n",
      "                                                                 \n",
      "=================================================================\n",
      "Total params: 16,812,353\n",
      "Trainable params: 16,812,353\n",
      "Non-trainable params: 0\n",
      "_________________________________________________________________\n"
     ]
    }
   ],
   "source": [
    "model.summary()"
   ]
  },
  {
   "cell_type": "code",
   "execution_count": 25,
   "id": "9b34d3bc",
   "metadata": {},
   "outputs": [],
   "source": [
    "covo_base.trainable=False"
   ]
  },
  {
   "cell_type": "code",
   "execution_count": 30,
   "id": "3b8e8426",
   "metadata": {},
   "outputs": [
    {
     "name": "stdout",
     "output_type": "stream",
     "text": [
      "Model: \"sequential_1\"\n",
      "_________________________________________________________________\n",
      " Layer (type)                Output Shape              Param #   \n",
      "=================================================================\n",
      " vgg16 (Functional)          (None, 4, 4, 512)         14714688  \n",
      "                                                                 \n",
      " flatten_1 (Flatten)         (None, 8192)              0         \n",
      "                                                                 \n",
      " dense_2 (Dense)             (None, 256)               2097408   \n",
      "                                                                 \n",
      " dense_3 (Dense)             (None, 1)                 257       \n",
      "                                                                 \n",
      "=================================================================\n",
      "Total params: 16,812,353\n",
      "Trainable params: 2,097,665\n",
      "Non-trainable params: 14,714,688\n",
      "_________________________________________________________________\n"
     ]
    }
   ],
   "source": [
    "model.summary()"
   ]
  },
  {
   "cell_type": "code",
   "execution_count": 29,
   "id": "1fa0c733",
   "metadata": {},
   "outputs": [],
   "source": [
    "model.add(covo_base)\n",
    "model.add(layers.Flatten())\n",
    "model.add(layers.Dense(256,activation='relu'))\n",
    "model.add(layers.Dense(1,activation='sigmoid'))"
   ]
  },
  {
   "cell_type": "code",
   "execution_count": 23,
   "id": "59230bcc",
   "metadata": {},
   "outputs": [],
   "source": [
    "del model"
   ]
  },
  {
   "cell_type": "code",
   "execution_count": 31,
   "id": "866588b3",
   "metadata": {},
   "outputs": [],
   "source": [
    "model.compile(loss='binary_crossentropy',\n",
    "             optimizer=optimizers.RMSprop(learning_rate=2e-5),\n",
    "             metrics=['acc'])"
   ]
  },
  {
   "cell_type": "code",
   "execution_count": 32,
   "id": "a39c1939",
   "metadata": {},
   "outputs": [],
   "source": [
    "checkpoint_cb=keras.callbacks.ModelCheckpoint('best_model_VGG.h5',save_best_only=True)"
   ]
  },
  {
   "cell_type": "code",
   "execution_count": 33,
   "id": "420329aa",
   "metadata": {},
   "outputs": [
    {
     "name": "stdout",
     "output_type": "stream",
     "text": [
      "Epoch 1/30\n",
      "  3/100 [..............................] - ETA: 18:23 - loss: 0.7072 - acc: 0.5667"
     ]
    },
    {
     "ename": "KeyboardInterrupt",
     "evalue": "",
     "output_type": "error",
     "traceback": [
      "\u001b[0;31m---------------------------------------------------------------------------\u001b[0m",
      "\u001b[0;31mKeyboardInterrupt\u001b[0m                         Traceback (most recent call last)",
      "Input \u001b[0;32mIn [33]\u001b[0m, in \u001b[0;36m<cell line: 1>\u001b[0;34m()\u001b[0m\n\u001b[0;32m----> 1\u001b[0m history\u001b[38;5;241m=\u001b[39m\u001b[43mmodel\u001b[49m\u001b[38;5;241;43m.\u001b[39;49m\u001b[43mfit\u001b[49m\u001b[43m(\u001b[49m\u001b[43mtrain_generator\u001b[49m\u001b[43m,\u001b[49m\n\u001b[1;32m      2\u001b[0m \u001b[43m                 \u001b[49m\u001b[43msteps_per_epoch\u001b[49m\u001b[38;5;241;43m=\u001b[39;49m\u001b[38;5;241;43m100\u001b[39;49m\u001b[43m,\u001b[49m\n\u001b[1;32m      3\u001b[0m \u001b[43m                 \u001b[49m\u001b[43mepochs\u001b[49m\u001b[38;5;241;43m=\u001b[39;49m\u001b[38;5;241;43m30\u001b[39;49m\u001b[43m,\u001b[49m\n\u001b[1;32m      4\u001b[0m \u001b[43m                 \u001b[49m\u001b[43mvalidation_data\u001b[49m\u001b[38;5;241;43m=\u001b[39;49m\u001b[43mvalidation_generator\u001b[49m\u001b[43m,\u001b[49m\n\u001b[1;32m      5\u001b[0m \u001b[43m                 \u001b[49m\u001b[43mvalidation_steps\u001b[49m\u001b[38;5;241;43m=\u001b[39;49m\u001b[38;5;241;43m50\u001b[39;49m\u001b[43m,\u001b[49m\n\u001b[1;32m      6\u001b[0m \u001b[43m                 \u001b[49m\u001b[43mcallbacks\u001b[49m\u001b[38;5;241;43m=\u001b[39;49m\u001b[43m[\u001b[49m\u001b[43mcheckpoint_cb\u001b[49m\u001b[43m]\u001b[49m\u001b[43m)\u001b[49m\n",
      "File \u001b[0;32m~/anaconda3/lib/python3.9/site-packages/keras/utils/traceback_utils.py:64\u001b[0m, in \u001b[0;36mfilter_traceback.<locals>.error_handler\u001b[0;34m(*args, **kwargs)\u001b[0m\n\u001b[1;32m     62\u001b[0m filtered_tb \u001b[38;5;241m=\u001b[39m \u001b[38;5;28;01mNone\u001b[39;00m\n\u001b[1;32m     63\u001b[0m \u001b[38;5;28;01mtry\u001b[39;00m:\n\u001b[0;32m---> 64\u001b[0m   \u001b[38;5;28;01mreturn\u001b[39;00m \u001b[43mfn\u001b[49m\u001b[43m(\u001b[49m\u001b[38;5;241;43m*\u001b[39;49m\u001b[43margs\u001b[49m\u001b[43m,\u001b[49m\u001b[43m \u001b[49m\u001b[38;5;241;43m*\u001b[39;49m\u001b[38;5;241;43m*\u001b[39;49m\u001b[43mkwargs\u001b[49m\u001b[43m)\u001b[49m\n\u001b[1;32m     65\u001b[0m \u001b[38;5;28;01mexcept\u001b[39;00m \u001b[38;5;167;01mException\u001b[39;00m \u001b[38;5;28;01mas\u001b[39;00m e:  \u001b[38;5;66;03m# pylint: disable=broad-except\u001b[39;00m\n\u001b[1;32m     66\u001b[0m   filtered_tb \u001b[38;5;241m=\u001b[39m _process_traceback_frames(e\u001b[38;5;241m.\u001b[39m__traceback__)\n",
      "File \u001b[0;32m~/anaconda3/lib/python3.9/site-packages/keras/engine/training.py:1409\u001b[0m, in \u001b[0;36mModel.fit\u001b[0;34m(self, x, y, batch_size, epochs, verbose, callbacks, validation_split, validation_data, shuffle, class_weight, sample_weight, initial_epoch, steps_per_epoch, validation_steps, validation_batch_size, validation_freq, max_queue_size, workers, use_multiprocessing)\u001b[0m\n\u001b[1;32m   1402\u001b[0m \u001b[38;5;28;01mwith\u001b[39;00m tf\u001b[38;5;241m.\u001b[39mprofiler\u001b[38;5;241m.\u001b[39mexperimental\u001b[38;5;241m.\u001b[39mTrace(\n\u001b[1;32m   1403\u001b[0m     \u001b[38;5;124m'\u001b[39m\u001b[38;5;124mtrain\u001b[39m\u001b[38;5;124m'\u001b[39m,\n\u001b[1;32m   1404\u001b[0m     epoch_num\u001b[38;5;241m=\u001b[39mepoch,\n\u001b[1;32m   1405\u001b[0m     step_num\u001b[38;5;241m=\u001b[39mstep,\n\u001b[1;32m   1406\u001b[0m     batch_size\u001b[38;5;241m=\u001b[39mbatch_size,\n\u001b[1;32m   1407\u001b[0m     _r\u001b[38;5;241m=\u001b[39m\u001b[38;5;241m1\u001b[39m):\n\u001b[1;32m   1408\u001b[0m   callbacks\u001b[38;5;241m.\u001b[39mon_train_batch_begin(step)\n\u001b[0;32m-> 1409\u001b[0m   tmp_logs \u001b[38;5;241m=\u001b[39m \u001b[38;5;28;43mself\u001b[39;49m\u001b[38;5;241;43m.\u001b[39;49m\u001b[43mtrain_function\u001b[49m\u001b[43m(\u001b[49m\u001b[43miterator\u001b[49m\u001b[43m)\u001b[49m\n\u001b[1;32m   1410\u001b[0m   \u001b[38;5;28;01mif\u001b[39;00m data_handler\u001b[38;5;241m.\u001b[39mshould_sync:\n\u001b[1;32m   1411\u001b[0m     context\u001b[38;5;241m.\u001b[39masync_wait()\n",
      "File \u001b[0;32m~/anaconda3/lib/python3.9/site-packages/tensorflow/python/util/traceback_utils.py:150\u001b[0m, in \u001b[0;36mfilter_traceback.<locals>.error_handler\u001b[0;34m(*args, **kwargs)\u001b[0m\n\u001b[1;32m    148\u001b[0m filtered_tb \u001b[38;5;241m=\u001b[39m \u001b[38;5;28;01mNone\u001b[39;00m\n\u001b[1;32m    149\u001b[0m \u001b[38;5;28;01mtry\u001b[39;00m:\n\u001b[0;32m--> 150\u001b[0m   \u001b[38;5;28;01mreturn\u001b[39;00m \u001b[43mfn\u001b[49m\u001b[43m(\u001b[49m\u001b[38;5;241;43m*\u001b[39;49m\u001b[43margs\u001b[49m\u001b[43m,\u001b[49m\u001b[43m \u001b[49m\u001b[38;5;241;43m*\u001b[39;49m\u001b[38;5;241;43m*\u001b[39;49m\u001b[43mkwargs\u001b[49m\u001b[43m)\u001b[49m\n\u001b[1;32m    151\u001b[0m \u001b[38;5;28;01mexcept\u001b[39;00m \u001b[38;5;167;01mException\u001b[39;00m \u001b[38;5;28;01mas\u001b[39;00m e:\n\u001b[1;32m    152\u001b[0m   filtered_tb \u001b[38;5;241m=\u001b[39m _process_traceback_frames(e\u001b[38;5;241m.\u001b[39m__traceback__)\n",
      "File \u001b[0;32m~/anaconda3/lib/python3.9/site-packages/tensorflow/python/eager/def_function.py:915\u001b[0m, in \u001b[0;36mFunction.__call__\u001b[0;34m(self, *args, **kwds)\u001b[0m\n\u001b[1;32m    912\u001b[0m compiler \u001b[38;5;241m=\u001b[39m \u001b[38;5;124m\"\u001b[39m\u001b[38;5;124mxla\u001b[39m\u001b[38;5;124m\"\u001b[39m \u001b[38;5;28;01mif\u001b[39;00m \u001b[38;5;28mself\u001b[39m\u001b[38;5;241m.\u001b[39m_jit_compile \u001b[38;5;28;01melse\u001b[39;00m \u001b[38;5;124m\"\u001b[39m\u001b[38;5;124mnonXla\u001b[39m\u001b[38;5;124m\"\u001b[39m\n\u001b[1;32m    914\u001b[0m \u001b[38;5;28;01mwith\u001b[39;00m OptionalXlaContext(\u001b[38;5;28mself\u001b[39m\u001b[38;5;241m.\u001b[39m_jit_compile):\n\u001b[0;32m--> 915\u001b[0m   result \u001b[38;5;241m=\u001b[39m \u001b[38;5;28;43mself\u001b[39;49m\u001b[38;5;241;43m.\u001b[39;49m\u001b[43m_call\u001b[49m\u001b[43m(\u001b[49m\u001b[38;5;241;43m*\u001b[39;49m\u001b[43margs\u001b[49m\u001b[43m,\u001b[49m\u001b[43m \u001b[49m\u001b[38;5;241;43m*\u001b[39;49m\u001b[38;5;241;43m*\u001b[39;49m\u001b[43mkwds\u001b[49m\u001b[43m)\u001b[49m\n\u001b[1;32m    917\u001b[0m new_tracing_count \u001b[38;5;241m=\u001b[39m \u001b[38;5;28mself\u001b[39m\u001b[38;5;241m.\u001b[39mexperimental_get_tracing_count()\n\u001b[1;32m    918\u001b[0m without_tracing \u001b[38;5;241m=\u001b[39m (tracing_count \u001b[38;5;241m==\u001b[39m new_tracing_count)\n",
      "File \u001b[0;32m~/anaconda3/lib/python3.9/site-packages/tensorflow/python/eager/def_function.py:947\u001b[0m, in \u001b[0;36mFunction._call\u001b[0;34m(self, *args, **kwds)\u001b[0m\n\u001b[1;32m    944\u001b[0m   \u001b[38;5;28mself\u001b[39m\u001b[38;5;241m.\u001b[39m_lock\u001b[38;5;241m.\u001b[39mrelease()\n\u001b[1;32m    945\u001b[0m   \u001b[38;5;66;03m# In this case we have created variables on the first call, so we run the\u001b[39;00m\n\u001b[1;32m    946\u001b[0m   \u001b[38;5;66;03m# defunned version which is guaranteed to never create variables.\u001b[39;00m\n\u001b[0;32m--> 947\u001b[0m   \u001b[38;5;28;01mreturn\u001b[39;00m \u001b[38;5;28;43mself\u001b[39;49m\u001b[38;5;241;43m.\u001b[39;49m\u001b[43m_stateless_fn\u001b[49m\u001b[43m(\u001b[49m\u001b[38;5;241;43m*\u001b[39;49m\u001b[43margs\u001b[49m\u001b[43m,\u001b[49m\u001b[43m \u001b[49m\u001b[38;5;241;43m*\u001b[39;49m\u001b[38;5;241;43m*\u001b[39;49m\u001b[43mkwds\u001b[49m\u001b[43m)\u001b[49m  \u001b[38;5;66;03m# pylint: disable=not-callable\u001b[39;00m\n\u001b[1;32m    948\u001b[0m \u001b[38;5;28;01melif\u001b[39;00m \u001b[38;5;28mself\u001b[39m\u001b[38;5;241m.\u001b[39m_stateful_fn \u001b[38;5;129;01mis\u001b[39;00m \u001b[38;5;129;01mnot\u001b[39;00m \u001b[38;5;28;01mNone\u001b[39;00m:\n\u001b[1;32m    949\u001b[0m   \u001b[38;5;66;03m# Release the lock early so that multiple threads can perform the call\u001b[39;00m\n\u001b[1;32m    950\u001b[0m   \u001b[38;5;66;03m# in parallel.\u001b[39;00m\n\u001b[1;32m    951\u001b[0m   \u001b[38;5;28mself\u001b[39m\u001b[38;5;241m.\u001b[39m_lock\u001b[38;5;241m.\u001b[39mrelease()\n",
      "File \u001b[0;32m~/anaconda3/lib/python3.9/site-packages/tensorflow/python/eager/function.py:2453\u001b[0m, in \u001b[0;36mFunction.__call__\u001b[0;34m(self, *args, **kwargs)\u001b[0m\n\u001b[1;32m   2450\u001b[0m \u001b[38;5;28;01mwith\u001b[39;00m \u001b[38;5;28mself\u001b[39m\u001b[38;5;241m.\u001b[39m_lock:\n\u001b[1;32m   2451\u001b[0m   (graph_function,\n\u001b[1;32m   2452\u001b[0m    filtered_flat_args) \u001b[38;5;241m=\u001b[39m \u001b[38;5;28mself\u001b[39m\u001b[38;5;241m.\u001b[39m_maybe_define_function(args, kwargs)\n\u001b[0;32m-> 2453\u001b[0m \u001b[38;5;28;01mreturn\u001b[39;00m \u001b[43mgraph_function\u001b[49m\u001b[38;5;241;43m.\u001b[39;49m\u001b[43m_call_flat\u001b[49m\u001b[43m(\u001b[49m\n\u001b[1;32m   2454\u001b[0m \u001b[43m    \u001b[49m\u001b[43mfiltered_flat_args\u001b[49m\u001b[43m,\u001b[49m\u001b[43m \u001b[49m\u001b[43mcaptured_inputs\u001b[49m\u001b[38;5;241;43m=\u001b[39;49m\u001b[43mgraph_function\u001b[49m\u001b[38;5;241;43m.\u001b[39;49m\u001b[43mcaptured_inputs\u001b[49m\u001b[43m)\u001b[49m\n",
      "File \u001b[0;32m~/anaconda3/lib/python3.9/site-packages/tensorflow/python/eager/function.py:1860\u001b[0m, in \u001b[0;36mConcreteFunction._call_flat\u001b[0;34m(self, args, captured_inputs, cancellation_manager)\u001b[0m\n\u001b[1;32m   1856\u001b[0m possible_gradient_type \u001b[38;5;241m=\u001b[39m gradients_util\u001b[38;5;241m.\u001b[39mPossibleTapeGradientTypes(args)\n\u001b[1;32m   1857\u001b[0m \u001b[38;5;28;01mif\u001b[39;00m (possible_gradient_type \u001b[38;5;241m==\u001b[39m gradients_util\u001b[38;5;241m.\u001b[39mPOSSIBLE_GRADIENT_TYPES_NONE\n\u001b[1;32m   1858\u001b[0m     \u001b[38;5;129;01mand\u001b[39;00m executing_eagerly):\n\u001b[1;32m   1859\u001b[0m   \u001b[38;5;66;03m# No tape is watching; skip to running the function.\u001b[39;00m\n\u001b[0;32m-> 1860\u001b[0m   \u001b[38;5;28;01mreturn\u001b[39;00m \u001b[38;5;28mself\u001b[39m\u001b[38;5;241m.\u001b[39m_build_call_outputs(\u001b[38;5;28;43mself\u001b[39;49m\u001b[38;5;241;43m.\u001b[39;49m\u001b[43m_inference_function\u001b[49m\u001b[38;5;241;43m.\u001b[39;49m\u001b[43mcall\u001b[49m\u001b[43m(\u001b[49m\n\u001b[1;32m   1861\u001b[0m \u001b[43m      \u001b[49m\u001b[43mctx\u001b[49m\u001b[43m,\u001b[49m\u001b[43m \u001b[49m\u001b[43margs\u001b[49m\u001b[43m,\u001b[49m\u001b[43m \u001b[49m\u001b[43mcancellation_manager\u001b[49m\u001b[38;5;241;43m=\u001b[39;49m\u001b[43mcancellation_manager\u001b[49m\u001b[43m)\u001b[49m)\n\u001b[1;32m   1862\u001b[0m forward_backward \u001b[38;5;241m=\u001b[39m \u001b[38;5;28mself\u001b[39m\u001b[38;5;241m.\u001b[39m_select_forward_and_backward_functions(\n\u001b[1;32m   1863\u001b[0m     args,\n\u001b[1;32m   1864\u001b[0m     possible_gradient_type,\n\u001b[1;32m   1865\u001b[0m     executing_eagerly)\n\u001b[1;32m   1866\u001b[0m forward_function, args_with_tangents \u001b[38;5;241m=\u001b[39m forward_backward\u001b[38;5;241m.\u001b[39mforward()\n",
      "File \u001b[0;32m~/anaconda3/lib/python3.9/site-packages/tensorflow/python/eager/function.py:497\u001b[0m, in \u001b[0;36m_EagerDefinedFunction.call\u001b[0;34m(self, ctx, args, cancellation_manager)\u001b[0m\n\u001b[1;32m    495\u001b[0m \u001b[38;5;28;01mwith\u001b[39;00m _InterpolateFunctionError(\u001b[38;5;28mself\u001b[39m):\n\u001b[1;32m    496\u001b[0m   \u001b[38;5;28;01mif\u001b[39;00m cancellation_manager \u001b[38;5;129;01mis\u001b[39;00m \u001b[38;5;28;01mNone\u001b[39;00m:\n\u001b[0;32m--> 497\u001b[0m     outputs \u001b[38;5;241m=\u001b[39m \u001b[43mexecute\u001b[49m\u001b[38;5;241;43m.\u001b[39;49m\u001b[43mexecute\u001b[49m\u001b[43m(\u001b[49m\n\u001b[1;32m    498\u001b[0m \u001b[43m        \u001b[49m\u001b[38;5;28;43mstr\u001b[39;49m\u001b[43m(\u001b[49m\u001b[38;5;28;43mself\u001b[39;49m\u001b[38;5;241;43m.\u001b[39;49m\u001b[43msignature\u001b[49m\u001b[38;5;241;43m.\u001b[39;49m\u001b[43mname\u001b[49m\u001b[43m)\u001b[49m\u001b[43m,\u001b[49m\n\u001b[1;32m    499\u001b[0m \u001b[43m        \u001b[49m\u001b[43mnum_outputs\u001b[49m\u001b[38;5;241;43m=\u001b[39;49m\u001b[38;5;28;43mself\u001b[39;49m\u001b[38;5;241;43m.\u001b[39;49m\u001b[43m_num_outputs\u001b[49m\u001b[43m,\u001b[49m\n\u001b[1;32m    500\u001b[0m \u001b[43m        \u001b[49m\u001b[43minputs\u001b[49m\u001b[38;5;241;43m=\u001b[39;49m\u001b[43margs\u001b[49m\u001b[43m,\u001b[49m\n\u001b[1;32m    501\u001b[0m \u001b[43m        \u001b[49m\u001b[43mattrs\u001b[49m\u001b[38;5;241;43m=\u001b[39;49m\u001b[43mattrs\u001b[49m\u001b[43m,\u001b[49m\n\u001b[1;32m    502\u001b[0m \u001b[43m        \u001b[49m\u001b[43mctx\u001b[49m\u001b[38;5;241;43m=\u001b[39;49m\u001b[43mctx\u001b[49m\u001b[43m)\u001b[49m\n\u001b[1;32m    503\u001b[0m   \u001b[38;5;28;01melse\u001b[39;00m:\n\u001b[1;32m    504\u001b[0m     outputs \u001b[38;5;241m=\u001b[39m execute\u001b[38;5;241m.\u001b[39mexecute_with_cancellation(\n\u001b[1;32m    505\u001b[0m         \u001b[38;5;28mstr\u001b[39m(\u001b[38;5;28mself\u001b[39m\u001b[38;5;241m.\u001b[39msignature\u001b[38;5;241m.\u001b[39mname),\n\u001b[1;32m    506\u001b[0m         num_outputs\u001b[38;5;241m=\u001b[39m\u001b[38;5;28mself\u001b[39m\u001b[38;5;241m.\u001b[39m_num_outputs,\n\u001b[0;32m   (...)\u001b[0m\n\u001b[1;32m    509\u001b[0m         ctx\u001b[38;5;241m=\u001b[39mctx,\n\u001b[1;32m    510\u001b[0m         cancellation_manager\u001b[38;5;241m=\u001b[39mcancellation_manager)\n",
      "File \u001b[0;32m~/anaconda3/lib/python3.9/site-packages/tensorflow/python/eager/execute.py:54\u001b[0m, in \u001b[0;36mquick_execute\u001b[0;34m(op_name, num_outputs, inputs, attrs, ctx, name)\u001b[0m\n\u001b[1;32m     52\u001b[0m \u001b[38;5;28;01mtry\u001b[39;00m:\n\u001b[1;32m     53\u001b[0m   ctx\u001b[38;5;241m.\u001b[39mensure_initialized()\n\u001b[0;32m---> 54\u001b[0m   tensors \u001b[38;5;241m=\u001b[39m \u001b[43mpywrap_tfe\u001b[49m\u001b[38;5;241;43m.\u001b[39;49m\u001b[43mTFE_Py_Execute\u001b[49m\u001b[43m(\u001b[49m\u001b[43mctx\u001b[49m\u001b[38;5;241;43m.\u001b[39;49m\u001b[43m_handle\u001b[49m\u001b[43m,\u001b[49m\u001b[43m \u001b[49m\u001b[43mdevice_name\u001b[49m\u001b[43m,\u001b[49m\u001b[43m \u001b[49m\u001b[43mop_name\u001b[49m\u001b[43m,\u001b[49m\n\u001b[1;32m     55\u001b[0m \u001b[43m                                      \u001b[49m\u001b[43minputs\u001b[49m\u001b[43m,\u001b[49m\u001b[43m \u001b[49m\u001b[43mattrs\u001b[49m\u001b[43m,\u001b[49m\u001b[43m \u001b[49m\u001b[43mnum_outputs\u001b[49m\u001b[43m)\u001b[49m\n\u001b[1;32m     56\u001b[0m \u001b[38;5;28;01mexcept\u001b[39;00m core\u001b[38;5;241m.\u001b[39m_NotOkStatusException \u001b[38;5;28;01mas\u001b[39;00m e:\n\u001b[1;32m     57\u001b[0m   \u001b[38;5;28;01mif\u001b[39;00m name \u001b[38;5;129;01mis\u001b[39;00m \u001b[38;5;129;01mnot\u001b[39;00m \u001b[38;5;28;01mNone\u001b[39;00m:\n",
      "\u001b[0;31mKeyboardInterrupt\u001b[0m: "
     ]
    }
   ],
   "source": [
    "history=model.fit(train_generator,\n",
    "                 steps_per_epoch=100,\n",
    "                 epochs=30,\n",
    "                 validation_data=validation_generator,\n",
    "                 validation_steps=50,\n",
    "                 callbacks=[checkpoint_cb])"
   ]
  },
  {
   "cell_type": "code",
   "execution_count": null,
   "id": "3845ab17",
   "metadata": {},
   "outputs": [],
   "source": []
  },
  {
   "cell_type": "code",
   "execution_count": null,
   "id": "13f1be4d",
   "metadata": {},
   "outputs": [],
   "source": []
  },
  {
   "cell_type": "code",
   "execution_count": null,
   "id": "f02c5ad1",
   "metadata": {},
   "outputs": [],
   "source": []
  },
  {
   "cell_type": "code",
   "execution_count": null,
   "id": "7034463c",
   "metadata": {},
   "outputs": [],
   "source": []
  },
  {
   "cell_type": "code",
   "execution_count": null,
   "id": "dae06771",
   "metadata": {},
   "outputs": [],
   "source": []
  },
  {
   "cell_type": "code",
   "execution_count": null,
   "id": "cdcca676",
   "metadata": {},
   "outputs": [],
   "source": []
  }
 ],
 "metadata": {
  "kernelspec": {
   "display_name": "Python 3 (ipykernel)",
   "language": "python",
   "name": "python3"
  },
  "language_info": {
   "codemirror_mode": {
    "name": "ipython",
    "version": 3
   },
   "file_extension": ".py",
   "mimetype": "text/x-python",
   "name": "python",
   "nbconvert_exporter": "python",
   "pygments_lexer": "ipython3",
   "version": "3.9.12"
  }
 },
 "nbformat": 4,
 "nbformat_minor": 5
}
